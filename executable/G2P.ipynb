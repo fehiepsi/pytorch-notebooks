{
 "cells": [
  {
   "cell_type": "markdown",
   "metadata": {
    "collapsed": true,
    "deletable": true,
    "editable": true
   },
   "source": [
    "Data: https://github.com/cmusphinx/cmudict\n",
    "\n",
    "Paper: https://arxiv.org/pdf/1506.00196.pdf"
   ]
  },
  {
   "cell_type": "code",
   "execution_count": 1,
   "metadata": {
    "ExecuteTime": {
     "end_time": "2017-04-08T05:30:03.150773Z",
     "start_time": "2017-04-08T14:29:59.971138+09:00"
    },
    "collapsed": false,
    "deletable": true,
    "editable": true
   },
   "outputs": [
    {
     "name": "stdout",
     "output_type": "stream",
     "text": [
      "--2017-04-08 14:29:59--  https://github.com/cmusphinx/cmudict/archive/master.zip\n",
      "Resolving github.com (github.com)... 192.30.255.112, 192.30.255.113\n",
      "Connecting to github.com (github.com)|192.30.255.112|:443... connected.\n",
      "HTTP request sent, awaiting response... 302 Found\n",
      "Location: https://codeload.github.com/cmusphinx/cmudict/zip/master [following]\n",
      "--2017-04-08 14:30:00--  https://codeload.github.com/cmusphinx/cmudict/zip/master\n",
      "Resolving codeload.github.com (codeload.github.com)... 192.30.253.121, 192.30.253.120\n",
      "Connecting to codeload.github.com (codeload.github.com)|192.30.253.121|:443... connected.\n",
      "HTTP request sent, awaiting response... 200 OK\n",
      "Length: 922354 (901K) [application/zip]\n",
      "Saving to: ‘../data/cmudict.zip’\n",
      "\n",
      "../data/cmudict.zip 100%[===================>] 900.74K   670KB/s    in 1.3s    \n",
      "\n",
      "2017-04-08 14:30:03 (670 KB/s) - ‘../data/cmudict.zip’ saved [922354/922354]\n",
      "\n"
     ]
    }
   ],
   "source": [
    "!wget https://github.com/cmusphinx/cmudict/archive/master.zip -O ../data/cmudict.zip"
   ]
  },
  {
   "cell_type": "code",
   "execution_count": 20,
   "metadata": {
    "ExecuteTime": {
     "end_time": "2017-04-08T05:59:53.864947Z",
     "start_time": "2017-04-08T14:59:53.718718+09:00"
    },
    "collapsed": false,
    "deletable": true,
    "editable": true
   },
   "outputs": [
    {
     "name": "stdout",
     "output_type": "stream",
     "text": [
      "Archive:  ../data/cmudict.zip\r\n",
      "132be0d63ec0a6179d860114d7604e315541d94a\r\n",
      "   creating: ../data/cmudict-master/\r\n",
      "  inflating: ../data/cmudict-master/LICENSE  \r\n",
      "  inflating: ../data/cmudict-master/README  \r\n",
      "  inflating: ../data/cmudict-master/README.developer  \r\n",
      "  inflating: ../data/cmudict-master/cmudict.dict  \r\n",
      "  inflating: ../data/cmudict-master/cmudict.phones  \r\n",
      "  inflating: ../data/cmudict-master/cmudict.symbols  \r\n",
      "  inflating: ../data/cmudict-master/cmudict.vp  \r\n"
     ]
    }
   ],
   "source": [
    "!unzip ../data/cmudict.zip -d ../data/"
   ]
  },
  {
   "cell_type": "code",
   "execution_count": 222,
   "metadata": {
    "ExecuteTime": {
     "end_time": "2017-04-08T11:58:20.707082Z",
     "start_time": "2017-04-08T20:58:20.703258+09:00"
    },
    "collapsed": true,
    "deletable": true,
    "editable": true
   },
   "outputs": [],
   "source": [
    "import string\n",
    "import re\n",
    "import random"
   ]
  },
  {
   "cell_type": "code",
   "execution_count": 119,
   "metadata": {
    "ExecuteTime": {
     "end_time": "2017-04-08T07:45:02.903245Z",
     "start_time": "2017-04-08T16:45:02.899649+09:00"
    },
    "collapsed": false,
    "deletable": true,
    "editable": true
   },
   "outputs": [],
   "source": [
    "with open('../data/cmudict-master/cmudict.symbols') as f:\n",
    "    phoneme_symbols = [x.strip() for x in f.readlines()]"
   ]
  },
  {
   "cell_type": "code",
   "execution_count": 177,
   "metadata": {
    "ExecuteTime": {
     "end_time": "2017-04-08T09:28:03.286372Z",
     "start_time": "2017-04-08T18:28:03.277722+09:00"
    },
    "collapsed": true,
    "deletable": true,
    "editable": true
   },
   "outputs": [],
   "source": [
    "class SeqDict(object):\n",
    "    def __init__(self, vocab):\n",
    "        self.index2item = ['START']\n",
    "        self.item2index = {'START': 0}\n",
    "        \n",
    "        for i, item in enumerate(vocab):\n",
    "            self.index2item.append(item)\n",
    "            self.item2index[item] = i+1\n",
    "            \n",
    "        self.index2item.append('END')\n",
    "        self.item2index['END'] = len(self.index2item) - 1"
   ]
  },
  {
   "cell_type": "code",
   "execution_count": 218,
   "metadata": {
    "ExecuteTime": {
     "end_time": "2017-04-08T11:54:58.126156Z",
     "start_time": "2017-04-08T20:54:58.122616+09:00"
    },
    "collapsed": false,
    "deletable": true,
    "editable": true
   },
   "outputs": [],
   "source": [
    "letter_dict = SeqDict(string.ascii_lowercase+\"'.\")\n",
    "phoneme_dict = SeqDict(phoneme_symbols)"
   ]
  },
  {
   "cell_type": "code",
   "execution_count": 226,
   "metadata": {
    "ExecuteTime": {
     "end_time": "2017-04-08T12:09:36.143538Z",
     "start_time": "2017-04-08T21:09:36.082730+09:00"
    },
    "collapsed": false,
    "deletable": true,
    "editable": true
   },
   "outputs": [],
   "source": [
    "class LetterPhonemeCorpus(object):\n",
    "    def __init__(self):\n",
    "        self.letter_corpus = []\n",
    "        self.phoneme_corpus = []\n",
    "        self.letter_index_corpus = []\n",
    "        self.phoneme_index_corpus = []\n",
    "        \n",
    "    def read(self, filepath):\n",
    "        self.letter_corpus = []\n",
    "        self.phoneme_corpus = []\n",
    "        with open(filepath) as f:\n",
    "            for line in f.readlines():\n",
    "                line_split = line.split('#')[0].rstrip().split(' ')\n",
    "                letters, phonemes = line_split[0], line_split[1:]\n",
    "                if re.match(\"^[a-z'.]*$\", letters):\n",
    "                    self.letter_corpus.append(\n",
    "                        ['START']+list(letters)+['END'])\n",
    "                    self.phoneme_corpus.append(\n",
    "                        ['START']+phonemes+['END'])\n",
    "        \n",
    "    def l2i(self, letter_dict):\n",
    "        self.letter_index_corpus = []\n",
    "        for letters in self.letter_corpus:\n",
    "            self.letter_index_corpus.append(list(\n",
    "                map(lambda x: letter_dict.item2index[x], letters)))\n",
    "        \n",
    "    def p2i(self, phoneme_dict):\n",
    "        self.phoneme_index_corpus = []\n",
    "        for phonemes in self.phoneme_corpus:\n",
    "            self.phoneme_index_corpus.append(list(\n",
    "                map(lambda x: phoneme_dict.item2index[x], phonemes)))\n",
    "            \n",
    "    def split(self):\n",
    "        train_letter = []\n",
    "        train_phoneme = []\n",
    "        val_letter = []\n",
    "        val_phoneme = []\n",
    "        test_letter = []\n",
    "        test_phoneme = []\n",
    "        random.seed(7)\n",
    "        index = list(range(len(self.letter_corpus)))\n",
    "        index_shuffle = random.shuffle(index)\n",
    "        for i, index_shuffle in enumerate(index):\n",
    "            if i % 20 == 0:\n",
    "                val_letter.append(self.letter_corpus[index_shuffle])\n",
    "                val_phoneme.append(self.phoneme_corpus[index_shuffle])\n",
    "            elif i % 20 == 1 or i % 20 == 2:\n",
    "                test_letter.append(self.letter_corpus[index_shuffle])\n",
    "                test_phoneme.append(self.phoneme_corpus[index_shuffle])\n",
    "            else:\n",
    "                train_letter.append(self.letter_corpus[index_shuffle])\n",
    "                train_phoneme.append(self.phoneme_corpus[index_shuffle])\n",
    "        return (train_letter, train_phoneme, val_letter, val_phoneme,\n",
    "                test_letter, test_phoneme)"
   ]
  },
  {
   "cell_type": "code",
   "execution_count": 227,
   "metadata": {
    "ExecuteTime": {
     "end_time": "2017-04-08T12:09:45.121650Z",
     "start_time": "2017-04-08T21:09:42.552226+09:00"
    },
    "collapsed": false,
    "deletable": true,
    "editable": true
   },
   "outputs": [],
   "source": [
    "corpus = LetterPhonemeCorpus()\n",
    "corpus.read('../data/cmudict-master/cmudict.dict')\n",
    "corpus.l2i(letter_dict)\n",
    "corpus.p2i(phoneme_dict)"
   ]
  },
  {
   "cell_type": "code",
   "execution_count": 228,
   "metadata": {
    "ExecuteTime": {
     "end_time": "2017-04-08T12:10:13.848119Z",
     "start_time": "2017-04-08T21:10:13.525866+09:00"
    },
    "collapsed": false
   },
   "outputs": [],
   "source": [
    "(train_letter, train_phoneme, val_letter,\n",
    " val_phoneme, test_letter, test_phoneme) = corpus.split()"
   ]
  },
  {
   "cell_type": "code",
   "execution_count": 233,
   "metadata": {
    "ExecuteTime": {
     "end_time": "2017-04-08T12:14:20.436348Z",
     "start_time": "2017-04-08T21:14:20.431911+09:00"
    },
    "collapsed": true
   },
   "outputs": [],
   "source": [
    "import torch\n",
    "import torch.nn as nn\n",
    "import torch.nn.functional as F\n",
    "from torch.autograd import Variable\n",
    "import torch.optim as optim"
   ]
  },
  {
   "cell_type": "markdown",
   "metadata": {},
   "source": [
    "### model"
   ]
  },
  {
   "cell_type": "code",
   "execution_count": 245,
   "metadata": {
    "ExecuteTime": {
     "end_time": "2017-04-08T16:40:53.150214Z",
     "start_time": "2017-04-09T01:40:53.136458+09:00"
    },
    "collapsed": true
   },
   "outputs": [],
   "source": [
    "class G2PEncoder(nn.Module):\n",
    "    def __init__(self):\n",
    "        super(G2PEncoder, self).__init__(num_embeddings, embedding_dim, hidden_size)\n",
    "        self.embedding = nn.Embedding(num_embeddings, embedding_dim)\n",
    "        self.lstm = nn.LSTMCell(embedding_dim, hidden_size)\n",
    "        self.hidden_size = hidden_size\n",
    "        \n",
    "    def forward(self, x_seq):  # dim(e_seq): batch x seq_len x embedding_features\n",
    "        e_seq = self.embedding(x_seq)\n",
    "        h = Variable(torch.zeros(e_seq.size(1), self.hidden_size))\n",
    "        c = Variable(torch.zeros(e_seq.size(1), self.hidden_size))\n",
    "        for e in e_seq.chunk(e_seq.size(1),1):\n",
    "            e = e.squeeze(1)\n",
    "            h, c = self.lstm(e, (h, c))\n",
    "        return h, c"
   ]
  },
  {
   "cell_type": "code",
   "execution_count": 244,
   "metadata": {
    "ExecuteTime": {
     "end_time": "2017-04-08T16:32:34.650866Z",
     "start_time": "2017-04-09T01:32:34.646002+09:00"
    },
    "collapsed": false
   },
   "outputs": [
    {
     "data": {
      "text/plain": [
       "\n",
       " 0\n",
       " 0\n",
       " 0\n",
       "[torch.FloatTensor of size 3]"
      ]
     },
     "execution_count": 244,
     "metadata": {},
     "output_type": "execute_result"
    }
   ],
   "source": [
    "torch.zeros(3)"
   ]
  },
  {
   "cell_type": "code",
   "execution_count": 234,
   "metadata": {
    "ExecuteTime": {
     "end_time": "2017-04-08T15:58:32.642141Z",
     "start_time": "2017-04-09T00:58:32.639238+09:00"
    },
    "collapsed": true
   },
   "outputs": [],
   "source": [
    "import numpy as np"
   ]
  },
  {
   "cell_type": "code",
   "execution_count": 239,
   "metadata": {
    "ExecuteTime": {
     "end_time": "2017-04-08T16:26:45.194991Z",
     "start_time": "2017-04-09T01:26:45.186702+09:00"
    },
    "collapsed": false
   },
   "outputs": [
    {
     "data": {
      "text/plain": [
       "(\n",
       "  2\n",
       "  4\n",
       " [torch.FloatTensor of size 2x1], \n",
       "  3\n",
       "  5\n",
       " [torch.FloatTensor of size 2x1])"
      ]
     },
     "execution_count": 239,
     "metadata": {},
     "output_type": "execute_result"
    }
   ],
   "source": [
    "x = torch.Tensor([[2, 3], [4, 5]])\n",
    "y = x.chunk(2, 1)\n",
    "y"
   ]
  },
  {
   "cell_type": "code",
   "execution_count": 243,
   "metadata": {
    "ExecuteTime": {
     "end_time": "2017-04-08T16:30:49.038035Z",
     "start_time": "2017-04-09T01:30:49.032012+09:00"
    },
    "collapsed": false
   },
   "outputs": [
    {
     "data": {
      "text/plain": [
       "\n",
       " 2\n",
       " 3\n",
       "[torch.FloatTensor of size 2]"
      ]
     },
     "execution_count": 243,
     "metadata": {},
     "output_type": "execute_result"
    }
   ],
   "source": [
    "x = torch.Tensor([2,3])\n",
    "y = x.unsqueeze(0)\n",
    "y.squeeze(0)"
   ]
  }
 ],
 "metadata": {
  "kernelspec": {
   "display_name": "Python [conda env:pydata]",
   "language": "python",
   "name": "conda-env-pydata-py"
  },
  "language_info": {
   "codemirror_mode": {
    "name": "ipython",
    "version": 3
   },
   "file_extension": ".py",
   "mimetype": "text/x-python",
   "name": "python",
   "nbconvert_exporter": "python",
   "pygments_lexer": "ipython3",
   "version": "3.5.2"
  }
 },
 "nbformat": 4,
 "nbformat_minor": 2
}
