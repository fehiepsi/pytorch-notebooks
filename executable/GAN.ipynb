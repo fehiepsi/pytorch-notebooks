{
 "cells": [
  {
   "cell_type": "markdown",
   "metadata": {
    "deletable": true,
    "editable": true
   },
   "source": [
    "## GAN"
   ]
  },
  {
   "cell_type": "markdown",
   "metadata": {
    "ExecuteTime": {
     "end_time": "2017-04-06T04:55:26.454223Z",
     "start_time": "2017-04-06T13:55:26.448723+09:00"
    },
    "deletable": true,
    "editable": true
   },
   "source": [
    "Source: https://github.com/wiseodd/generative-models/tree/master/GAN/vanilla_gan"
   ]
  },
  {
   "cell_type": "markdown",
   "metadata": {
    "deletable": true,
    "editable": true
   },
   "source": [
    "### setup"
   ]
  },
  {
   "cell_type": "code",
   "execution_count": 1,
   "metadata": {
    "ExecuteTime": {
     "end_time": "2017-04-06T06:01:52.496143Z",
     "start_time": "2017-04-06T15:01:52.491746+09:00"
    },
    "collapsed": true,
    "deletable": true,
    "editable": true
   },
   "outputs": [],
   "source": [
    "import os\n",
    "import time"
   ]
  },
  {
   "cell_type": "code",
   "execution_count": 2,
   "metadata": {
    "ExecuteTime": {
     "end_time": "2017-04-06T06:01:52.873202Z",
     "start_time": "2017-04-06T15:01:52.498087+09:00"
    },
    "collapsed": true,
    "deletable": true,
    "editable": true
   },
   "outputs": [],
   "source": [
    "import numpy as np"
   ]
  },
  {
   "cell_type": "code",
   "execution_count": 3,
   "metadata": {
    "ExecuteTime": {
     "end_time": "2017-04-06T06:01:53.179290Z",
     "start_time": "2017-04-06T15:01:52.875302+09:00"
    },
    "collapsed": true,
    "deletable": true,
    "editable": true
   },
   "outputs": [],
   "source": [
    "import torch\n",
    "import torch.nn as nn\n",
    "import torch.nn.functional as F\n",
    "from torch.autograd import Variable\n",
    "import torch.optim as optim\n",
    "from torch.utils.data import DataLoader\n",
    "import torchvision.transforms as transforms\n",
    "from torchvision.utils import save_image\n",
    "from torchnet.meter import AverageValueMeter"
   ]
  },
  {
   "cell_type": "code",
   "execution_count": 4,
   "metadata": {
    "ExecuteTime": {
     "end_time": "2017-04-06T06:01:53.184805Z",
     "start_time": "2017-04-06T15:01:53.181380+09:00"
    },
    "collapsed": true,
    "deletable": true,
    "editable": true
   },
   "outputs": [],
   "source": [
    "import mnist  # for downloading data"
   ]
  },
  {
   "cell_type": "code",
   "execution_count": 5,
   "metadata": {
    "ExecuteTime": {
     "end_time": "2017-04-06T06:01:53.236425Z",
     "start_time": "2017-04-06T15:01:53.186698+09:00"
    },
    "collapsed": true,
    "deletable": true,
    "editable": true
   },
   "outputs": [],
   "source": [
    "epochs = 100\n",
    "mb_size = 64\n",
    "lr = 1e-3\n",
    "X_dim = 784\n",
    "y_dim = 10\n",
    "Z_dim = 100\n",
    "h_dim = 128\n",
    "\n",
    "intermediate_path = '../intermediate/gan/'\n",
    "if not os.path.isdir(intermediate_path):\n",
    "    os.makedirs(intermediate_path)\n",
    "    \n",
    "data_path = '../data/mnist/'\n",
    "\n",
    "torch.manual_seed(7)"
   ]
  },
  {
   "cell_type": "markdown",
   "metadata": {
    "collapsed": true,
    "deletable": true,
    "editable": true
   },
   "source": [
    "### model"
   ]
  },
  {
   "cell_type": "code",
   "execution_count": 6,
   "metadata": {
    "ExecuteTime": {
     "end_time": "2017-04-06T06:01:53.271920Z",
     "start_time": "2017-04-06T15:01:53.238448+09:00"
    },
    "collapsed": true,
    "deletable": true,
    "editable": true
   },
   "outputs": [],
   "source": [
    "def xavier_init(size):\n",
    "    in_dim = size[0]\n",
    "    xavier_stddev = 1. / np.sqrt(in_dim / 2.)\n",
    "    return Variable(torch.randn(*size) * xavier_stddev, requires_grad=True)"
   ]
  },
  {
   "cell_type": "code",
   "execution_count": 7,
   "metadata": {
    "ExecuteTime": {
     "end_time": "2017-04-06T06:01:53.321947Z",
     "start_time": "2017-04-06T15:01:53.274094+09:00"
    },
    "collapsed": true,
    "deletable": true,
    "editable": true
   },
   "outputs": [],
   "source": [
    "Wzh = xavier_init(size=[Z_dim, h_dim])\n",
    "bzh = Variable(torch.zeros(h_dim), requires_grad=True)\n",
    "Whx = xavier_init(size=[h_dim, X_dim])\n",
    "bhx = Variable(torch.zeros(X_dim), requires_grad=True)\n",
    "G_params = [Wzh, bzh, Whx, bhx]\n",
    "\n",
    "def G(z):\n",
    "    h = F.relu(z @ Wzh + bzh.repeat(z.size(0), 1))\n",
    "    X = F.sigmoid(h @ Whx + bhx.repeat(h.size(0), 1))\n",
    "    return X"
   ]
  },
  {
   "cell_type": "code",
   "execution_count": 8,
   "metadata": {
    "ExecuteTime": {
     "end_time": "2017-04-06T06:01:53.381049Z",
     "start_time": "2017-04-06T15:01:53.326863+09:00"
    },
    "collapsed": true,
    "deletable": true,
    "editable": true
   },
   "outputs": [],
   "source": [
    "Wxh = xavier_init(size=[X_dim, h_dim])\n",
    "bxh = Variable(torch.zeros(h_dim), requires_grad=True)\n",
    "Why = xavier_init(size=[h_dim, 1])\n",
    "bhy = Variable(torch.zeros(1), requires_grad=True)\n",
    "D_params = [Wxh, bxh, Why, bhy]\n",
    "\n",
    "def D(X):\n",
    "    h = F.relu(X @ Wxh + bxh.repeat(X.size(0), 1))\n",
    "    y = F.sigmoid(h @ Why + bhy.repeat(h.size(0), 1))\n",
    "    return y"
   ]
  },
  {
   "cell_type": "markdown",
   "metadata": {
    "deletable": true,
    "editable": true,
    "heading_collapsed": true
   },
   "source": [
    "### utils"
   ]
  },
  {
   "cell_type": "code",
   "execution_count": 9,
   "metadata": {
    "ExecuteTime": {
     "end_time": "2017-04-06T06:01:53.403739Z",
     "start_time": "2017-04-06T15:01:53.386116+09:00"
    },
    "collapsed": true,
    "deletable": true,
    "editable": true,
    "hidden": true
   },
   "outputs": [],
   "source": [
    "def reset_grad(params):\n",
    "    for p in params:\n",
    "        p.grad.data.zero_()"
   ]
  },
  {
   "cell_type": "markdown",
   "metadata": {
    "deletable": true,
    "editable": true
   },
   "source": [
    "### train"
   ]
  },
  {
   "cell_type": "code",
   "execution_count": 10,
   "metadata": {
    "ExecuteTime": {
     "end_time": "2017-04-06T06:01:53.469034Z",
     "start_time": "2017-04-06T15:01:53.408470+09:00"
    },
    "collapsed": false,
    "deletable": true,
    "editable": true
   },
   "outputs": [],
   "source": [
    "def train(data_loader, G_solver, D_solver, epoch):\n",
    "    D_losses = AverageValueMeter()\n",
    "    G_losses = AverageValueMeter()\n",
    "    start = time.time()\n",
    "    \n",
    "    for i, (X, _) in enumerate(data_loader):\n",
    "        batch_size = X.size(0)\n",
    "        ones_label = Variable(torch.ones(batch_size))\n",
    "        zeros_label = Variable(torch.zeros(batch_size))\n",
    "        X = X.view(-1, X_dim)\n",
    "        X = Variable(X)\n",
    "        # Sample data\n",
    "        z = Variable(torch.randn(X.size(0), Z_dim))\n",
    "        \n",
    "        # Dicriminator forward-loss-backward-update\n",
    "        G_sample = G(z)\n",
    "        D_real = D(X)\n",
    "        D_fake = D(G_sample)\n",
    "        \n",
    "        D_loss_real = F.binary_cross_entropy(D_real, ones_label)\n",
    "        D_loss_fake = F.binary_cross_entropy(D_fake, zeros_label)\n",
    "        \n",
    "        D_loss = D_loss_real + D_loss_fake\n",
    "        \n",
    "        D_loss.backward()\n",
    "        D_solver.step()\n",
    "        reset_grad(D_params + G_params)\n",
    "        \n",
    "        # Generator forward-loss-backward-update\n",
    "        z = Variable(torch.randn(X.size(0), Z_dim))\n",
    "        G_sample = G(z)\n",
    "        D_fake = D(G_sample)\n",
    "        \n",
    "        G_loss = F.binary_cross_entropy(D_fake, ones_label)\n",
    "        \n",
    "        G_loss.backward()\n",
    "        G_solver.step()\n",
    "        reset_grad(D_params + G_params)\n",
    "        \n",
    "        D_losses.add(D_loss.data.cpu()[0] * batch_size, batch_size)\n",
    "        G_losses.add(G_loss.data.cpu()[0] * batch_size, batch_size)\n",
    "        \n",
    "    print(\"=> EPOCH {} | Time: {}s | D_loss: {:.4f} | G_loss: {:.4f}\"\n",
    "          .format(epoch, round(time.time()-start), \n",
    "                  D_losses.value()[0], G_losses.value()[0]))"
   ]
  },
  {
   "cell_type": "code",
   "execution_count": 11,
   "metadata": {
    "ExecuteTime": {
     "end_time": "2017-04-06T06:01:53.520172Z",
     "start_time": "2017-04-06T15:01:53.474127+09:00"
    },
    "collapsed": false,
    "deletable": true,
    "editable": true
   },
   "outputs": [],
   "source": [
    "def generate(epoch):\n",
    "    z = torch.randn(16, Z_dim)\n",
    "    samples = G(Variable(z, volatile=True)).data.view(16, 1, 28, 28)\n",
    "    samples_filename = os.path.join(intermediate_path, \n",
    "                                    \"{}.png\".format(str(epoch).zfill(3)))\n",
    "    save_image(samples, samples_filename, nrow=4)"
   ]
  },
  {
   "cell_type": "markdown",
   "metadata": {
    "deletable": true,
    "editable": true
   },
   "source": [
    "### prepare"
   ]
  },
  {
   "cell_type": "code",
   "execution_count": 12,
   "metadata": {
    "ExecuteTime": {
     "end_time": "2017-04-06T06:01:53.582838Z",
     "start_time": "2017-04-06T15:01:53.521755+09:00"
    },
    "collapsed": false,
    "deletable": true,
    "editable": true
   },
   "outputs": [],
   "source": [
    "data_loader = DataLoader(\n",
    "    mnist.MNIST(data_path, train=True, download=True,\n",
    "                transform=transforms.ToTensor()),\n",
    "    batch_size=mb_size, shuffle=True)"
   ]
  },
  {
   "cell_type": "code",
   "execution_count": 13,
   "metadata": {
    "ExecuteTime": {
     "end_time": "2017-04-06T06:01:53.707184Z",
     "start_time": "2017-04-06T15:01:53.584995+09:00"
    },
    "collapsed": false,
    "deletable": true,
    "editable": true
   },
   "outputs": [],
   "source": [
    "G_solver = optim.Adam(G_params, lr=lr)\n",
    "D_solver = optim.Adam(D_params, lr=lr)"
   ]
  },
  {
   "cell_type": "markdown",
   "metadata": {
    "deletable": true,
    "editable": true,
    "heading_collapsed": true
   },
   "source": [
    "### run"
   ]
  },
  {
   "cell_type": "code",
   "execution_count": 14,
   "metadata": {
    "ExecuteTime": {
     "end_time": "2017-04-06T09:06:24.254711Z",
     "start_time": "2017-04-06T15:01:56.153418+09:00"
    },
    "collapsed": false,
    "deletable": true,
    "editable": true,
    "hidden": true,
    "run_control": {
     "marked": false
    }
   },
   "outputs": [
    {
     "name": "stdout",
     "output_type": "stream",
     "text": [
      "=> EPOCH 1 | Time: 59s | D_loss: 0.0680 | G_loss: 6.2997\n",
      "=> EPOCH 2 | Time: 53s | D_loss: 0.0147 | G_loss: 6.8657\n",
      "=> EPOCH 3 | Time: 57s | D_loss: 0.0620 | G_loss: 5.1041\n",
      "=> EPOCH 4 | Time: 50s | D_loss: 0.1331 | G_loss: 5.1648\n",
      "=> EPOCH 5 | Time: 51s | D_loss: 0.2408 | G_loss: 4.4107\n",
      "=> EPOCH 6 | Time: 54s | D_loss: 0.3555 | G_loss: 3.7777\n",
      "=> EPOCH 7 | Time: 52s | D_loss: 0.4579 | G_loss: 3.4397\n",
      "=> EPOCH 8 | Time: 57s | D_loss: 0.5595 | G_loss: 3.1252\n",
      "=> EPOCH 9 | Time: 56s | D_loss: 0.6330 | G_loss: 2.8519\n",
      "=> EPOCH 10 | Time: 65s | D_loss: 0.6677 | G_loss: 2.5706\n",
      "=> EPOCH 11 | Time: 68s | D_loss: 0.6616 | G_loss: 2.5322\n",
      "=> EPOCH 12 | Time: 64s | D_loss: 0.7243 | G_loss: 2.4047\n",
      "=> EPOCH 13 | Time: 59s | D_loss: 0.7070 | G_loss: 2.5515\n",
      "=> EPOCH 14 | Time: 61s | D_loss: 0.7544 | G_loss: 2.3858\n",
      "=> EPOCH 15 | Time: 63s | D_loss: 0.7700 | G_loss: 2.2271\n",
      "=> EPOCH 16 | Time: 65s | D_loss: 0.7856 | G_loss: 2.1630\n",
      "=> EPOCH 17 | Time: 64s | D_loss: 0.7999 | G_loss: 2.1053\n",
      "=> EPOCH 18 | Time: 64s | D_loss: 0.8225 | G_loss: 2.0111\n",
      "=> EPOCH 19 | Time: 64s | D_loss: 0.8229 | G_loss: 1.9332\n",
      "=> EPOCH 20 | Time: 64s | D_loss: 0.8225 | G_loss: 1.9153\n",
      "=> EPOCH 21 | Time: 64s | D_loss: 0.8321 | G_loss: 1.9160\n",
      "=> EPOCH 22 | Time: 62s | D_loss: 0.8328 | G_loss: 1.9321\n",
      "=> EPOCH 23 | Time: 63s | D_loss: 0.8415 | G_loss: 1.8748\n",
      "=> EPOCH 24 | Time: 65s | D_loss: 0.8407 | G_loss: 1.8629\n",
      "=> EPOCH 25 | Time: 62s | D_loss: 0.8279 | G_loss: 1.8214\n",
      "=> EPOCH 26 | Time: 72s | D_loss: 0.8271 | G_loss: 1.8224\n",
      "=> EPOCH 27 | Time: 71s | D_loss: 0.8409 | G_loss: 1.7727\n",
      "=> EPOCH 28 | Time: 71s | D_loss: 0.8255 | G_loss: 1.7844\n",
      "=> EPOCH 29 | Time: 72s | D_loss: 0.8286 | G_loss: 1.7777\n",
      "=> EPOCH 30 | Time: 74s | D_loss: 0.8175 | G_loss: 1.7888\n",
      "=> EPOCH 31 | Time: 78s | D_loss: 0.8031 | G_loss: 1.7966\n",
      "=> EPOCH 32 | Time: 79s | D_loss: 0.7957 | G_loss: 1.8207\n",
      "=> EPOCH 33 | Time: 81s | D_loss: 0.7901 | G_loss: 1.8559\n",
      "=> EPOCH 34 | Time: 85s | D_loss: 0.7745 | G_loss: 1.8763\n",
      "=> EPOCH 35 | Time: 91s | D_loss: 0.7640 | G_loss: 1.9286\n",
      "=> EPOCH 36 | Time: 94s | D_loss: 0.7554 | G_loss: 1.9611\n",
      "=> EPOCH 37 | Time: 97s | D_loss: 0.7481 | G_loss: 1.9800\n",
      "=> EPOCH 38 | Time: 97s | D_loss: 0.7467 | G_loss: 1.9870\n",
      "=> EPOCH 39 | Time: 100s | D_loss: 0.7399 | G_loss: 2.0097\n",
      "=> EPOCH 40 | Time: 111s | D_loss: 0.7379 | G_loss: 2.0179\n",
      "=> EPOCH 41 | Time: 113s | D_loss: 0.7381 | G_loss: 2.0250\n",
      "=> EPOCH 42 | Time: 111s | D_loss: 0.7378 | G_loss: 2.0319\n",
      "=> EPOCH 43 | Time: 112s | D_loss: 0.7323 | G_loss: 2.0155\n",
      "=> EPOCH 44 | Time: 118s | D_loss: 0.7342 | G_loss: 2.0304\n",
      "=> EPOCH 45 | Time: 116s | D_loss: 0.7288 | G_loss: 2.0114\n",
      "=> EPOCH 46 | Time: 117s | D_loss: 0.7296 | G_loss: 2.0089\n",
      "=> EPOCH 47 | Time: 122s | D_loss: 0.7288 | G_loss: 2.0181\n",
      "=> EPOCH 48 | Time: 118s | D_loss: 0.7329 | G_loss: 2.0054\n",
      "=> EPOCH 49 | Time: 115s | D_loss: 0.7246 | G_loss: 1.9971\n",
      "=> EPOCH 50 | Time: 121s | D_loss: 0.7217 | G_loss: 2.0086\n",
      "=> EPOCH 51 | Time: 124s | D_loss: 0.7157 | G_loss: 2.0088\n",
      "=> EPOCH 52 | Time: 125s | D_loss: 0.7111 | G_loss: 2.0078\n",
      "=> EPOCH 53 | Time: 133s | D_loss: 0.7123 | G_loss: 2.0190\n",
      "=> EPOCH 54 | Time: 122s | D_loss: 0.7105 | G_loss: 2.0250\n",
      "=> EPOCH 55 | Time: 126s | D_loss: 0.7025 | G_loss: 2.0170\n",
      "=> EPOCH 56 | Time: 128s | D_loss: 0.6973 | G_loss: 2.0190\n",
      "=> EPOCH 57 | Time: 136s | D_loss: 0.6947 | G_loss: 2.0357\n",
      "=> EPOCH 58 | Time: 124s | D_loss: 0.6944 | G_loss: 2.0411\n",
      "=> EPOCH 59 | Time: 124s | D_loss: 0.6884 | G_loss: 2.0369\n",
      "=> EPOCH 60 | Time: 128s | D_loss: 0.6877 | G_loss: 2.0474\n",
      "=> EPOCH 61 | Time: 125s | D_loss: 0.6832 | G_loss: 2.0440\n",
      "=> EPOCH 62 | Time: 128s | D_loss: 0.6826 | G_loss: 2.0392\n",
      "=> EPOCH 63 | Time: 128s | D_loss: 0.6706 | G_loss: 2.0474\n",
      "=> EPOCH 64 | Time: 135s | D_loss: 0.6683 | G_loss: 2.0663\n",
      "=> EPOCH 65 | Time: 132s | D_loss: 0.6692 | G_loss: 2.0616\n",
      "=> EPOCH 66 | Time: 129s | D_loss: 0.6636 | G_loss: 2.0711\n",
      "=> EPOCH 67 | Time: 130s | D_loss: 0.6560 | G_loss: 2.0879\n",
      "=> EPOCH 68 | Time: 132s | D_loss: 0.6512 | G_loss: 2.0866\n",
      "=> EPOCH 69 | Time: 136s | D_loss: 0.6467 | G_loss: 2.1065\n",
      "=> EPOCH 70 | Time: 138s | D_loss: 0.6422 | G_loss: 2.1229\n",
      "=> EPOCH 71 | Time: 138s | D_loss: 0.6363 | G_loss: 2.1369\n",
      "=> EPOCH 72 | Time: 130s | D_loss: 0.6316 | G_loss: 2.1308\n",
      "=> EPOCH 73 | Time: 136s | D_loss: 0.6288 | G_loss: 2.1361\n",
      "=> EPOCH 74 | Time: 137s | D_loss: 0.6251 | G_loss: 2.1482\n",
      "=> EPOCH 75 | Time: 143s | D_loss: 0.6179 | G_loss: 2.1653\n",
      "=> EPOCH 76 | Time: 137s | D_loss: 0.6175 | G_loss: 2.1807\n",
      "=> EPOCH 77 | Time: 154s | D_loss: 0.6141 | G_loss: 2.1926\n",
      "=> EPOCH 78 | Time: 150s | D_loss: 0.6108 | G_loss: 2.1773\n",
      "=> EPOCH 79 | Time: 160s | D_loss: 0.6098 | G_loss: 2.2040\n",
      "=> EPOCH 80 | Time: 153s | D_loss: 0.6039 | G_loss: 2.2112\n",
      "=> EPOCH 81 | Time: 158s | D_loss: 0.6099 | G_loss: 2.2029\n",
      "=> EPOCH 82 | Time: 143s | D_loss: 0.6053 | G_loss: 2.2288\n",
      "=> EPOCH 83 | Time: 154s | D_loss: 0.6016 | G_loss: 2.2293\n",
      "=> EPOCH 84 | Time: 149s | D_loss: 0.5879 | G_loss: 2.2456\n",
      "=> EPOCH 85 | Time: 145s | D_loss: 0.5878 | G_loss: 2.2455\n",
      "=> EPOCH 86 | Time: 148s | D_loss: 0.5876 | G_loss: 2.2563\n",
      "=> EPOCH 87 | Time: 159s | D_loss: 0.5841 | G_loss: 2.2649\n",
      "=> EPOCH 88 | Time: 170s | D_loss: 0.5827 | G_loss: 2.2745\n",
      "=> EPOCH 89 | Time: 153s | D_loss: 0.5800 | G_loss: 2.2882\n",
      "=> EPOCH 90 | Time: 157s | D_loss: 0.5803 | G_loss: 2.2929\n",
      "=> EPOCH 91 | Time: 157s | D_loss: 0.5817 | G_loss: 2.3037\n",
      "=> EPOCH 92 | Time: 165s | D_loss: 0.5745 | G_loss: 2.2878\n",
      "=> EPOCH 93 | Time: 156s | D_loss: 0.5770 | G_loss: 2.3088\n",
      "=> EPOCH 94 | Time: 159s | D_loss: 0.5727 | G_loss: 2.3278\n",
      "=> EPOCH 95 | Time: 159s | D_loss: 0.5728 | G_loss: 2.3391\n",
      "=> EPOCH 96 | Time: 167s | D_loss: 0.5667 | G_loss: 2.3303\n",
      "=> EPOCH 97 | Time: 156s | D_loss: 0.5668 | G_loss: 2.3417\n",
      "=> EPOCH 98 | Time: 146s | D_loss: 0.5627 | G_loss: 2.3619\n",
      "=> EPOCH 99 | Time: 125s | D_loss: 0.5603 | G_loss: 2.3668\n",
      "=> EPOCH 100 | Time: 128s | D_loss: 0.5607 | G_loss: 2.3634\n"
     ]
    }
   ],
   "source": [
    "for epoch in range(1, epochs+1):\n",
    "    train(data_loader, G_solver, D_solver, epoch)\n",
    "    generate(epoch)"
   ]
  },
  {
   "cell_type": "markdown",
   "metadata": {
    "deletable": true,
    "editable": true,
    "heading_collapsed": true
   },
   "source": [
    "## DCGAN"
   ]
  },
  {
   "cell_type": "markdown",
   "metadata": {
    "deletable": true,
    "editable": true,
    "hidden": true
   },
   "source": [
    "Source: https://github.com/pytorch/examples/tree/master/dcgan"
   ]
  },
  {
   "cell_type": "markdown",
   "metadata": {
    "deletable": true,
    "editable": true,
    "hidden": true
   },
   "source": [
    "### setup"
   ]
  },
  {
   "cell_type": "code",
   "execution_count": 1,
   "metadata": {
    "ExecuteTime": {
     "end_time": "2017-04-06T15:55:33.441176Z",
     "start_time": "2017-04-07T00:55:33.436443+09:00"
    },
    "collapsed": true,
    "deletable": true,
    "editable": true,
    "hidden": true
   },
   "outputs": [],
   "source": [
    "import argparse\n",
    "import os\n",
    "import time"
   ]
  },
  {
   "cell_type": "code",
   "execution_count": 2,
   "metadata": {
    "ExecuteTime": {
     "end_time": "2017-04-06T15:55:33.837613Z",
     "start_time": "2017-04-07T00:55:33.443160+09:00"
    },
    "collapsed": false,
    "deletable": true,
    "editable": true,
    "hidden": true
   },
   "outputs": [],
   "source": [
    "import torch\n",
    "import torch.nn as nn\n",
    "import torch.nn.init as init\n",
    "from torch.autograd import Variable\n",
    "import torch.optim as optim\n",
    "from torch.utils.data import DataLoader\n",
    "import torchvision.datasets as datasets\n",
    "import torchvision.transforms as transforms\n",
    "from torchvision.utils import save_image\n",
    "from torchnet.meter import AverageValueMeter"
   ]
  },
  {
   "cell_type": "code",
   "execution_count": 3,
   "metadata": {
    "ExecuteTime": {
     "end_time": "2017-04-06T15:55:33.884926Z",
     "start_time": "2017-04-07T00:55:33.840024+09:00"
    },
    "collapsed": false,
    "deletable": true,
    "editable": true,
    "hidden": true
   },
   "outputs": [],
   "source": [
    "parser = {\n",
    "    'data_path': '../data/cifar10',\n",
    "    'epochs': 25,\n",
    "    'batch_size': 64,\n",
    "    'lr': 0.0002,\n",
    "    'image_size': 64,\n",
    "    'z_dim': 100,\n",
    "    'G_features': 64,\n",
    "    'D_features': 64,\n",
    "    'image_channels': 3,\n",
    "    'beta1': 0.5,\n",
    "    'cuda': True,\n",
    "    'seed': 7,\n",
    "    'workers': 4,\n",
    "    'intermediate_path': '../intermediate/dcgan'\n",
    "}\n",
    "args = argparse.Namespace(**parser)\n",
    "\n",
    "args.cuda = args.cuda and torch.cuda.is_available()\n",
    "\n",
    "if not os.path.isdir(args.data_path):\n",
    "    os.makedirs(args.data_path)\n",
    "if not os.path.isdir(args.intermediate_path):\n",
    "    os.makedirs(args.intermediate_path)\n",
    "    \n",
    "torch.manual_seed(args.seed)\n",
    "if args.cuda:\n",
    "    torch.cuda.manual_seed(args.seed)"
   ]
  },
  {
   "cell_type": "markdown",
   "metadata": {
    "deletable": true,
    "editable": true,
    "heading_collapsed": true,
    "hidden": true
   },
   "source": [
    "### model"
   ]
  },
  {
   "cell_type": "code",
   "execution_count": 4,
   "metadata": {
    "ExecuteTime": {
     "end_time": "2017-04-06T15:55:33.938757Z",
     "start_time": "2017-04-07T00:55:33.887204+09:00"
    },
    "collapsed": true,
    "deletable": true,
    "editable": true,
    "hidden": true
   },
   "outputs": [],
   "source": [
    "class _netG(nn.Module):\n",
    "    def __init__(self):\n",
    "        super(_netG, self).__init__()\n",
    "        self.main = nn.Sequential(\n",
    "            # input is Z, going into a convolution\n",
    "            nn.ConvTranspose2d(args.z_dim, args.G_features * 8,\n",
    "                               4, 1, 0, bias=False),\n",
    "            nn.BatchNorm2d(args.G_features * 8),\n",
    "            nn.ReLU(True),\n",
    "            nn.ConvTranspose2d(args.G_features * 8, args.G_features * 4,\n",
    "                               4, 2, 1, bias=False),\n",
    "            nn.BatchNorm2d(args.G_features * 4),\n",
    "            nn.ReLU(True),\n",
    "            # state size. (ngf*8) x 4 x 4\n",
    "            nn.ConvTranspose2d(args.G_features * 4, args.G_features * 2,\n",
    "                               4, 2, 1, bias=False),\n",
    "            nn.BatchNorm2d(args.G_features * 2),\n",
    "            nn.ReLU(True),\n",
    "            # state size. (ngf*4) x 8 x 8\n",
    "            nn.ConvTranspose2d(args.G_features * 2, args.G_features,\n",
    "                               4, 2, 1, bias=False),\n",
    "            nn.BatchNorm2d(args.G_features),\n",
    "            nn.ReLU(True),\n",
    "            # state size. (ngf) x 16 x 16\n",
    "            nn.ConvTranspose2d(args.G_features, args.image_channels,\n",
    "                               4, 2, 1, bias=False),\n",
    "            nn.Tanh()\n",
    "            # state size. (nc) x 32 x 32\n",
    "        )\n",
    "        self._initialize_weights()\n",
    "        \n",
    "    # custom weight initialization\n",
    "    def _initialize_weights(self):\n",
    "        for m in self.modules():\n",
    "            if isinstance(m, nn.ConvTranspose2d):\n",
    "                n = m.kernel_size[0] * m.kernel_size[1] * m.out_channels\n",
    "                init.normal(m.weight, mean=0, std=0.02)\n",
    "            elif isinstance(m, nn.BatchNorm2d):\n",
    "                init.normal(m.weight, mean=1, std=0.02)\n",
    "                init.constant(m.bias, 0)\n",
    "\n",
    "    def forward(self, x):\n",
    "        return self.main(x)"
   ]
  },
  {
   "cell_type": "code",
   "execution_count": 5,
   "metadata": {
    "ExecuteTime": {
     "end_time": "2017-04-06T15:55:33.987872Z",
     "start_time": "2017-04-07T00:55:33.940706+09:00"
    },
    "collapsed": true,
    "deletable": true,
    "editable": true,
    "hidden": true
   },
   "outputs": [],
   "source": [
    "class _netD(nn.Module):\n",
    "    def __init__(self):\n",
    "        super(_netD, self).__init__()\n",
    "        self.main = nn.Sequential(\n",
    "            # input is (nc) x 32 x 32\n",
    "            nn.Conv2d(args.image_channels, args.D_features,\n",
    "                      4, 2, 1, bias=False),\n",
    "            nn.LeakyReLU(0.2, inplace=True),\n",
    "            # state size. (ndf) x 16 x 16\n",
    "            nn.Conv2d(args.D_features, args.D_features * 2,\n",
    "                      4, 2, 1, bias=False),\n",
    "            nn.BatchNorm2d(args.D_features * 2),\n",
    "            nn.LeakyReLU(0.2, inplace=True),\n",
    "            # state size. (ndf*2) x 8 x 8\n",
    "            nn.Conv2d(args.D_features * 2, args.D_features * 4,\n",
    "                      4, 2, 1, bias=False),\n",
    "            nn.BatchNorm2d(args.D_features * 4),\n",
    "            nn.LeakyReLU(0.2, inplace=True),\n",
    "            nn.Conv2d(args.D_features * 4, args.D_features * 8,\n",
    "                      4, 2, 1, bias=False),\n",
    "            nn.BatchNorm2d(args.D_features * 8),\n",
    "            nn.LeakyReLU(0.2, inplace=True),\n",
    "            # state size. (ndf*4) x 4 x 4\n",
    "            nn.Conv2d(args.D_features * 8, 1, 4, 1, 0, bias=False),\n",
    "            nn.Sigmoid()\n",
    "        )\n",
    "        self._initialize_weights()\n",
    "        \n",
    "    # custom weight initialization\n",
    "    def _initialize_weights(self):\n",
    "        for m in self.modules():\n",
    "            if isinstance(m, nn.Conv2d):\n",
    "                n = m.kernel_size[0] * m.kernel_size[1] * m.out_channels\n",
    "                init.normal(m.weight, mean=0, std=0.02)\n",
    "            elif isinstance(m, nn.BatchNorm2d):\n",
    "                init.normal(m.weight, mean=1, std=0.02)\n",
    "                init.constant(m.bias, 0)\n",
    "\n",
    "    def forward(self, input):\n",
    "        output = self.main(input)\n",
    "        return output.view(-1, 1)"
   ]
  },
  {
   "cell_type": "markdown",
   "metadata": {
    "deletable": true,
    "editable": true,
    "hidden": true
   },
   "source": [
    "### train"
   ]
  },
  {
   "cell_type": "code",
   "execution_count": 6,
   "metadata": {
    "ExecuteTime": {
     "end_time": "2017-04-06T15:55:34.050862Z",
     "start_time": "2017-04-07T00:55:33.989828+09:00"
    },
    "collapsed": false,
    "deletable": true,
    "editable": true,
    "hidden": true
   },
   "outputs": [],
   "source": [
    "def train(args, data_loader, netG, netD, G_optimizer, D_optimizer,\n",
    "          criterion, epoch):\n",
    "    D_losses = AverageValueMeter()\n",
    "    G_losses = AverageValueMeter()\n",
    "    D_reals = AverageValueMeter()\n",
    "    D_fakes = AverageValueMeter()\n",
    "    G_reals = AverageValueMeter()\n",
    "    \n",
    "    start = time.time()\n",
    "    # call Variable after .cuda()\n",
    "    for i, (real, _) in enumerate(data_loader):\n",
    "        batch_size = real.size(0)\n",
    "        real_label = torch.ones(batch_size)\n",
    "        fake_label = torch.zeros(batch_size)\n",
    "        z = torch.randn(batch_size, args.z_dim, 1, 1)\n",
    "        if args.cuda:\n",
    "            real_label = real_label.cuda()\n",
    "            fake_label = fake_label.cuda()\n",
    "            real = real.cuda()\n",
    "            z = z.cuda()\n",
    "        real_label = Variable(real_label)\n",
    "        fake_label = Variable(fake_label)\n",
    "        real = Variable(real)\n",
    "        z = Variable(z)\n",
    "        \n",
    "        real_output = netD(real)\n",
    "        D_real_loss = criterion(real_output, real_label)\n",
    "        D_real = real_output.data.mean()\n",
    "        \n",
    "        fake = netG(z)\n",
    "        fake_output = netD(fake.detach())\n",
    "        D_fake_loss = criterion(fake_output, fake_label)\n",
    "        D_fake = fake_output.data.mean()\n",
    "        \n",
    "        D_loss = D_real_loss + D_fake_loss\n",
    "        netD.zero_grad()\n",
    "        D_loss.backward()\n",
    "        D_optimizer.step()\n",
    "        \n",
    "        output = netD(fake)\n",
    "        G_loss = criterion(output, real_label)\n",
    "        G_real = output.data.mean()\n",
    "        netG.zero_grad()\n",
    "        G_loss.backward()\n",
    "        G_optimizer.step()\n",
    "        \n",
    "        D_losses.add(D_loss.data.cpu()[0] * batch_size, batch_size)\n",
    "        G_losses.add(G_loss.data.cpu()[0] * batch_size, batch_size)\n",
    "        D_reals.add(D_real * batch_size, batch_size)\n",
    "        D_fakes.add(D_fake * batch_size, batch_size)\n",
    "        G_reals.add(G_real * batch_size, batch_size)\n",
    "        \n",
    "    print(\"=> EPOCH {} | Time: {}s | D_loss: {:.4f} | G_loss: {:.4f}\"\n",
    "          \" | D_real: {:.4f} | D_fake: {:.4f} | G_real: {:.4f}\"\n",
    "          .format(epoch, round(time.time()-start), D_losses.value()[0],\n",
    "                  G_losses.value()[0], D_reals.value()[0],\n",
    "                  D_fakes.value()[0], G_reals.value()[0]))"
   ]
  },
  {
   "cell_type": "code",
   "execution_count": 7,
   "metadata": {
    "ExecuteTime": {
     "end_time": "2017-04-06T15:55:34.096940Z",
     "start_time": "2017-04-07T00:55:34.052934+09:00"
    },
    "collapsed": false,
    "deletable": true,
    "editable": true,
    "hidden": true
   },
   "outputs": [],
   "source": [
    "def generate(args, netG, epoch):\n",
    "    z = torch.randn(args.batch_size, args.z_dim, 1, 1)\n",
    "    if args.cuda:\n",
    "        z = z.cuda()\n",
    "    fake = netG(Variable(z, volatile=True))\n",
    "    save_image(fake.data.cpu(), os.path.join(args.intermediate_path,\n",
    "        \"fake_sample_epoch_{:02d}.png\".format(epoch)), normalize=True)"
   ]
  },
  {
   "cell_type": "markdown",
   "metadata": {
    "deletable": true,
    "editable": true,
    "hidden": true
   },
   "source": [
    "### prepare"
   ]
  },
  {
   "cell_type": "code",
   "execution_count": 8,
   "metadata": {
    "ExecuteTime": {
     "end_time": "2017-04-06T15:55:35.226518Z",
     "start_time": "2017-04-07T00:55:34.099025+09:00"
    },
    "collapsed": false,
    "deletable": true,
    "editable": true,
    "hidden": true
   },
   "outputs": [
    {
     "name": "stdout",
     "output_type": "stream",
     "text": [
      "Files already downloaded and verified\n"
     ]
    }
   ],
   "source": [
    "dataset = datasets.CIFAR10(root=args.data_path, download=True,\n",
    "                           transform=transforms.Compose([\n",
    "                               transforms.Scale(args.image_size),\n",
    "                               transforms.ToTensor(),\n",
    "                               transforms.Normalize((0.5, 0.5, 0.5),\n",
    "                                                    (0.5, 0.5, 0.5))]))\n",
    "data_loader = DataLoader(dataset, batch_size=args.batch_size,\n",
    "                         shuffle=True,\n",
    "                         num_workers=args.workers)"
   ]
  },
  {
   "cell_type": "code",
   "execution_count": 9,
   "metadata": {
    "ExecuteTime": {
     "end_time": "2017-04-06T15:55:38.048171Z",
     "start_time": "2017-04-07T00:55:35.228834+09:00"
    },
    "collapsed": false,
    "deletable": true,
    "editable": true,
    "hidden": true
   },
   "outputs": [],
   "source": [
    "netG = _netG()\n",
    "netD = _netD()\n",
    "criterion = nn.BCELoss()\n",
    "if args.cuda:\n",
    "    netD.cuda()\n",
    "    netG.cuda()\n",
    "    criterion.cuda()"
   ]
  },
  {
   "cell_type": "code",
   "execution_count": 10,
   "metadata": {
    "ExecuteTime": {
     "end_time": "2017-04-06T15:55:38.055594Z",
     "start_time": "2017-04-07T00:55:38.050966+09:00"
    },
    "collapsed": true,
    "deletable": true,
    "editable": true,
    "hidden": true
   },
   "outputs": [],
   "source": [
    "D_optimizer = optim.Adam(netD.parameters(), lr=args.lr,\n",
    "                         betas=(args.beta1, 0.999))\n",
    "G_optimizer = optim.Adam(netG.parameters(), lr=args.lr,\n",
    "                         betas=(args.beta1, 0.999))"
   ]
  },
  {
   "cell_type": "code",
   "execution_count": 11,
   "metadata": {
    "ExecuteTime": {
     "end_time": "2017-04-06T15:55:38.404057Z",
     "start_time": "2017-04-07T00:55:38.057561+09:00"
    },
    "collapsed": false,
    "deletable": true,
    "editable": true,
    "hidden": true
   },
   "outputs": [],
   "source": [
    "sample, _ = iter(data_loader).next()\n",
    "save_image(sample, os.path.join(args.intermediate_path, \"real_sample.png\"))"
   ]
  },
  {
   "cell_type": "markdown",
   "metadata": {
    "deletable": true,
    "editable": true,
    "hidden": true
   },
   "source": [
    "### run"
   ]
  },
  {
   "cell_type": "code",
   "execution_count": 12,
   "metadata": {
    "ExecuteTime": {
     "end_time": "2017-04-06T16:26:06.295673Z",
     "start_time": "2017-04-07T00:55:38.406152+09:00"
    },
    "collapsed": false,
    "deletable": true,
    "editable": true,
    "hidden": true
   },
   "outputs": [
    {
     "name": "stdout",
     "output_type": "stream",
     "text": [
      "=> EPOCH 1 | Time: 73s | D_loss: 0.5287 | G_loss: 7.2922 | D_real: 0.8419 | D_fake1: 0.1556 | D_fake2: 0.0327\n",
      "=> EPOCH 2 | Time: 73s | D_loss: 0.6256 | G_loss: 4.0059 | D_real: 0.7921 | D_fake1: 0.2034 | D_fake2: 0.0586\n",
      "=> EPOCH 3 | Time: 73s | D_loss: 0.6680 | G_loss: 3.3827 | D_real: 0.7782 | D_fake1: 0.2193 | D_fake2: 0.0919\n",
      "=> EPOCH 4 | Time: 73s | D_loss: 0.7120 | G_loss: 3.2519 | D_real: 0.7685 | D_fake1: 0.2298 | D_fake2: 0.1092\n",
      "=> EPOCH 5 | Time: 73s | D_loss: 0.6155 | G_loss: 3.5447 | D_real: 0.8067 | D_fake1: 0.1925 | D_fake2: 0.0912\n",
      "=> EPOCH 6 | Time: 73s | D_loss: 0.5895 | G_loss: 3.7285 | D_real: 0.8215 | D_fake1: 0.1778 | D_fake2: 0.0806\n",
      "=> EPOCH 7 | Time: 73s | D_loss: 0.6860 | G_loss: 3.3466 | D_real: 0.7905 | D_fake1: 0.2082 | D_fake2: 0.1085\n",
      "=> EPOCH 8 | Time: 73s | D_loss: 0.5958 | G_loss: 3.5248 | D_real: 0.8168 | D_fake1: 0.1809 | D_fake2: 0.0961\n",
      "=> EPOCH 9 | Time: 73s | D_loss: 0.6963 | G_loss: 3.2522 | D_real: 0.7886 | D_fake1: 0.2098 | D_fake2: 0.1126\n",
      "=> EPOCH 10 | Time: 73s | D_loss: 0.6273 | G_loss: 3.3356 | D_real: 0.8034 | D_fake1: 0.1954 | D_fake2: 0.1059\n",
      "=> EPOCH 11 | Time: 73s | D_loss: 0.6605 | G_loss: 3.2195 | D_real: 0.7973 | D_fake1: 0.2029 | D_fake2: 0.1108\n",
      "=> EPOCH 12 | Time: 73s | D_loss: 0.5765 | G_loss: 3.5974 | D_real: 0.8238 | D_fake1: 0.1751 | D_fake2: 0.0923\n",
      "=> EPOCH 13 | Time: 73s | D_loss: 0.4744 | G_loss: 4.0793 | D_real: 0.8620 | D_fake1: 0.1382 | D_fake2: 0.0668\n",
      "=> EPOCH 14 | Time: 73s | D_loss: 0.5438 | G_loss: 3.7406 | D_real: 0.8322 | D_fake1: 0.1666 | D_fake2: 0.0944\n",
      "=> EPOCH 15 | Time: 73s | D_loss: 0.6589 | G_loss: 3.3477 | D_real: 0.7997 | D_fake1: 0.1989 | D_fake2: 0.1168\n",
      "=> EPOCH 16 | Time: 73s | D_loss: 0.5979 | G_loss: 3.3244 | D_real: 0.8099 | D_fake1: 0.1899 | D_fake2: 0.1120\n",
      "=> EPOCH 17 | Time: 73s | D_loss: 0.7219 | G_loss: 2.9474 | D_real: 0.7751 | D_fake1: 0.2241 | D_fake2: 0.1332\n",
      "=> EPOCH 18 | Time: 73s | D_loss: 0.5936 | G_loss: 3.2915 | D_real: 0.8068 | D_fake1: 0.1928 | D_fake2: 0.1123\n",
      "=> EPOCH 19 | Time: 73s | D_loss: 0.5310 | G_loss: 3.6792 | D_real: 0.8411 | D_fake1: 0.1593 | D_fake2: 0.0890\n",
      "=> EPOCH 20 | Time: 73s | D_loss: 0.5122 | G_loss: 3.8464 | D_real: 0.8411 | D_fake1: 0.1578 | D_fake2: 0.0888\n",
      "=> EPOCH 21 | Time: 73s | D_loss: 0.5000 | G_loss: 3.9064 | D_real: 0.8471 | D_fake1: 0.1529 | D_fake2: 0.0865\n",
      "=> EPOCH 22 | Time: 73s | D_loss: 0.6264 | G_loss: 3.4394 | D_real: 0.8075 | D_fake1: 0.1912 | D_fake2: 0.1173\n",
      "=> EPOCH 23 | Time: 73s | D_loss: 0.1619 | G_loss: 6.1765 | D_real: 0.9450 | D_fake1: 0.0582 | D_fake2: 0.0331\n",
      "=> EPOCH 24 | Time: 73s | D_loss: 0.0028 | G_loss: 8.5474 | D_real: 0.9992 | D_fake1: 0.0019 | D_fake2: 0.0007\n",
      "=> EPOCH 25 | Time: 73s | D_loss: 0.1194 | G_loss: 8.3402 | D_real: 0.9754 | D_fake1: 0.0230 | D_fake2: 0.0066\n"
     ]
    }
   ],
   "source": [
    "for epoch in range(1, args.epochs+1):\n",
    "    train(args, data_loader, netG, netD, G_optimizer, D_optimizer,\n",
    "          criterion, epoch)\n",
    "    generate(args, netG, epoch)"
   ]
  },
  {
   "cell_type": "code",
   "execution_count": 13,
   "metadata": {
    "ExecuteTime": {
     "end_time": "2017-04-06T16:26:06.331727Z",
     "start_time": "2017-04-07T01:26:06.300585+09:00"
    },
    "collapsed": true,
    "deletable": true,
    "editable": true,
    "hidden": true
   },
   "outputs": [],
   "source": [
    "torch.save(netG.state_dict(), os.path.join(args.intermediate_path,\n",
    "                                           \"netG.pth\"))"
   ]
  }
 ],
 "metadata": {
  "kernelspec": {
   "display_name": "Python [conda env:pydata]",
   "language": "python",
   "name": "conda-env-pydata-py"
  },
  "language_info": {
   "codemirror_mode": {
    "name": "ipython",
    "version": 3
   },
   "file_extension": ".py",
   "mimetype": "text/x-python",
   "name": "python",
   "nbconvert_exporter": "python",
   "pygments_lexer": "ipython3",
   "version": "3.5.2"
  }
 },
 "nbformat": 4,
 "nbformat_minor": 2
}
