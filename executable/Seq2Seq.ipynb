{
 "cells": [
  {
   "cell_type": "markdown",
   "metadata": {
    "collapsed": true,
    "deletable": true,
    "editable": true
   },
   "source": [
    "Source: https://github.com/spro/practical-pytorch/blob/master/seq2seq-translation/seq2seq-translation.ipynb."
   ]
  },
  {
   "cell_type": "markdown",
   "metadata": {
    "deletable": true,
    "editable": true
   },
   "source": [
    "# Translate Korean to English"
   ]
  },
  {
   "cell_type": "markdown",
   "metadata": {
    "deletable": true,
    "editable": true
   },
   "source": [
    "## Setup"
   ]
  },
  {
   "cell_type": "code",
   "execution_count": 1,
   "metadata": {
    "collapsed": true,
    "deletable": true,
    "editable": true
   },
   "outputs": [],
   "source": [
    "# import libraries to work with strings\n",
    "import os\n",
    "import unicodedata\n",
    "import string\n",
    "import re\n",
    "import random"
   ]
  },
  {
   "cell_type": "code",
   "execution_count": 2,
   "metadata": {
    "collapsed": true,
    "deletable": true,
    "editable": true
   },
   "outputs": [],
   "source": [
    "# PyTorch modules\n",
    "import torch\n",
    "import torch.nn as nn\n",
    "from torch.autograd import Variable\n",
    "import torch.optim as optim\n",
    "import torch.nn.functional as F"
   ]
  },
  {
   "cell_type": "markdown",
   "metadata": {
    "deletable": true,
    "editable": true
   },
   "source": [
    "## Utilities"
   ]
  },
  {
   "cell_type": "code",
   "execution_count": 24,
   "metadata": {
    "collapsed": true,
    "deletable": true,
    "editable": true
   },
   "outputs": [],
   "source": [
    "# useful tokens\n",
    "SOS_token = 0\n",
    "EOS_token = 1"
   ]
  },
  {
   "cell_type": "code",
   "execution_count": 22,
   "metadata": {
    "collapsed": true,
    "deletable": true,
    "editable": true
   },
   "outputs": [],
   "source": [
    "# useful class to get the index for a word and get the word for an index\n",
    "class Lang:\n",
    "    def __init__(self, name):\n",
    "        self.name = name\n",
    "        self.word2index = {}\n",
    "        self.word2count = {}\n",
    "        self.index2word = {0: \"SOS\", 1: \"EOS\"}\n",
    "        # n_words is the index of next new word\n",
    "        self.n_words = 2 # Count SOS and EOS\n",
    "    \n",
    "    # no punctuation for these sentences\n",
    "    def addSentence(self, sentence):\n",
    "        for word in sentence.split(\" \"):\n",
    "            self.addWord(word)\n",
    "    \n",
    "    # \n",
    "    def addWord(self, word):\n",
    "        if word not in self.word2index:\n",
    "            self.word2index[word] = self.n_words\n",
    "            self.word2count[word] = 1\n",
    "            self.index2word[self.n_words] = word\n",
    "            self.n_words += 1\n",
    "        else:\n",
    "            self.word2count[word] += 1"
   ]
  },
  {
   "cell_type": "code",
   "execution_count": 155,
   "metadata": {
    "collapsed": true,
    "deletable": true,
    "editable": true
   },
   "outputs": [],
   "source": [
    "# Turn a Unicode string to plain ASCII\n",
    "# thanks to http://stackoverflow.com/a/518232/2809427\n",
    "def unicodeToAscii(s):\n",
    "    return \"\".join(\n",
    "        c for c in unicodedata.normalize(\"NFD\", s)\n",
    "        if unicodedata.category(c) != \"Mn\"\n",
    "    )\n",
    "\n",
    "# Lowercase, trim, and remove non-letter characters\n",
    "def normalizeString(s, lang=\"en\"):\n",
    "    s = unicodeToAscii(s.strip().lstrip(\"#\").lower())\n",
    "    s = re.sub(r\"([.!?]+)\", r\" .\", s)\n",
    "    if lang == \"en\":\n",
    "        s = re.sub(r\"[^a-z.]+\", r\" \", s)\n",
    "    return s"
   ]
  },
  {
   "cell_type": "code",
   "execution_count": 20,
   "metadata": {
    "collapsed": false,
    "deletable": true,
    "editable": true
   },
   "outputs": [
    {
     "data": {
      "text/plain": [
       "'hi eve ?WHOAry .WHOAone i wa .WHOAfff'"
      ]
     },
     "execution_count": 20,
     "metadata": {},
     "output_type": "execute_result"
    }
   ],
   "source": [
    "# example\n",
    "re.sub(r\"([.!?])\", r\" \\1WHOA\", \"hi eve?ry.one i wa.fff\")"
   ]
  },
  {
   "cell_type": "code",
   "execution_count": 139,
   "metadata": {
    "collapsed": true,
    "deletable": true,
    "editable": true
   },
   "outputs": [],
   "source": [
    "def read_file(filepath):\n",
    "    pairs = []\n",
    "    with open(filepath, \"rb\") as f:\n",
    "        while True:\n",
    "            line = f.readline()\n",
    "            if line == b\"\":\n",
    "                break\n",
    "            if line.startswith(b\"[\"):\n",
    "                en_sentence = f.readline().decode(\"cp437\")\n",
    "                kr_sentence = f.readline().decode(\"cp949\")\n",
    "                pairs.append([normalizeString(en_sentence),\n",
    "                              normalizeString(kr_sentence, lang=\"kr\")])\n",
    "    return pairs"
   ]
  },
  {
   "cell_type": "code",
   "execution_count": 73,
   "metadata": {
    "collapsed": true,
    "deletable": true,
    "editable": true
   },
   "outputs": [],
   "source": [
    "import glob"
   ]
  },
  {
   "cell_type": "code",
   "execution_count": 84,
   "metadata": {
    "collapsed": false,
    "deletable": true,
    "editable": true
   },
   "outputs": [
    {
     "name": "stdout",
     "output_type": "stream",
     "text": [
      "cekcorpus00.txt\r\n"
     ]
    }
   ],
   "source": [
    "!ls ../data/en2ko"
   ]
  },
  {
   "cell_type": "code",
   "execution_count": 142,
   "metadata": {
    "collapsed": true,
    "deletable": true,
    "editable": true
   },
   "outputs": [],
   "source": [
    "data_path = os.path.join(\"..\", \"data\", \"en2ko\", \"Corpus10\")"
   ]
  },
  {
   "cell_type": "code",
   "execution_count": 143,
   "metadata": {
    "collapsed": false,
    "deletable": true,
    "editable": true
   },
   "outputs": [
    {
     "data": {
      "text/plain": [
       "['../data/en2ko/Corpus10/cekcorpus45-2.txt',\n",
       " '../data/en2ko/Corpus10/cekcorpus13.txt',\n",
       " '../data/en2ko/Corpus10/cekcorpus55-2.txt',\n",
       " '../data/en2ko/Corpus10/cekcorpus33-2.txt',\n",
       " '../data/en2ko/Corpus10/cekcorpus40-2.txt',\n",
       " '../data/en2ko/Corpus10/cekcorpus40-1.txt',\n",
       " '../data/en2ko/Corpus10/cekcorpus30-2.txt',\n",
       " '../data/en2ko/Corpus10/cekcorpus10.txt',\n",
       " '../data/en2ko/Corpus10/cekcorpus28-2.txt',\n",
       " '../data/en2ko/Corpus10/cekcorpus55-1.txt',\n",
       " '../data/en2ko/Corpus10/cekcorpus15-1.txt',\n",
       " '../data/en2ko/Corpus10/cekcorpus38.txt',\n",
       " '../data/en2ko/Corpus10/cekcorpus54-1.txt',\n",
       " '../data/en2ko/Corpus10/cekcorpus21.txt',\n",
       " '../data/en2ko/Corpus10/cekcorpus07.txt',\n",
       " '../data/en2ko/Corpus10/cekcorpus53.txt',\n",
       " '../data/en2ko/Corpus10/cekcorpus29-2.txt',\n",
       " '../data/en2ko/Corpus10/cekcorpus45-1.txt',\n",
       " '../data/en2ko/Corpus10/cekcorpus32-1.txt',\n",
       " '../data/en2ko/Corpus10/cekcorpus33-1.txt',\n",
       " '../data/en2ko/Corpus10/cekcorpus49-2.txt',\n",
       " '../data/en2ko/Corpus10/cekcorpus35-2.txt',\n",
       " '../data/en2ko/Corpus10/cekcorpus08.txt',\n",
       " '../data/en2ko/Corpus10/cekcorpus02.txt',\n",
       " '../data/en2ko/Corpus10/cekcorpus19-1a.txt',\n",
       " '../data/en2ko/Corpus10/cekcorpus19-2.txt',\n",
       " '../data/en2ko/Corpus10/cekcorpus47-2.txt',\n",
       " '../data/en2ko/Corpus10/cekcorpus37-2.txt',\n",
       " '../data/en2ko/Corpus10/cekcorpus27-1.txt',\n",
       " '../data/en2ko/Corpus10/cekcorpus-b.txt',\n",
       " '../data/en2ko/Corpus10/cekcorpus36.txt',\n",
       " '../data/en2ko/Corpus10/cekcorpus28-1.txt',\n",
       " '../data/en2ko/Corpus10/cekcorpus15-2.txt',\n",
       " '../data/en2ko/Corpus10/cekcorpus11.txt',\n",
       " '../data/en2ko/Corpus10/cekcorpus05.txt',\n",
       " '../data/en2ko/Corpus10/cekcorpus51.txt',\n",
       " '../data/en2ko/Corpus10/cekcorpus16.txt',\n",
       " '../data/en2ko/Corpus10/cekcorpus43.txt',\n",
       " '../data/en2ko/Corpus10/cekcorpus22.txt',\n",
       " '../data/en2ko/Corpus10/cekcorpus18.txt',\n",
       " '../data/en2ko/Corpus10/cekcorpus29-1.txt',\n",
       " '../data/en2ko/Corpus10/cekcorpus31.txt',\n",
       " '../data/en2ko/Corpus10/cekcorpus01.txt',\n",
       " '../data/en2ko/Corpus10/cekcorpus52-2.txt',\n",
       " '../data/en2ko/Corpus10/cekcorpus26.txt',\n",
       " '../data/en2ko/Corpus10/cekcorpus20-2.txt',\n",
       " '../data/en2ko/Corpus10/cekcorpus09.txt',\n",
       " '../data/en2ko/Corpus10/cekcorpus47-1.txt',\n",
       " '../data/en2ko/Corpus10/cekcorpus24-2.txt',\n",
       " '../data/en2ko/Corpus10/cekcorpus41.txt',\n",
       " '../data/en2ko/Corpus10/cekcorpus25-2.txt',\n",
       " '../data/en2ko/Corpus10/cekcorpus27-2.txt',\n",
       " '../data/en2ko/Corpus10/cekcorpus-a.txt',\n",
       " '../data/en2ko/Corpus10/cekcorpus34.txt',\n",
       " '../data/en2ko/Corpus10/cekcorpus27-1b.txt',\n",
       " '../data/en2ko/Corpus10/샘플6만중영한코퍼스.txt',\n",
       " '../data/en2ko/Corpus10/cekcorpus14.txt',\n",
       " '../data/en2ko/Corpus10/cekcorpus49-1.txt',\n",
       " '../data/en2ko/Corpus10/cekcorpus12.txt',\n",
       " '../data/en2ko/Corpus10/cekcorpus19-1b.txt',\n",
       " '../data/en2ko/Corpus10/cekcorpus40-1b.txt',\n",
       " '../data/en2ko/Corpus10/cekcorpus48.txt',\n",
       " '../data/en2ko/Corpus10/cekcorpus54-2.txt',\n",
       " '../data/en2ko/Corpus10/cekcorpus25-1.txt',\n",
       " '../data/en2ko/Corpus10/cekcorpus06.txt',\n",
       " '../data/en2ko/Corpus10/cekcorpus50-2.txt',\n",
       " '../data/en2ko/Corpus10/cekcorpus03.txt',\n",
       " '../data/en2ko/Corpus10/cekcorpus24-1.txt',\n",
       " '../data/en2ko/Corpus10/cekcorpus20-1.txt',\n",
       " '../data/en2ko/Corpus10/cekcorpus00.txt',\n",
       " '../data/en2ko/Corpus10/cekcorpus19-1c.txt',\n",
       " '../data/en2ko/Corpus10/cekcorpus52-1.txt',\n",
       " '../data/en2ko/Corpus10/cekcorpus04.txt',\n",
       " '../data/en2ko/Corpus10/cekcorpus32-2.txt',\n",
       " '../data/en2ko/Corpus10/cekcorpus42-1.txt',\n",
       " '../data/en2ko/Corpus10/cekcorpus23.txt',\n",
       " '../data/en2ko/Corpus10/cekcorpus30-1.txt',\n",
       " '../data/en2ko/Corpus10/cekcorpus44.txt',\n",
       " '../data/en2ko/Corpus10/cekcorpus42-2.txt',\n",
       " '../data/en2ko/Corpus10/cekcorpus39.txt',\n",
       " '../data/en2ko/Corpus10/cekcorpus17.txt',\n",
       " '../data/en2ko/Corpus10/cekcorpus50-1.txt',\n",
       " '../data/en2ko/Corpus10/cekcorpus35-1.txt',\n",
       " '../data/en2ko/Corpus10/cekcorpus46.txt',\n",
       " '../data/en2ko/Corpus10/cekcorpus37-1.txt']"
      ]
     },
     "execution_count": 143,
     "metadata": {},
     "output_type": "execute_result"
    }
   ],
   "source": [
    "glob.glob(data_path + \"/*.txt\")"
   ]
  },
  {
   "cell_type": "code",
   "execution_count": 140,
   "metadata": {
    "collapsed": false,
    "deletable": true,
    "editable": true
   },
   "outputs": [],
   "source": [
    "def readLangs(lang1, lang2, reverse=False):\n",
    "    print(\"Reading lines...\")\n",
    "\n",
    "    # Read the file and split into lines\n",
    "    #lines = open('../data/%s-%s.txt' % (lang1, lang2)).read().strip().split('\\n')\n",
    "    \n",
    "    # Split every line into pairs and normalize\n",
    "    #pairs = [[normalizeString(s) for s in l.split('\\t')] for l in lines]\n",
    "    pairs = []\n",
    "    for filepath in glob.glob(data_path + \"/*\"):\n",
    "        pairs += read_file(filepath)\n",
    "    \n",
    "    # Reverse pairs, make Lang instances\n",
    "    if reverse:\n",
    "        pairs = [list(reversed(p)) for p in pairs]\n",
    "        input_lang = Lang(lang2)\n",
    "        output_lang = Lang(lang1)\n",
    "    else:\n",
    "        input_lang = Lang(lang1)\n",
    "        output_lang = Lang(lang2)\n",
    "        \n",
    "    return input_lang, output_lang, pairs"
   ]
  },
  {
   "cell_type": "code",
   "execution_count": 100,
   "metadata": {
    "collapsed": false,
    "deletable": true,
    "editable": true
   },
   "outputs": [
    {
     "name": "stdout",
     "output_type": "stream",
     "text": [
      "warning [../data/en2ko/IggenPRIiUif6nF.zip]:  13 extra bytes at beginning or within zipfile\n",
      "  (attempting to process anyway)\n",
      "No errors detected in compressed data of ../data/en2ko/IggenPRIiUif6nF.zip.\n"
     ]
    }
   ],
   "source": [
    "file_to_unzip = os.path.join(data_path, \"IggenPRIiUif6nF.zip\")\n",
    "!unzip -tq $file_to_unzip"
   ]
  },
  {
   "cell_type": "code",
   "execution_count": 156,
   "metadata": {
    "collapsed": false,
    "deletable": true,
    "editable": true
   },
   "outputs": [
    {
     "name": "stdout",
     "output_type": "stream",
     "text": [
      "Reading lines...\n"
     ]
    }
   ],
   "source": [
    "input_lang, output_lang, pairs = readLangs(\"en\", \"ko\", reverse=True)"
   ]
  },
  {
   "cell_type": "code",
   "execution_count": 94,
   "metadata": {
    "collapsed": false,
    "deletable": true,
    "editable": true
   },
   "outputs": [
    {
     "data": {
      "text/plain": [
       "'ko'"
      ]
     },
     "execution_count": 94,
     "metadata": {},
     "output_type": "execute_result"
    }
   ],
   "source": [
    "input_lang.name"
   ]
  },
  {
   "cell_type": "code",
   "execution_count": 93,
   "metadata": {
    "collapsed": false,
    "deletable": true,
    "editable": true
   },
   "outputs": [
    {
     "data": {
      "text/plain": [
       "[['명령은 아래와 같이 반포되었다 .', 'the order went forth that .'],\n",
       " ['명령은 반드시 엄격히 준수해야 한다 .',\n",
       "  'the orders must be strictly obeyed .'],\n",
       " ['운명의 여신은 용사를 특별히 애호하신다 .',\n",
       "  'fortune favors the brave  .'],\n",
       " ['운명에 그가 죽을 것이라고 정해졌다 .',\n",
       "  'fate destined that he shall die .'],\n",
       " ['운명에 그는 목사가 될 것이라고 정해졌다 .',\n",
       "  'fate had ordained him to die young .'],\n",
       " ['우리가 이기는 것은 운명으로 정해졌다 .',\n",
       "  'he was destined to enter the church .'],\n",
       " ['그가 교수형을 받는 것은 운명으로 정해졌다 .',\n",
       "  'he is destined to the gallows .'],\n",
       " ['우리가 이기는 것은 운명으로 정해졌다 .',\n",
       "  'it was preordained that we should win .'],\n",
       " ['만져보면 그것이 뜨거운지 알 수 있다 .', 'feel whether it is hot .'],\n",
       " ['내 찬 손을 좀 만져봐 .', 'feel my cold hands .']]"
      ]
     },
     "execution_count": 93,
     "metadata": {},
     "output_type": "execute_result"
    }
   ],
   "source": [
    "pairs[:10]"
   ]
  },
  {
   "cell_type": "markdown",
   "metadata": {
    "deletable": true,
    "editable": true
   },
   "source": [
    "## Work with Korean"
   ]
  },
  {
   "cell_type": "code",
   "execution_count": 24,
   "metadata": {
    "collapsed": false,
    "deletable": true,
    "editable": true
   },
   "outputs": [
    {
     "name": "stdout",
     "output_type": "stream",
     "text": [
      "cekcorpus00.txt\r\n"
     ]
    }
   ],
   "source": [
    "!ls ../data/ko2en"
   ]
  },
  {
   "cell_type": "code",
   "execution_count": 15,
   "metadata": {
    "collapsed": false,
    "deletable": true,
    "editable": true
   },
   "outputs": [],
   "source": [
    "with open(\"../data/ko2en/cekcorpus00.txt\", \"rb\") as f:\n",
    "    for i in range(6):\n",
    "        a = f.readline()\n",
    "    a = f.readline()"
   ]
  },
  {
   "cell_type": "code",
   "execution_count": 16,
   "metadata": {
    "collapsed": false,
    "deletable": true,
    "editable": true
   },
   "outputs": [
    {
     "data": {
      "text/plain": [
       "b'#The orders must be strictly obeyed.\\r\\n'"
      ]
     },
     "execution_count": 16,
     "metadata": {},
     "output_type": "execute_result"
    }
   ],
   "source": [
    "a"
   ]
  },
  {
   "cell_type": "code",
   "execution_count": 43,
   "metadata": {
    "collapsed": false,
    "deletable": true,
    "editable": true
   },
   "outputs": [],
   "source": [
    "c = b'[1]\\r\\n'"
   ]
  },
  {
   "cell_type": "code",
   "execution_count": 44,
   "metadata": {
    "collapsed": false,
    "deletable": true,
    "editable": true
   },
   "outputs": [
    {
     "data": {
      "text/plain": [
       "91"
      ]
     },
     "execution_count": 44,
     "metadata": {},
     "output_type": "execute_result"
    }
   ],
   "source": [
    "c[0]"
   ]
  },
  {
   "cell_type": "code",
   "execution_count": 34,
   "metadata": {
    "collapsed": false,
    "deletable": true,
    "editable": true
   },
   "outputs": [
    {
     "data": {
      "text/plain": [
       "'#명령은 아래와 같이 반포되었다.\\r\\n'"
      ]
     },
     "execution_count": 34,
     "metadata": {},
     "output_type": "execute_result"
    }
   ],
   "source": [
    "a.decode(\"cp949\")"
   ]
  },
  {
   "cell_type": "code",
   "execution_count": 36,
   "metadata": {
    "collapsed": false,
    "deletable": true,
    "editable": true
   },
   "outputs": [],
   "source": [
    "b = a.decode(\"korean\")"
   ]
  },
  {
   "cell_type": "code",
   "execution_count": 37,
   "metadata": {
    "collapsed": false,
    "deletable": true,
    "editable": true
   },
   "outputs": [
    {
     "data": {
      "text/plain": [
       "str"
      ]
     },
     "execution_count": 37,
     "metadata": {},
     "output_type": "execute_result"
    }
   ],
   "source": [
    "type(b)"
   ]
  },
  {
   "cell_type": "code",
   "execution_count": 62,
   "metadata": {
    "collapsed": true,
    "deletable": true,
    "editable": true
   },
   "outputs": [],
   "source": [
    "from IPython.core.debugger import Tracer"
   ]
  },
  {
   "cell_type": "code",
   "execution_count": 68,
   "metadata": {
    "collapsed": false,
    "deletable": true,
    "editable": true
   },
   "outputs": [],
   "source": [
    "pairs = []\n",
    "with open(\"../data/ko2en/cekcorpus00.txt\", \"rb\") as f:\n",
    "    while True:\n",
    "        line = f.readline()\n",
    "        if line == b\"\":\n",
    "            break\n",
    "        if line.startswith(b\"[\"):\n",
    "            en_sentence = f.readline().decode(\"cp437\")\n",
    "            kr_sentence = f.readline().decode(\"cp949\")\n",
    "            pairs.append([normalizeString(en_sentence),\n",
    "                          normalizeString(kr_sentence, lang=\"kr\")])"
   ]
  },
  {
   "cell_type": "code",
   "execution_count": 69,
   "metadata": {
    "collapsed": false,
    "deletable": true,
    "editable": true
   },
   "outputs": [
    {
     "data": {
      "text/plain": [
       "[['the order went forth that .', '명령은 아래와 같이 반포되었다 .'],\n",
       " ['the orders must be strictly obeyed .',\n",
       "  '명령은 반드시 엄격히 준수해야 한다 .'],\n",
       " ['fortune favors the brave  .',\n",
       "  '운명의 여신은 용사를 특별히 애호하신다 .'],\n",
       " ['fate destined that he shall die .',\n",
       "  '운명에 그가 죽을 것이라고 정해졌다 .'],\n",
       " ['fate had ordained him to die young .',\n",
       "  '운명에 그는 목사가 될 것이라고 정해졌다 .'],\n",
       " ['he was destined to enter the church .',\n",
       "  '우리가 이기는 것은 운명으로 정해졌다 .'],\n",
       " ['he is destined to the gallows .',\n",
       "  '그가 교수형을 받는 것은 운명으로 정해졌다 .'],\n",
       " ['it was preordained that we should win .',\n",
       "  '우리가 이기는 것은 운명으로 정해졌다 .'],\n",
       " ['feel whether it is hot .', '만져보면 그것이 뜨거운지 알 수 있다 .'],\n",
       " ['feel my cold hands .', '내 찬 손을 좀 만져봐 .']]"
      ]
     },
     "execution_count": 69,
     "metadata": {},
     "output_type": "execute_result"
    }
   ],
   "source": [
    "pairs[:10]"
   ]
  },
  {
   "cell_type": "code",
   "execution_count": 38,
   "metadata": {
    "collapsed": false,
    "deletable": true,
    "editable": true
   },
   "outputs": [
    {
     "data": {
      "text/plain": [
       "' .'"
      ]
     },
     "execution_count": 38,
     "metadata": {},
     "output_type": "execute_result"
    }
   ],
   "source": [
    "normalizeString(a[1])"
   ]
  },
  {
   "cell_type": "code",
   "execution_count": 50,
   "metadata": {
    "collapsed": false,
    "deletable": true,
    "editable": true
   },
   "outputs": [],
   "source": [
    "b = unicodeToAscii(a[0])"
   ]
  },
  {
   "cell_type": "code",
   "execution_count": 51,
   "metadata": {
    "collapsed": false,
    "deletable": true,
    "editable": true
   },
   "outputs": [
    {
     "data": {
      "text/plain": [
       "'#The order went forth that .\\r\\n'"
      ]
     },
     "execution_count": 51,
     "metadata": {},
     "output_type": "execute_result"
    }
   ],
   "source": [
    "re.sub(r\"([.!?]+)\", r\" .\", b)"
   ]
  },
  {
   "cell_type": "code",
   "execution_count": 54,
   "metadata": {
    "collapsed": false,
    "deletable": true,
    "editable": true
   },
   "outputs": [
    {
     "data": {
      "text/plain": [
       "' the order went forth that .'"
      ]
     },
     "execution_count": 54,
     "metadata": {},
     "output_type": "execute_result"
    }
   ],
   "source": [
    "normalizeString(a[0])"
   ]
  },
  {
   "cell_type": "code",
   "execution_count": 56,
   "metadata": {
    "collapsed": false,
    "deletable": true,
    "editable": true
   },
   "outputs": [
    {
     "data": {
      "text/plain": [
       "'The order went forth that...'"
      ]
     },
     "execution_count": 56,
     "metadata": {},
     "output_type": "execute_result"
    }
   ],
   "source": [
    "a[0].strip(\"#\\r\\n\")"
   ]
  },
  {
   "cell_type": "code",
   "execution_count": 58,
   "metadata": {
    "collapsed": false,
    "deletable": true,
    "editable": true
   },
   "outputs": [
    {
     "data": {
      "text/plain": [
       "'#The order went forth that...'"
      ]
     },
     "execution_count": 58,
     "metadata": {},
     "output_type": "execute_result"
    }
   ],
   "source": [
    "a[0].strip()"
   ]
  },
  {
   "cell_type": "code",
   "execution_count": 107,
   "metadata": {
    "collapsed": false,
    "deletable": true,
    "editable": true
   },
   "outputs": [
    {
     "data": {
      "text/plain": [
       "62049"
      ]
     },
     "execution_count": 107,
     "metadata": {},
     "output_type": "execute_result"
    }
   ],
   "source": [
    "len(pairs)"
   ]
  },
  {
   "cell_type": "code",
   "execution_count": 30,
   "metadata": {
    "collapsed": true,
    "deletable": true,
    "editable": true
   },
   "outputs": [],
   "source": [
    "# filter data, max length 10\n",
    "MAX_LENGTH = 10\n",
    "\n",
    "eng_prefixes = (\n",
    "    \"i am \", \"i m \",\n",
    "    \"he is\", \"he s \",\n",
    "    \"she is\", \"she s \",\n",
    "    \"you are\", \"you re \",\n",
    "    \"we are\", \"we re \",\n",
    "    \"they are\", \"they re \"\n",
    ")\n",
    "\n",
    "def filterPair(p):\n",
    "    return len(p[0].split()) < MAX_LENGTH and \\\n",
    "        len(p[1].split()) < MAX_LENGTH and \\\n",
    "        p[1].startswith(eng_prefixes)\n",
    "\n",
    "def filterPairs(pairs):\n",
    "    return [pair for pair in pairs if filterPair(pair)]\n",
    "\n",
    "pairs = filterPairs(pairs)"
   ]
  },
  {
   "cell_type": "code",
   "execution_count": 151,
   "metadata": {
    "collapsed": false,
    "deletable": true,
    "editable": true
   },
   "outputs": [
    {
     "data": {
      "text/plain": [
       "62049"
      ]
     },
     "execution_count": 151,
     "metadata": {},
     "output_type": "execute_result"
    }
   ],
   "source": [
    "len(pairs)"
   ]
  },
  {
   "cell_type": "code",
   "execution_count": 157,
   "metadata": {
    "collapsed": false,
    "deletable": true,
    "editable": true
   },
   "outputs": [],
   "source": []
  },
  {
   "cell_type": "code",
   "execution_count": 158,
   "metadata": {
    "collapsed": false,
    "deletable": true,
    "editable": true
   },
   "outputs": [
    {
     "data": {
      "text/plain": [
       "2246"
      ]
     },
     "execution_count": 158,
     "metadata": {},
     "output_type": "execute_result"
    }
   ],
   "source": [
    "len(new_pairs)"
   ]
  },
  {
   "cell_type": "code",
   "execution_count": 159,
   "metadata": {
    "collapsed": false,
    "deletable": true,
    "editable": true
   },
   "outputs": [
    {
     "name": "stdout",
     "output_type": "stream",
     "text": [
      "Trimmed to 2246 sentence pairs\n",
      "Counting words...\n",
      "Counted words:\n",
      "ko 4044\n",
      "en 2570\n"
     ]
    }
   ],
   "source": [
    "print(\"Trimmed to %s sentence pairs\" % len(new_pairs))\n",
    "print(\"Counting words...\")\n",
    "for pair in new_pairs:\n",
    "    input_lang.addSentence(pair[0])\n",
    "    output_lang.addSentence(pair[1])\n",
    "print(\"Counted words:\")\n",
    "print(input_lang.name, input_lang.n_words)\n",
    "print(output_lang.name, output_lang.n_words)"
   ]
  },
  {
   "cell_type": "code",
   "execution_count": 154,
   "metadata": {
    "collapsed": false,
    "deletable": true,
    "editable": true
   },
   "outputs": [
    {
     "data": {
      "text/plain": [
       "'그는'"
      ]
     },
     "execution_count": 154,
     "metadata": {},
     "output_type": "execute_result"
    }
   ],
   "source": [
    "input_lang.index2word[2]"
   ]
  },
  {
   "cell_type": "code",
   "execution_count": 115,
   "metadata": {
    "collapsed": false,
    "deletable": true,
    "editable": true
   },
   "outputs": [
    {
     "name": "stdout",
     "output_type": "stream",
     "text": [
      "['나는 두렵다 .', 'i am afraid .']\n"
     ]
    }
   ],
   "source": [
    "print(random.choice(new_pairs))"
   ]
  },
  {
   "cell_type": "code",
   "execution_count": 117,
   "metadata": {
    "collapsed": false,
    "deletable": true,
    "editable": true
   },
   "outputs": [
    {
     "data": {
      "text/plain": [
       "2237"
      ]
     },
     "execution_count": 117,
     "metadata": {},
     "output_type": "execute_result"
    }
   ],
   "source": [
    "len(new_pairs)"
   ]
  },
  {
   "cell_type": "code",
   "execution_count": 160,
   "metadata": {
    "collapsed": true,
    "deletable": true,
    "editable": true
   },
   "outputs": [],
   "source": [
    "import pickle"
   ]
  },
  {
   "cell_type": "code",
   "execution_count": 165,
   "metadata": {
    "collapsed": true,
    "deletable": true,
    "editable": true
   },
   "outputs": [],
   "source": [
    "intermediate_path = os.path.join(\"..\", \"intermediate\", \"seq2seq\")"
   ]
  },
  {
   "cell_type": "code",
   "execution_count": 167,
   "metadata": {
    "collapsed": false,
    "deletable": true,
    "editable": true
   },
   "outputs": [],
   "source": [
    "!mkdir $intermediate_path"
   ]
  },
  {
   "cell_type": "code",
   "execution_count": 168,
   "metadata": {
    "collapsed": true,
    "deletable": true,
    "editable": true
   },
   "outputs": [],
   "source": [
    "input_lang_filepath = os.path.join(intermediate_path, \"input_lang.pkl\")\n",
    "output_lang_filepath = os.path.join(intermediate_path, \"output_lang.pkl\")\n",
    "pairs_filepath = os.path.join(intermediate_path, \"pairs.pkl\")"
   ]
  },
  {
   "cell_type": "code",
   "execution_count": 170,
   "metadata": {
    "collapsed": false,
    "deletable": true,
    "editable": true
   },
   "outputs": [],
   "source": [
    "with open(input_lang_filepath, \"wb\") as f:\n",
    "    pickle.dump(input_lang, f)"
   ]
  },
  {
   "cell_type": "code",
   "execution_count": 171,
   "metadata": {
    "collapsed": true,
    "deletable": true,
    "editable": true
   },
   "outputs": [],
   "source": [
    "with open(input_lang_filepath, \"rb\") as f:\n",
    "    a = pickle.load(f)"
   ]
  },
  {
   "cell_type": "code",
   "execution_count": 174,
   "metadata": {
    "collapsed": false,
    "deletable": true,
    "editable": true
   },
   "outputs": [],
   "source": [
    "with open(output_lang_filepath, \"wb\") as f:\n",
    "    pickle.dump(output_lang, f)"
   ]
  },
  {
   "cell_type": "code",
   "execution_count": 175,
   "metadata": {
    "collapsed": true,
    "deletable": true,
    "editable": true
   },
   "outputs": [],
   "source": [
    "with open(pairs_filepath, \"wb\") as f:\n",
    "    pickle.dump(pairs, f)"
   ]
  },
  {
   "cell_type": "code",
   "execution_count": null,
   "metadata": {
    "collapsed": true,
    "deletable": true,
    "editable": true
   },
   "outputs": [],
   "source": [
    "[inpu]"
   ]
  },
  {
   "cell_type": "markdown",
   "metadata": {
    "deletable": true,
    "editable": true
   },
   "source": [
    "## Build model"
   ]
  },
  {
   "cell_type": "code",
   "execution_count": 3,
   "metadata": {
    "collapsed": true,
    "deletable": true,
    "editable": true
   },
   "outputs": [],
   "source": [
    "class EncoderRNN(nn.Module):\n",
    "    def __init__(self, input_size, hidden_size, n_layers=1):\n",
    "        super(EncoderRNN, self).__init__()\n",
    "        self.n_layers = n_layers\n",
    "        self.hidden_size = hidden_size\n",
    "        \n",
    "        self.embedding = nn.Embedding(input_size, hidden_size)\n",
    "        self.gru = nn.GRU(hidden_size, hidden_size)\n",
    "        \n",
    "    def forward(self, input, hidden):\n",
    "        embedded = self.embedding(input).view(1, 1, -1)\n",
    "        output = embedded\n",
    "        for i in range(self.n_layers):\n",
    "            output, hidden = self.gru(output, hidden)\n",
    "        return output, hidden\n",
    "\n",
    "    def initHidden(self):\n",
    "        return Variable(torch.zeros(1, 1, self.hidden_size))"
   ]
  },
  {
   "cell_type": "code",
   "execution_count": 4,
   "metadata": {
    "collapsed": true,
    "deletable": true,
    "editable": true
   },
   "outputs": [],
   "source": [
    "class DecoderRNN(nn.Module):\n",
    "    def __init__(self, hidden_size, output_size, n_layers=1):\n",
    "        super(DecoderRNN, self).__init__()\n",
    "        self.n_layers = n_layers\n",
    "        self.hidden_size = hidden_size\n",
    "        \n",
    "        self.embedding = nn.Embedding(output_size, hidden_size)\n",
    "        self.gru = nn.GRU(hidden_size, hidden_size)\n",
    "        self.out = nn.Linear(hidden_size, output_size)\n",
    "        self.softmax = nn.LogSoftmax()\n",
    "        \n",
    "    def forward(self, input, hidden):\n",
    "        output = self.embedding(input).view(1, 1, -1)\n",
    "        for i in range(self.n_layers):\n",
    "            output = F.relu(output)\n",
    "            output, hidden = self.gru(output, hidden)\n",
    "        output = self.softmax(self.out(output[0]))\n",
    "        return output, hidden\n",
    "\n",
    "    def initHidden(self):\n",
    "        return Variable(torch.zeros(1, 1, self.hidden_size))"
   ]
  },
  {
   "cell_type": "code",
   "execution_count": 31,
   "metadata": {
    "collapsed": true,
    "deletable": true,
    "editable": true
   },
   "outputs": [],
   "source": [
    "# filter data, max length 10\n",
    "MAX_LENGTH = 10\n",
    "\n",
    "eng_prefixes = (\n",
    "    \"i am \", \"i m \",\n",
    "    \"he is\", \"he s \",\n",
    "    \"she is\", \"she s \",\n",
    "    \"you are\", \"you re \",\n",
    "    \"we are\", \"we re \",\n",
    "    \"they are\", \"they re \"\n",
    ")\n",
    "\n",
    "def filterPair(p):\n",
    "    return len(p[0].split()) < MAX_LENGTH and \\\n",
    "        len(p[1].split()) < MAX_LENGTH and \\\n",
    "        p[1].startswith(eng_prefixes)\n",
    "\n",
    "def filterPairs(pairs):\n",
    "    return [pair for pair in pairs if filterPair(pair)]\n",
    "\n",
    "pairs = filterPairs(pairs)"
   ]
  },
  {
   "cell_type": "code",
   "execution_count": 7,
   "metadata": {
    "collapsed": false,
    "deletable": true,
    "editable": true
   },
   "outputs": [],
   "source": [
    "class AttnDecoderRNN(nn.Module):\n",
    "    def __init__(self, hidden_size, output_size, n_layers=1, dropout_p=0.1,\n",
    "                 max_length=MAX_LENGTH):\n",
    "        super(AttnDecoderRNN, self).__init__()\n",
    "        self.hidden_size = hidden_size\n",
    "        self.output_size = output_size\n",
    "        self.n_layers = n_layers\n",
    "        self.dropout_p = dropout_p\n",
    "        self.max_length = max_length\n",
    "        \n",
    "        self.embedding = nn.Embedding(self.output_size, self.hidden_size)\n",
    "        self.attn = nn.Linear(self.hidden_size * 2, self.max_length)\n",
    "        self.attn_combine = nn.Linear(self.hidden_size * 2, self.hidden_size)\n",
    "        self.dropout = nn.Dropout(self.dropout_p)\n",
    "        self.gru = nn.GRU(self.hidden_size, self.hidden_size)\n",
    "        self.out = nn.Linear(self.hidden_size, self.output_size)\n",
    "        \n",
    "    def forward(self, input, hidden, encoder_output, encoder_outputs):\n",
    "        embedded = self.embedding(input).view(1, 1, -1)\n",
    "        embedded = self.dropout(embedded)\n",
    "        \n",
    "        attn_weights = F.softmax(self.attn(torch.cat((embedded[0],\n",
    "                                                      hidden[0]), 1)))\n",
    "        attn_applied = torch.bmm(attn_weights.unsqueeze(0),\n",
    "                                 encoder_outputs.unsqueeze(0))\n",
    "        \n",
    "        output = torch.cat((embedded[0], attn_applied[0]), 1)\n",
    "        output = self.attn_combine(output).unsqueeze(0)\n",
    "\n",
    "        for i in range(self.n_layers):\n",
    "            output = F.relu(output)\n",
    "            output, hidden = self.gru(output, hidden)\n",
    "\n",
    "        output = F.log_softmax(self.out(output[0]))\n",
    "        return output, hidden, attn_weights\n",
    "\n",
    "    def initHidden(self):\n",
    "        return Variable(torch.zeros(1, 1, self.hidden_size))"
   ]
  },
  {
   "cell_type": "code",
   "execution_count": 27,
   "metadata": {
    "collapsed": true,
    "deletable": true,
    "editable": true
   },
   "outputs": [],
   "source": [
    "def indexesFromSentence(lang, sentence):\n",
    "    return [lang.word2index[word] for word in sentence.split()]\n",
    "\n",
    "def variableFromSentence(lang, sentence):\n",
    "    indexes = indexesFromSentence(lang, sentence)\n",
    "    indexes.append(EOS_token)\n",
    "    return Variable(torch.LongTensor(indexes).view(-1, 1))\n",
    "\n",
    "def variablesFromPair(pair):\n",
    "    input_variable = variableFromSentence(input_lang, pair[0])\n",
    "    target_variable = variableFromSentence(output_lang, pair[1])\n",
    "    return (input_variable, target_variable)"
   ]
  },
  {
   "cell_type": "code",
   "execution_count": 9,
   "metadata": {
    "collapsed": true,
    "deletable": true,
    "editable": true
   },
   "outputs": [],
   "source": [
    "\n",
    "teacher_forcing_ratio = 0.5\n",
    "\n",
    "def train(input_variable, target_variable, encoder, decoder, encoder_optimizer,\n",
    "          decoder_optimizer, criterion, max_length=MAX_LENGTH):\n",
    "    encoder_hidden = encoder.initHidden()\n",
    "\n",
    "    encoder_optimizer.zero_grad()\n",
    "    decoder_optimizer.zero_grad()\n",
    "\n",
    "    input_length = input_variable.size()[0]\n",
    "    target_length = target_variable.size()[0]\n",
    "    encoder_outputs = Variable(torch.zeros(max_length, encoder.hidden_size))\n",
    "    loss = 0\n",
    "\n",
    "    for ei in range(input_length):\n",
    "        encoder_output, encoder_hidden = encoder(input_variable[ei],\n",
    "                                                 encoder_hidden)\n",
    "        encoder_outputs[ei] = encoder_output[0][0]\n",
    "\n",
    "    decoder_input = Variable(torch.LongTensor([[SOS_token]]))\n",
    "    decoder_hidden = encoder_hidden\n",
    "\n",
    "    use_teacher_forcing = (True if random.random() < teacher_forcing_ratio\n",
    "                           else False)\n",
    "    \n",
    "    if use_teacher_forcing:\n",
    "        # Teacher forcing: Feed the target as the next input\n",
    "        for di in range(target_length):\n",
    "            decoder_output, decoder_hidden, decoder_attention = decoder(\n",
    "                decoder_input, decoder_hidden,\n",
    "                encoder_output, encoder_outputs,\n",
    "            )\n",
    "            loss += criterion(decoder_output[0], target_variable[di])\n",
    "            decoder_input = target_variable[di] # Teacher forcing\n",
    "\n",
    "    else:\n",
    "        # Without teacher forcing: use its own predictions as the next input\n",
    "        for di in range(target_length):\n",
    "            decoder_output, decoder_hidden, decoder_attention = decoder(\n",
    "                decoder_input, decoder_hidden,\n",
    "                encoder_output, encoder_outputs,\n",
    "            )\n",
    "            topv, topi = decoder_output.data.topk(1)\n",
    "            ni = topi[0][0]\n",
    "            decoder_input = Variable(torch.LongTensor([[ni]]))\n",
    "            loss += criterion(decoder_output[0], target_variable[di])\n",
    "            if ni == EOS_token:\n",
    "                break\n",
    "\n",
    "    loss.backward()\n",
    "    \n",
    "    encoder_optimizer.step()\n",
    "    decoder_optimizer.step()\n",
    "    \n",
    "    return loss.data[0] / target_length"
   ]
  },
  {
   "cell_type": "code",
   "execution_count": 10,
   "metadata": {
    "collapsed": true,
    "deletable": true,
    "editable": true
   },
   "outputs": [],
   "source": [
    "import time\n",
    "import math\n",
    "\n",
    "def asMinutes(s):\n",
    "    m = math.floor(s / 60)\n",
    "    s -= m * 60\n",
    "    return '%dm %ds' % (m, s)\n",
    "\n",
    "def timeSince(since, percent):\n",
    "    now = time.time()\n",
    "    s = now - since\n",
    "    es = s / (percent)\n",
    "    rs = es - s\n",
    "    return '%s (- %s)' % (asMinutes(s), asMinutes(rs))"
   ]
  },
  {
   "cell_type": "code",
   "execution_count": 11,
   "metadata": {
    "collapsed": true,
    "deletable": true,
    "editable": true
   },
   "outputs": [],
   "source": [
    "def trainEpochs(encoder, decoder, n_epochs, print_every=1000, plot_every=100, \n",
    "                learning_rate=0.01):\n",
    "    start = time.time()\n",
    "    plot_losses = []\n",
    "    print_loss_total = 0 # Reset every print_every\n",
    "    plot_loss_total = 0 # Reset every plot_every\n",
    "    \n",
    "    encoder_optimizer = optim.SGD(encoder.parameters(), lr=learning_rate)\n",
    "    decoder_optimizer = optim.SGD(decoder.parameters(), lr=learning_rate)\n",
    "    training_pairs = [variablesFromPair(random.choice(pairs))\n",
    "                      for i in range(n_epochs)]\n",
    "    criterion = nn.NLLLoss()\n",
    "    \n",
    "    for epoch in range(1, n_epochs + 1):\n",
    "        training_pair = training_pairs[epoch - 1]\n",
    "        input_variable = training_pair[0]\n",
    "        target_variable = training_pair[1]\n",
    "        loss = train(input_variable, target_variable, encoder, decoder,\n",
    "                     encoder_optimizer, decoder_optimizer, criterion)\n",
    "        print_loss_total += loss\n",
    "        plot_loss_total += loss\n",
    "\n",
    "        if epoch % print_every == 0:\n",
    "            print_loss_avg = print_loss_total / print_every\n",
    "            print_loss_total = 0\n",
    "            print('%s (%d %d%%) %.4f' % (timeSince(start, epoch / n_epochs),\n",
    "                                         epoch, epoch / n_epochs * 100,\n",
    "                                         print_loss_avg))\n",
    "        \n",
    "        if epoch % plot_every == 0:\n",
    "            plot_loss_avg = plot_loss_total / plot_every\n",
    "            plot_losses.append(plot_loss_avg)\n",
    "            plot_loss_total = 0\n",
    "    \n",
    "    showPlot(plot_losses)"
   ]
  },
  {
   "cell_type": "code",
   "execution_count": 12,
   "metadata": {
    "collapsed": true,
    "deletable": true,
    "editable": true
   },
   "outputs": [],
   "source": [
    "import matplotlib.pyplot as plt\n",
    "import matplotlib.ticker as ticker\n",
    "import numpy as np\n",
    "%matplotlib inline\n",
    "\n",
    "def showPlot(points):\n",
    "    plt.figure()\n",
    "    fig, ax = plt.subplots()\n",
    "    loc = ticker.MultipleLocator(base=0.2) # this locator puts ticks at regular intervals\n",
    "    ax.yaxis.set_major_locator(loc)\n",
    "    plt.plot(points)"
   ]
  },
  {
   "cell_type": "code",
   "execution_count": 13,
   "metadata": {
    "collapsed": true,
    "deletable": true,
    "editable": true
   },
   "outputs": [],
   "source": [
    "def evaluate(encoder, decoder, sentence, max_length=MAX_LENGTH):\n",
    "    input_variable = variableFromSentence(input_lang, sentence)\n",
    "    input_length = input_variable.size()[0]\n",
    "    encoder_hidden = encoder.initHidden()\n",
    "    \n",
    "    encoder_outputs = Variable(torch.zeros(max_length, encoder.hidden_size))\n",
    "    \n",
    "    for ei in range(input_length):\n",
    "        encoder_output, encoder_hidden = encoder(input_variable[ei],\n",
    "                                                 encoder_hidden)\n",
    "        encoder_outputs[ei] = encoder_outputs[ei] + encoder_output[0][0]\n",
    "\n",
    "    decoder_input = Variable(torch.LongTensor([[SOS_token]])) # SOS\n",
    "    decoder_hidden = encoder_hidden\n",
    "    \n",
    "    decoded_words = []\n",
    "    decoder_attentions = torch.zeros(max_length, max_length)\n",
    "    \n",
    "    for di in range(max_length):\n",
    "        decoder_output, decoder_hidden, decoder_attention = decoder(\n",
    "            decoder_input, decoder_hidden,\n",
    "            encoder_output, encoder_outputs\n",
    "        )\n",
    "        decoder_attentions[di] = decoder_attention.data\n",
    "        topv, topi = decoder_output.data.topk(1)\n",
    "        ni = topi[0][0]\n",
    "        if ni == EOS_token:\n",
    "            decoded_words.append('<EOS>')\n",
    "            break\n",
    "        else:\n",
    "            decoded_words.append(output_lang.index2word[ni])\n",
    "        decoder_input = Variable(torch.LongTensor([[ni]]))\n",
    "    \n",
    "    return decoded_words, decoder_attentions[:di+1]"
   ]
  },
  {
   "cell_type": "code",
   "execution_count": 14,
   "metadata": {
    "collapsed": true,
    "deletable": true,
    "editable": true
   },
   "outputs": [],
   "source": [
    "def evaluateRandomly(encoder, decoder, n=10):\n",
    "    for i in range(n):\n",
    "        pair = random.choice(pairs)\n",
    "        print('>', pair[0])\n",
    "        print('=', pair[1])\n",
    "        output_words, attentions = evaluate(encoder, decoder, pair[0])\n",
    "        output_sentence = ' '.join(output_words)\n",
    "        print('<', output_sentence)\n",
    "        print('')"
   ]
  },
  {
   "cell_type": "code",
   "execution_count": 17,
   "metadata": {
    "collapsed": true,
    "deletable": true,
    "editable": true
   },
   "outputs": [],
   "source": [
    "intermediate_path = os.path.join(\"..\", \"intermediate\", \"seq2seq\")"
   ]
  },
  {
   "cell_type": "code",
   "execution_count": 18,
   "metadata": {
    "collapsed": false,
    "deletable": true,
    "editable": true
   },
   "outputs": [
    {
     "name": "stdout",
     "output_type": "stream",
     "text": [
      "input_lang.pkl\toutput_lang.pkl  pairs.pkl\r\n"
     ]
    }
   ],
   "source": [
    "!ls $intermediate_path"
   ]
  },
  {
   "cell_type": "code",
   "execution_count": 19,
   "metadata": {
    "collapsed": true,
    "deletable": true,
    "editable": true
   },
   "outputs": [],
   "source": [
    "import pickle"
   ]
  },
  {
   "cell_type": "code",
   "execution_count": 20,
   "metadata": {
    "collapsed": true,
    "deletable": true,
    "editable": true
   },
   "outputs": [],
   "source": [
    "input_lang_filepath = os.path.join(intermediate_path, \"input_lang.pkl\")\n",
    "output_lang_filepath = os.path.join(intermediate_path, \"output_lang.pkl\")"
   ]
  },
  {
   "cell_type": "code",
   "execution_count": 23,
   "metadata": {
    "collapsed": false,
    "deletable": true,
    "editable": true
   },
   "outputs": [],
   "source": [
    "with open(input_lang_filepath, \"rb\") as f:\n",
    "    input_lang = pickle.load(f)\n",
    "with open(output_lang_filepath, \"rb\") as f:\n",
    "    output_lang = pickle.load(f)"
   ]
  },
  {
   "cell_type": "code",
   "execution_count": 25,
   "metadata": {
    "collapsed": true,
    "deletable": true,
    "editable": true
   },
   "outputs": [],
   "source": [
    "pairs_filepath = os.path.join(intermediate_path, \"pairs.pkl\")\n",
    "with open(pairs_filepath, \"rb\") as f:\n",
    "    pairs = pickle.load(f)"
   ]
  },
  {
   "cell_type": "code",
   "execution_count": 32,
   "metadata": {
    "collapsed": false,
    "deletable": true,
    "editable": true
   },
   "outputs": [
    {
     "name": "stdout",
     "output_type": "stream",
     "text": [
      "5m 8s (- 72m 4s) (5000 6%) 3.4160\n",
      "10m 18s (- 66m 57s) (10000 13%) 2.9712\n",
      "15m 27s (- 61m 49s) (15000 20%) 2.4819\n",
      "20m 39s (- 56m 47s) (20000 26%) 1.9542\n",
      "25m 53s (- 51m 47s) (25000 33%) 1.4261\n",
      "31m 8s (- 46m 43s) (30000 40%) 0.9444\n",
      "36m 26s (- 41m 39s) (35000 46%) 0.5670\n",
      "41m 43s (- 36m 30s) (40000 53%) 0.3161\n",
      "47m 0s (- 31m 20s) (45000 60%) 0.1557\n",
      "52m 18s (- 26m 9s) (50000 66%) 0.0899\n",
      "57m 35s (- 20m 56s) (55000 73%) 0.0497\n",
      "62m 55s (- 15m 43s) (60000 80%) 0.0364\n",
      "68m 12s (- 10m 29s) (65000 86%) 0.0266\n",
      "73m 29s (- 5m 14s) (70000 93%) 0.0253\n",
      "78m 46s (- 0m 0s) (75000 100%) 0.0231\n"
     ]
    },
    {
     "data": {
      "text/plain": [
       "<matplotlib.figure.Figure at 0x7efcc414e6a0>"
      ]
     },
     "metadata": {},
     "output_type": "display_data"
    },
    {
     "data": {
      "image/png": "[encoded data removed]",
      "text/plain": [
       "<matplotlib.figure.Figure at 0x7efcc414e2e8>"
      ]
     },
     "metadata": {},
     "output_type": "display_data"
    }
   ],
   "source": [
    "hidden_size = 256\n",
    "encoder1 = EncoderRNN(input_lang.n_words, hidden_size)\n",
    "attn_decoder1 = AttnDecoderRNN(hidden_size, output_lang.n_words, 1,\n",
    "                               dropout_p=0.1)\n",
    "trainEpochs(encoder1, attn_decoder1, 75000, print_every=5000)"
   ]
  },
  {
   "cell_type": "code",
   "execution_count": 33,
   "metadata": {
    "collapsed": false,
    "deletable": true,
    "editable": true
   },
   "outputs": [
    {
     "name": "stdout",
     "output_type": "stream",
     "text": [
      "> 그녀는 정절의 화신이다 .\n",
      "= she is chastity personified .\n",
      "< she is chastity personified . <EOS>\n",
      "\n",
      "> 그들은 의심과 공포에 의해 사로잡혔다 .\n",
      "= they are beset by doubts and fears .\n",
      "< they are beset by doubts and fears . <EOS>\n",
      "\n",
      "> 나는 내가 거기에 없었다는 것이 매우 다행스럽다 .\n",
      "= i m very glad i wasn t there .\n",
      "< i m very glad i wasn t there . <EOS>\n",
      "\n",
      "> 그는 정치에 대해서는 문외한이다 .\n",
      "= he is a layman in politics .\n",
      "< he is a layman in politics . <EOS>\n",
      "\n",
      "> 나는 별로 피곤하지 않다 .\n",
      "= i m not overly tired .\n",
      "< i m not overly tired . <EOS>\n",
      "\n",
      "> 그는 죄인일 따름이다 .\n",
      "= he is nothing but a criminal .\n",
      "< he is nothing but a criminal . <EOS>\n",
      "\n",
      "> 나는 결과에 대해 당혹감을 느낀다 .\n",
      "= i am perplexed at the result .\n",
      "< i am perplexed at the result . <EOS>\n",
      "\n",
      "> 우리는 어디로 여행해야 하는지를 고려하고 있다 .\n",
      "= we are contemplating where we should travel to .\n",
      "< we are contemplating where we should travel to . <EOS>\n",
      "\n",
      "> 그는 너만큼 크다 .\n",
      "= he is as tall as you .\n",
      "< he is as tall as you . <EOS>\n",
      "\n",
      "> 그는 전 내각의 유임자이다 .\n",
      "= he is a holdover from the last administration .\n",
      "< he is a holdover from the last administration . <EOS>\n",
      "\n"
     ]
    }
   ],
   "source": [
    "evaluateRandomly(encoder1, attn_decoder1)"
   ]
  },
  {
   "cell_type": "code",
   "execution_count": 45,
   "metadata": {
    "collapsed": false,
    "deletable": true,
    "editable": true
   },
   "outputs": [
    {
     "data": {
      "text/plain": [
       "(['i', 'm', 'thirty', '.', '<EOS>'], \n",
       " \n",
       " Columns 0 to 5 \n",
       "  9.9993e-01  1.4515e-05  1.6871e-07  3.1713e-05  8.3107e-06  7.1588e-08\n",
       "  6.8301e-06  9.9997e-01  4.5148e-08  1.7585e-05  1.4182e-06  3.5381e-07\n",
       "  3.7049e-08  5.1819e-09  5.7991e-10  1.0000e+00  2.3891e-09  7.3803e-08\n",
       "  1.4249e-03  1.0239e-05  9.9482e-01  1.9597e-06  2.5249e-04  7.0925e-05\n",
       "  2.4983e-03  4.2837e-05  2.3602e-03  3.3387e-03  1.4736e-07  1.9626e-08\n",
       " \n",
       " Columns 6 to 9 \n",
       "  1.1412e-06  2.0216e-06  3.6516e-06  6.7844e-06\n",
       "  2.7258e-07  5.2105e-07  2.2808e-07  5.9009e-07\n",
       "  1.5971e-07  3.5228e-08  1.8237e-08  8.9589e-09\n",
       "  1.6057e-03  1.3986e-04  4.4840e-04  1.2240e-03\n",
       "  2.4678e-03  1.0669e-01  6.6073e-02  8.1653e-01\n",
       " [torch.FloatTensor of size 5x10])"
      ]
     },
     "execution_count": 45,
     "metadata": {},
     "output_type": "execute_result"
    }
   ],
   "source": [
    "evaluate(encoder1, attn_decoder1, \"나는 문외한이다 .\")"
   ]
  }
 ],
 "metadata": {
  "kernelspec": {
   "display_name": "Python [conda env:pydata]",
   "language": "python",
   "name": "conda-env-pydata-py"
  },
  "language_info": {
   "codemirror_mode": {
    "name": "ipython",
    "version": 3
   },
   "file_extension": ".py",
   "mimetype": "text/x-python",
   "name": "python",
   "nbconvert_exporter": "python",
   "pygments_lexer": "ipython3",
   "version": "3.5.2"
  }
 },
 "nbformat": 4,
 "nbformat_minor": 2
}
