{
 "cells": [
  {
   "cell_type": "markdown",
   "metadata": {
    "deletable": true,
    "editable": true,
    "heading_collapsed": true
   },
   "source": [
    "## VAE"
   ]
  },
  {
   "cell_type": "markdown",
   "metadata": {
    "hidden": true
   },
   "source": [
    "Source: https://github.com/pytorch/examples/tree/master/vae"
   ]
  },
  {
   "cell_type": "markdown",
   "metadata": {
    "deletable": true,
    "editable": true,
    "hidden": true
   },
   "source": [
    "### setup"
   ]
  },
  {
   "cell_type": "code",
   "execution_count": 1,
   "metadata": {
    "ExecuteTime": {
     "end_time": "2017-04-10T09:13:45.967450Z",
     "start_time": "2017-04-10T18:13:45.964359+09:00"
    },
    "collapsed": false,
    "deletable": true,
    "editable": true,
    "hidden": true
   },
   "outputs": [],
   "source": [
    "import argparse\n",
    "import time"
   ]
  },
  {
   "cell_type": "code",
   "execution_count": 2,
   "metadata": {
    "ExecuteTime": {
     "end_time": "2017-04-10T09:13:46.331201Z",
     "start_time": "2017-04-10T18:13:45.969461+09:00"
    },
    "collapsed": true,
    "deletable": true,
    "editable": true,
    "hidden": true
   },
   "outputs": [],
   "source": [
    "%matplotlib inline\n",
    "import matplotlib.pyplot as plt"
   ]
  },
  {
   "cell_type": "code",
   "execution_count": 3,
   "metadata": {
    "ExecuteTime": {
     "end_time": "2017-04-10T09:13:46.633521Z",
     "start_time": "2017-04-10T18:13:46.333487+09:00"
    },
    "collapsed": false,
    "deletable": true,
    "editable": true,
    "hidden": true
   },
   "outputs": [],
   "source": [
    "import torch\n",
    "import torch.nn as nn\n",
    "import torch.optim as optim\n",
    "from torch.autograd import Variable\n",
    "import torchvision.transforms as transforms\n",
    "from torch.utils.data import DataLoader\n",
    "from torchnet.meter import AverageValueMeter"
   ]
  },
  {
   "cell_type": "code",
   "execution_count": 4,
   "metadata": {
    "ExecuteTime": {
     "end_time": "2017-04-10T09:13:46.639103Z",
     "start_time": "2017-04-10T18:13:46.635758+09:00"
    },
    "collapsed": false,
    "deletable": true,
    "editable": true,
    "hidden": true
   },
   "outputs": [],
   "source": [
    "import mnist"
   ]
  },
  {
   "cell_type": "code",
   "execution_count": 5,
   "metadata": {
    "ExecuteTime": {
     "end_time": "2017-04-10T09:13:46.721990Z",
     "start_time": "2017-04-10T18:13:46.641125+09:00"
    },
    "collapsed": false,
    "deletable": true,
    "editable": true,
    "hidden": true
   },
   "outputs": [],
   "source": [
    "parser = {\n",
    "    'data_path': '../data/mnist/',\n",
    "    'epochs': 10,\n",
    "    'batch_size': 128,\n",
    "    'cuda': True,\n",
    "    'seed': 7,\n",
    "    'workers': 4\n",
    "}\n",
    "args = argparse.Namespace(**parser)\n",
    "\n",
    "args.cuda = args.cuda and torch.cuda.is_available()\n",
    "\n",
    "torch.manual_seed(args.seed)\n",
    "if args.cuda:\n",
    "    torch.cuda.manual_seed(args.seed)"
   ]
  },
  {
   "cell_type": "markdown",
   "metadata": {
    "deletable": true,
    "editable": true,
    "hidden": true
   },
   "source": [
    "### model"
   ]
  },
  {
   "cell_type": "code",
   "execution_count": 6,
   "metadata": {
    "ExecuteTime": {
     "end_time": "2017-04-10T09:13:46.763512Z",
     "start_time": "2017-04-10T18:13:46.724214+09:00"
    },
    "collapsed": true,
    "deletable": true,
    "editable": true,
    "hidden": true
   },
   "outputs": [],
   "source": [
    "class VAE(nn.Module):\n",
    "    def __init__(self):\n",
    "        super(VAE, self).__init__()\n",
    "\n",
    "        self.fc1 = nn.Linear(784, 400) # image size = 28x28\n",
    "        self.fc21 = nn.Linear(400, 20)\n",
    "        self.fc22 = nn.Linear(400, 20)\n",
    "        self.fc3 = nn.Linear(20, 400)\n",
    "        self.fc4 = nn.Linear(400, 784)\n",
    "\n",
    "        self.relu = nn.ReLU()\n",
    "        self.sigmoid = nn.Sigmoid()\n",
    "\n",
    "    def encode(self, x):\n",
    "        h1 = self.relu(self.fc1(x))\n",
    "        return self.fc21(h1), self.fc22(h1)\n",
    "\n",
    "    def reparametrize(self, mu, logvar):\n",
    "        std = logvar.mul(0.5).exp_()\n",
    "        if args.cuda:\n",
    "            eps = torch.cuda.FloatTensor(std.size()).normal_()\n",
    "        else:\n",
    "            eps = torch.FloatTensor(std.size()).normal_()\n",
    "        eps = Variable(eps)\n",
    "        return eps.mul(std).add_(mu)\n",
    "\n",
    "    def decode(self, z):\n",
    "        h3 = self.relu(self.fc3(z))\n",
    "        return self.sigmoid(self.fc4(h3)) # sigmoid force output in (0,1)\n",
    "\n",
    "    def forward(self, x):\n",
    "        mu, logvar = self.encode(x.view(-1, 784))\n",
    "        z = self.reparametrize(mu, logvar)\n",
    "        return self.decode(z), mu, logvar"
   ]
  },
  {
   "cell_type": "markdown",
   "metadata": {
    "deletable": true,
    "editable": true,
    "hidden": true
   },
   "source": [
    "### train"
   ]
  },
  {
   "cell_type": "code",
   "execution_count": 7,
   "metadata": {
    "ExecuteTime": {
     "end_time": "2017-04-10T09:13:46.819706Z",
     "start_time": "2017-04-10T18:13:46.765614+09:00"
    },
    "collapsed": true,
    "deletable": true,
    "editable": true,
    "hidden": true
   },
   "outputs": [],
   "source": [
    "def loss_function(recon_function, recon_x, x, mu, logvar):\n",
    "    BCE = recon_function(recon_x, x)\n",
    "\n",
    "    # see Appendix B from VAE paper:\n",
    "    # Kingma and Welling. Auto-Encoding Variational Bayes. ICLR, 2014\n",
    "    # https://arxiv.org/abs/1312.6114\n",
    "    # 0.5 * sum(1 + log(sigma^2) - mu^2 - sigma^2)\n",
    "    KLD_element = mu.pow(2).add(logvar.exp()).mul(-1).add(1).add(logvar)\n",
    "    KLD = torch.sum(KLD_element).mul(-0.5)\n",
    "\n",
    "    return BCE, KLD, BCE + KLD"
   ]
  },
  {
   "cell_type": "code",
   "execution_count": 8,
   "metadata": {
    "ExecuteTime": {
     "end_time": "2017-04-10T09:13:46.859411Z",
     "start_time": "2017-04-10T18:13:46.822012+09:00"
    },
    "collapsed": false,
    "deletable": true,
    "editable": true,
    "hidden": true
   },
   "outputs": [],
   "source": [
    "def train(args, train_loader, model, recon_function, optimizer, epoch):\n",
    "    model.train()\n",
    "    losses = AverageValueMeter()\n",
    "    kl_losses = AverageValueMeter()\n",
    "    recon_losses = AverageValueMeter()\n",
    "    start = time.time()\n",
    "    \n",
    "    for i, (data, _) in enumerate(train_loader):\n",
    "        data = Variable(data)\n",
    "        if args.cuda:\n",
    "            data = data.cuda()\n",
    "        optimizer.zero_grad()\n",
    "        recon_batch, mu, logvar = model(data)\n",
    "        kl_loss, recon_loss, loss = loss_function(\n",
    "            recon_function, recon_batch, data, mu, logvar)\n",
    "        loss.backward()\n",
    "        optimizer.step()\n",
    "        losses.add(loss.data.cpu()[0], data.size(0))\n",
    "        kl_losses.add(loss.data.cpu()[0], data.size(0))\n",
    "        recon_losses.add(recon_loss.data.cpu()[0], data.size(0))\n",
    "\n",
    "    print(\"=> EPOCH {} | Time: {}s | Loss: {:.4f}\"\n",
    "          \" | KL_loss: {:.4f} | Recon_loss: {:.4f}\"\n",
    "          .format(epoch, round(time.time()-start), losses.value()[0],\n",
    "                  kl_losses.value()[0], recon_losses.value()[0]))"
   ]
  },
  {
   "cell_type": "code",
   "execution_count": 9,
   "metadata": {
    "ExecuteTime": {
     "end_time": "2017-04-10T09:13:46.916856Z",
     "start_time": "2017-04-10T18:13:46.861515+09:00"
    },
    "collapsed": false,
    "deletable": true,
    "editable": true,
    "hidden": true
   },
   "outputs": [],
   "source": [
    "def validate(args, val_loader, model, recon_function, epoch):\n",
    "    model.eval()\n",
    "    losses = AverageValueMeter()\n",
    "    start = time.time()\n",
    "    \n",
    "    for data, _ in val_loader:\n",
    "        if args.cuda:\n",
    "            data = data.cuda()\n",
    "        data = Variable(data, volatile=True)\n",
    "        recon_batch, mu, logvar = model(data)\n",
    "        losses.add(loss_function(recon_function, recon_batch,\n",
    "                                 data, mu, logvar)[2].data[0],\n",
    "                   data.size(0))\n",
    "\n",
    "    print(\"   % VALIDATE | Time: {}s | Loss: {:.4f}\"\n",
    "          .format(round(time.time()-start), losses.value()[0]))"
   ]
  },
  {
   "cell_type": "markdown",
   "metadata": {
    "deletable": true,
    "editable": true,
    "hidden": true
   },
   "source": [
    "### prepare"
   ]
  },
  {
   "cell_type": "code",
   "execution_count": 10,
   "metadata": {
    "ExecuteTime": {
     "end_time": "2017-04-10T09:13:46.964592Z",
     "start_time": "2017-04-10T18:13:46.919016+09:00"
    },
    "collapsed": false,
    "deletable": true,
    "editable": true,
    "hidden": true
   },
   "outputs": [],
   "source": [
    "train_loader = DataLoader(\n",
    "    mnist.MNIST(args.data_path, train=True, download=True,\n",
    "                transform=transforms.ToTensor()),\n",
    "    batch_size=args.batch_size, shuffle=True, num_workers=args.workers)\n",
    "val_loader = DataLoader(\n",
    "    mnist.MNIST(args.data_path, train=False,\n",
    "                transform=transforms.ToTensor()),\n",
    "    batch_size=args.batch_size, shuffle=False, num_workers=args.workers)"
   ]
  },
  {
   "cell_type": "code",
   "execution_count": 11,
   "metadata": {
    "ExecuteTime": {
     "end_time": "2017-04-10T09:13:49.246215Z",
     "start_time": "2017-04-10T18:13:46.966815+09:00"
    },
    "collapsed": false,
    "deletable": true,
    "editable": true,
    "hidden": true
   },
   "outputs": [],
   "source": [
    "model = VAE()\n",
    "recon_function = nn.BCELoss(size_average=False)\n",
    "if args.cuda:\n",
    "    model.cuda()\n",
    "    recon_function.cuda()"
   ]
  },
  {
   "cell_type": "code",
   "execution_count": 12,
   "metadata": {
    "ExecuteTime": {
     "end_time": "2017-04-10T09:13:49.251625Z",
     "start_time": "2017-04-10T18:13:49.248375+09:00"
    },
    "collapsed": true,
    "deletable": true,
    "editable": true,
    "hidden": true
   },
   "outputs": [],
   "source": [
    "optimizer = optim.Adam(model.parameters(), lr=1e-3)"
   ]
  },
  {
   "cell_type": "markdown",
   "metadata": {
    "collapsed": true,
    "deletable": true,
    "editable": true,
    "hidden": true
   },
   "source": [
    "### run"
   ]
  },
  {
   "cell_type": "code",
   "execution_count": 13,
   "metadata": {
    "ExecuteTime": {
     "end_time": "2017-04-10T09:14:23.801812Z",
     "start_time": "2017-04-10T18:13:49.253675+09:00"
    },
    "collapsed": false,
    "deletable": true,
    "editable": true,
    "hidden": true
   },
   "outputs": [
    {
     "name": "stdout",
     "output_type": "stream",
     "text": [
      "=> EPOCH 1 | Time: 3s | Loss: 163.4164 | KL_loss: 163.4164 | Recon_loss: 15.4997\n",
      "   % VALIDATE | Time: 0s | Loss: 126.8053\n",
      "=> EPOCH 2 | Time: 3s | Loss: 120.9831 | KL_loss: 120.9831 | Recon_loss: 22.1429\n",
      "   % VALIDATE | Time: 0s | Loss: 115.4571\n",
      "=> EPOCH 3 | Time: 3s | Loss: 114.4720 | KL_loss: 114.4720 | Recon_loss: 23.6108\n",
      "   % VALIDATE | Time: 0s | Loss: 111.7128\n",
      "=> EPOCH 4 | Time: 3s | Loss: 111.5083 | KL_loss: 111.5083 | Recon_loss: 24.1908\n",
      "   % VALIDATE | Time: 0s | Loss: 109.4797\n",
      "=> EPOCH 5 | Time: 3s | Loss: 109.7404 | KL_loss: 109.7404 | Recon_loss: 24.4694\n",
      "   % VALIDATE | Time: 0s | Loss: 108.2385\n",
      "=> EPOCH 6 | Time: 3s | Loss: 108.5703 | KL_loss: 108.5703 | Recon_loss: 24.6725\n",
      "   % VALIDATE | Time: 0s | Loss: 107.7010\n",
      "=> EPOCH 7 | Time: 3s | Loss: 107.7033 | KL_loss: 107.7033 | Recon_loss: 24.8036\n",
      "   % VALIDATE | Time: 0s | Loss: 106.8678\n",
      "=> EPOCH 8 | Time: 3s | Loss: 107.1016 | KL_loss: 107.1016 | Recon_loss: 24.9433\n",
      "   % VALIDATE | Time: 0s | Loss: 106.2570\n",
      "=> EPOCH 9 | Time: 3s | Loss: 106.5049 | KL_loss: 106.5049 | Recon_loss: 24.9828\n",
      "   % VALIDATE | Time: 0s | Loss: 105.7382\n",
      "=> EPOCH 10 | Time: 3s | Loss: 106.1199 | KL_loss: 106.1199 | Recon_loss: 25.0883\n",
      "   % VALIDATE | Time: 0s | Loss: 105.3531\n"
     ]
    }
   ],
   "source": [
    "for epoch in range(1, args.epochs + 1):\n",
    "    train(args, train_loader, model, recon_function, optimizer, epoch)\n",
    "    validate(args, val_loader, model, recon_function, epoch)"
   ]
  },
  {
   "cell_type": "markdown",
   "metadata": {
    "deletable": true,
    "editable": true,
    "hidden": true
   },
   "source": [
    "### generate"
   ]
  },
  {
   "cell_type": "code",
   "execution_count": 15,
   "metadata": {
    "ExecuteTime": {
     "end_time": "2017-04-10T09:14:41.299283Z",
     "start_time": "2017-04-10T18:14:41.207955+09:00"
    },
    "collapsed": false,
    "deletable": true,
    "editable": true,
    "hidden": true
   },
   "outputs": [],
   "source": [
    "data, _ = iter(val_loader).next()\n",
    "if args.cuda:\n",
    "    data = data.cuda()\n",
    "\n",
    "data = Variable(data, volatile=True)\n",
    "recon_batch, mu, logvar = model(data)\n",
    "recon = recon_batch.view(-1, 1, 28, 28)"
   ]
  },
  {
   "cell_type": "code",
   "execution_count": 16,
   "metadata": {
    "ExecuteTime": {
     "end_time": "2017-04-10T09:14:43.741752Z",
     "start_time": "2017-04-10T18:14:43.737599+09:00"
    },
    "collapsed": false,
    "deletable": true,
    "editable": true,
    "hidden": true
   },
   "outputs": [],
   "source": [
    "sample = data.data[0, 0].cpu().numpy()\n",
    "recon_sample = recon.data[0, 0].cpu().numpy()"
   ]
  },
  {
   "cell_type": "code",
   "execution_count": 17,
   "metadata": {
    "ExecuteTime": {
     "end_time": "2017-04-10T09:14:46.045997Z",
     "start_time": "2017-04-10T18:14:45.483635+09:00"
    },
    "collapsed": false,
    "deletable": true,
    "editable": true,
    "hidden": true
   },
   "outputs": [
    {
     "data": {
      "text/plain": [
       "<matplotlib.image.AxesImage at 0x7f50c5d3ec88>"
      ]
     },
     "execution_count": 17,
     "metadata": {},
     "output_type": "execute_result"
    },
    {
     "data": {
      "image/png": "[encoded data removed]",
      "text/plain": [
       "<matplotlib.figure.Figure at 0x7f50d071cac8>"
      ]
     },
     "metadata": {},
     "output_type": "display_data"
    }
   ],
   "source": [
    "plt.subplot(211)\n",
    "plt.imshow(sample, vmin=0, vmax=1, cmap=\"gray\")\n",
    "plt.subplot(212)\n",
    "plt.imshow(recon_sample, vmin=0, vmax=1, cmap=\"gray\")"
   ]
  },
  {
   "cell_type": "markdown",
   "metadata": {
    "deletable": true,
    "editable": true,
    "heading_collapsed": true
   },
   "source": [
    "## Conditional VAE"
   ]
  },
  {
   "cell_type": "markdown",
   "metadata": {
    "hidden": true
   },
   "source": [
    "Source: https://github.com/wiseodd/generative-models/tree/master/VAE/conditional_vae"
   ]
  },
  {
   "cell_type": "markdown",
   "metadata": {
    "hidden": true
   },
   "source": [
    "### setup"
   ]
  },
  {
   "cell_type": "code",
   "execution_count": 1,
   "metadata": {
    "ExecuteTime": {
     "end_time": "2017-04-10T10:01:53.998935Z",
     "start_time": "2017-04-10T19:01:53.994304+09:00"
    },
    "collapsed": true,
    "deletable": true,
    "editable": true,
    "hidden": true
   },
   "outputs": [],
   "source": [
    "import os"
   ]
  },
  {
   "cell_type": "code",
   "execution_count": 2,
   "metadata": {
    "ExecuteTime": {
     "end_time": "2017-04-10T10:01:54.353129Z",
     "start_time": "2017-04-10T19:01:54.029021+09:00"
    },
    "collapsed": true,
    "deletable": true,
    "editable": true,
    "hidden": true
   },
   "outputs": [],
   "source": [
    "import numpy as np\n",
    "import matplotlib.pyplot as plt\n",
    "import matplotlib.gridspec as gridspec"
   ]
  },
  {
   "cell_type": "code",
   "execution_count": 3,
   "metadata": {
    "ExecuteTime": {
     "end_time": "2017-04-10T10:01:55.094404Z",
     "start_time": "2017-04-10T19:01:54.792646+09:00"
    },
    "collapsed": true,
    "deletable": true,
    "editable": true,
    "hidden": true
   },
   "outputs": [],
   "source": [
    "import torch\n",
    "import torch.nn.functional as F\n",
    "from torch.autograd import Variable\n",
    "import torch.optim as optim\n",
    "import torchvision.transforms as transforms\n",
    "from torch.utils.data import DataLoader\n",
    "from torchnet.meter import AverageValueMeter"
   ]
  },
  {
   "cell_type": "code",
   "execution_count": 4,
   "metadata": {
    "ExecuteTime": {
     "end_time": "2017-04-10T10:01:55.237313Z",
     "start_time": "2017-04-10T19:01:55.233867+09:00"
    },
    "collapsed": false,
    "deletable": true,
    "editable": true,
    "hidden": true
   },
   "outputs": [],
   "source": [
    "import mnist"
   ]
  },
  {
   "cell_type": "code",
   "execution_count": 5,
   "metadata": {
    "ExecuteTime": {
     "end_time": "2017-04-10T10:01:55.851545Z",
     "start_time": "2017-04-10T19:01:55.838939+09:00"
    },
    "collapsed": false,
    "deletable": true,
    "editable": true,
    "hidden": true
   },
   "outputs": [
    {
     "data": {
      "text/plain": [
       "<torch._C.Generator at 0x7fbae9421c00>"
      ]
     },
     "execution_count": 5,
     "metadata": {},
     "output_type": "execute_result"
    }
   ],
   "source": [
    "mb_size = 64\n",
    "epochs = 100\n",
    "Z_dim = 100\n",
    "X_dim = 784\n",
    "y_dim = 10\n",
    "h_dim = 128 # number of hidden unit\n",
    "lr = 1e-3\n",
    "\n",
    "intermediate_path = '../intermediate/cvae/'\n",
    "if not os.path.isdir(intermediate_path):\n",
    "    os.makedirs(intermediate_path)\n",
    "    \n",
    "data_path = '../data/mnist/'\n",
    "    \n",
    "torch.manual_seed(7)"
   ]
  },
  {
   "cell_type": "markdown",
   "metadata": {
    "hidden": true
   },
   "source": [
    "### model"
   ]
  },
  {
   "cell_type": "code",
   "execution_count": 6,
   "metadata": {
    "ExecuteTime": {
     "end_time": "2017-04-10T10:01:57.172269Z",
     "start_time": "2017-04-10T19:01:57.167875+09:00"
    },
    "collapsed": true,
    "deletable": true,
    "editable": true,
    "hidden": true
   },
   "outputs": [],
   "source": [
    "def xavier_init(size):\n",
    "    in_dim = size[0]\n",
    "    xavier_stddev = 1. / np.sqrt(in_dim / 2.)\n",
    "    return Variable(torch.randn(*size) * xavier_stddev, requires_grad=True)"
   ]
  },
  {
   "cell_type": "code",
   "execution_count": 7,
   "metadata": {
    "ExecuteTime": {
     "end_time": "2017-04-10T10:01:57.730692Z",
     "start_time": "2017-04-10T19:01:57.706742+09:00"
    },
    "collapsed": false,
    "deletable": true,
    "editable": true,
    "hidden": true
   },
   "outputs": [],
   "source": [
    "Wxh = xavier_init(size=[X_dim + y_dim, h_dim])\n",
    "bxh = Variable(torch.zeros(h_dim), requires_grad=True)"
   ]
  },
  {
   "cell_type": "code",
   "execution_count": 8,
   "metadata": {
    "ExecuteTime": {
     "end_time": "2017-04-10T10:01:58.160146Z",
     "start_time": "2017-04-10T19:01:58.155676+09:00"
    },
    "collapsed": false,
    "deletable": true,
    "editable": true,
    "hidden": true
   },
   "outputs": [],
   "source": [
    "Whz_mu = xavier_init(size=[h_dim, Z_dim])\n",
    "bhz_mu = Variable(torch.zeros(Z_dim), requires_grad=True)"
   ]
  },
  {
   "cell_type": "code",
   "execution_count": 9,
   "metadata": {
    "ExecuteTime": {
     "end_time": "2017-04-10T10:01:58.645495Z",
     "start_time": "2017-04-10T19:01:58.641058+09:00"
    },
    "collapsed": true,
    "deletable": true,
    "editable": true,
    "hidden": true
   },
   "outputs": [],
   "source": [
    "Whz_var = xavier_init(size=[h_dim, Z_dim])\n",
    "bhz_var = Variable(torch.zeros(Z_dim), requires_grad=True)"
   ]
  },
  {
   "cell_type": "code",
   "execution_count": 10,
   "metadata": {
    "ExecuteTime": {
     "end_time": "2017-04-10T10:01:59.131869Z",
     "start_time": "2017-04-10T19:01:59.125682+09:00"
    },
    "collapsed": true,
    "deletable": true,
    "editable": true,
    "hidden": true
   },
   "outputs": [],
   "source": [
    "def Q(X, c):\n",
    "    inputs = torch.cat([X, c], 1)\n",
    "    h = F.relu(inputs @ Wxh + bxh.repeat(inputs.size(0), 1))\n",
    "    z_mu = h @ Whz_mu + bhz_mu.repeat(h.size(0), 1)\n",
    "    z_logvar = h @ Whz_var + bhz_var.repeat(h.size(0), 1)\n",
    "    return z_mu, z_logvar"
   ]
  },
  {
   "cell_type": "code",
   "execution_count": 11,
   "metadata": {
    "ExecuteTime": {
     "end_time": "2017-04-10T10:01:59.570686Z",
     "start_time": "2017-04-10T19:01:59.566699+09:00"
    },
    "collapsed": true,
    "deletable": true,
    "editable": true,
    "hidden": true
   },
   "outputs": [],
   "source": [
    "def sample_z(mu, log_var):\n",
    "    eps = Variable(torch.randn(mu.size(0), Z_dim))\n",
    "    return mu + torch.exp(log_var / 2) * eps"
   ]
  },
  {
   "cell_type": "code",
   "execution_count": 12,
   "metadata": {
    "ExecuteTime": {
     "end_time": "2017-04-10T10:02:00.153179Z",
     "start_time": "2017-04-10T19:02:00.137175+09:00"
    },
    "collapsed": true,
    "deletable": true,
    "editable": true,
    "hidden": true
   },
   "outputs": [],
   "source": [
    "Wzh = xavier_init(size=[Z_dim + y_dim, h_dim])\n",
    "bzh = Variable(torch.zeros(h_dim), requires_grad=True)\n",
    "\n",
    "Whx = xavier_init(size=[h_dim, X_dim])\n",
    "bhx = Variable(torch.zeros(X_dim), requires_grad=True)"
   ]
  },
  {
   "cell_type": "code",
   "execution_count": 13,
   "metadata": {
    "ExecuteTime": {
     "end_time": "2017-04-10T10:02:00.760735Z",
     "start_time": "2017-04-10T19:02:00.755332+09:00"
    },
    "collapsed": true,
    "deletable": true,
    "editable": true,
    "hidden": true
   },
   "outputs": [],
   "source": [
    "def P(z, c):\n",
    "    inputs = torch.cat([z, c], 1)\n",
    "    h = F.relu(inputs @ Wzh + bzh.repeat(inputs.size(0), 1))\n",
    "    X = F.sigmoid(h @ Whx + bhx.repeat(h.size(0), 1))\n",
    "    return X"
   ]
  },
  {
   "cell_type": "markdown",
   "metadata": {
    "hidden": true
   },
   "source": [
    "### train"
   ]
  },
  {
   "cell_type": "code",
   "execution_count": 14,
   "metadata": {
    "ExecuteTime": {
     "end_time": "2017-04-10T10:02:02.156135Z",
     "start_time": "2017-04-10T19:02:02.130337+09:00"
    },
    "collapsed": true,
    "deletable": true,
    "editable": true,
    "hidden": true
   },
   "outputs": [],
   "source": [
    "def train(data_loader, solver, epoch):\n",
    "    losses = AverageValueMeter()\n",
    "    \n",
    "    for i, (X, c) in enumerate(train_loader):\n",
    "        X = X.view(-1, 784)\n",
    "        c_onehot = torch.zeros(c.size(0), y_dim).scatter_(\n",
    "            1, c.unsqueeze(1), 1)\n",
    "        X = Variable(X)\n",
    "        c_onehot = Variable(c_onehot)\n",
    "\n",
    "        # Forward\n",
    "        z_mu, z_logvar = Q(X, c_onehot)\n",
    "        z = sample_z(z_mu, z_logvar)\n",
    "        X_sample = P(z, c_onehot)\n",
    "\n",
    "        # Loss\n",
    "        recon_loss = F.binary_cross_entropy(X_sample, X, size_average=False)\n",
    "        kl_loss = 0.5 * torch.sum(torch.exp(z_logvar)\n",
    "                                  + z_mu**2 - 1 - z_logvar)\n",
    "        loss = recon_loss + kl_loss\n",
    "        \n",
    "        # Backward\n",
    "        loss.backward()\n",
    "        solver.step()\n",
    "        \n",
    "        for p in params:\n",
    "            p.grad.data.zero_()\n",
    "        \n",
    "        losses.add(loss.data[0], X.size(0))\n",
    "    \n",
    "    print(\"=> EPOCH {} | Loss: {:.4f}\"\n",
    "          .format(epoch, losses.value()[0]))"
   ]
  },
  {
   "cell_type": "markdown",
   "metadata": {
    "hidden": true
   },
   "source": [
    "### utils"
   ]
  },
  {
   "cell_type": "code",
   "execution_count": 15,
   "metadata": {
    "ExecuteTime": {
     "end_time": "2017-04-10T10:02:03.409957Z",
     "start_time": "2017-04-10T19:02:03.392696+09:00"
    },
    "collapsed": false,
    "deletable": true,
    "editable": true,
    "hidden": true
   },
   "outputs": [],
   "source": [
    "def plot(samples, epoch):\n",
    "    fig = plt.figure(figsize=(4, 4))\n",
    "    gs = gridspec.GridSpec(4, 4)\n",
    "    gs.update(wspace=0.05, hspace=0.05)\n",
    "\n",
    "    for i, sample in enumerate(samples):\n",
    "        ax = plt.subplot(gs[i])\n",
    "        plt.axis(\"off\")\n",
    "        ax.set_xticklabels([])\n",
    "        ax.set_yticklabels([])\n",
    "        ax.set_aspect(\"equal\")\n",
    "        plt.imshow(sample.reshape(28, 28), cmap=\"Greys_r\")\n",
    "\n",
    "    out_filepath = os.path.join(intermediate_path, \n",
    "                                \"{}.png\".format(str(epoch).zfill(3)))\n",
    "    plt.savefig(out_filepath, bbox_inches='tight')\n",
    "    plt.close(fig)"
   ]
  },
  {
   "cell_type": "markdown",
   "metadata": {
    "hidden": true
   },
   "source": [
    "### prepare"
   ]
  },
  {
   "cell_type": "code",
   "execution_count": 16,
   "metadata": {
    "ExecuteTime": {
     "end_time": "2017-04-10T10:02:04.529022Z",
     "start_time": "2017-04-10T19:02:04.502149+09:00"
    },
    "collapsed": false,
    "deletable": true,
    "editable": true,
    "hidden": true
   },
   "outputs": [],
   "source": [
    "train_loader = DataLoader(\n",
    "    mnist.MNIST(data_path, train=True, download=True,\n",
    "                transform=transforms.ToTensor()),\n",
    "    batch_size=mb_size, shuffle=True)"
   ]
  },
  {
   "cell_type": "code",
   "execution_count": 17,
   "metadata": {
    "ExecuteTime": {
     "end_time": "2017-04-10T10:02:05.196494Z",
     "start_time": "2017-04-10T19:02:05.192194+09:00"
    },
    "collapsed": true,
    "deletable": true,
    "editable": true,
    "hidden": true
   },
   "outputs": [],
   "source": [
    "params = [Wxh, bxh, Whz_mu, bhz_mu, Whz_var, bhz_var,\n",
    "          Wzh, bzh, Whx, bhx]\n",
    "\n",
    "solver = optim.Adam(params, lr=lr)"
   ]
  },
  {
   "cell_type": "code",
   "execution_count": 19,
   "metadata": {
    "ExecuteTime": {
     "end_time": "2017-04-10T11:21:11.378679Z",
     "start_time": "2017-04-10T19:02:28.969364+09:00"
    },
    "collapsed": false,
    "deletable": true,
    "editable": true,
    "hidden": true
   },
   "outputs": [
    {
     "name": "stdout",
     "output_type": "stream",
     "text": [
      "=> EPOCH 1 | Loss: 183.9763\n",
      "=> EPOCH 2 | Loss: 135.6942\n",
      "=> EPOCH 3 | Loss: 123.3090\n",
      "=> EPOCH 4 | Loss: 116.8960\n",
      "=> EPOCH 5 | Loss: 113.2857\n",
      "=> EPOCH 6 | Loss: 111.1799\n",
      "=> EPOCH 7 | Loss: 109.7620\n",
      "=> EPOCH 8 | Loss: 108.6592\n",
      "=> EPOCH 9 | Loss: 107.9670\n",
      "=> EPOCH 10 | Loss: 107.3998\n",
      "=> EPOCH 11 | Loss: 106.8704\n",
      "=> EPOCH 12 | Loss: 106.4485\n",
      "=> EPOCH 13 | Loss: 106.1208\n",
      "=> EPOCH 14 | Loss: 105.8686\n",
      "=> EPOCH 15 | Loss: 105.6030\n",
      "=> EPOCH 16 | Loss: 105.3722\n",
      "=> EPOCH 17 | Loss: 105.1703\n",
      "=> EPOCH 18 | Loss: 104.9846\n",
      "=> EPOCH 19 | Loss: 104.8853\n",
      "=> EPOCH 20 | Loss: 104.6661\n",
      "=> EPOCH 21 | Loss: 104.5560\n",
      "=> EPOCH 22 | Loss: 104.4186\n",
      "=> EPOCH 23 | Loss: 104.2742\n",
      "=> EPOCH 24 | Loss: 104.2110\n",
      "=> EPOCH 25 | Loss: 104.0873\n",
      "=> EPOCH 26 | Loss: 103.9460\n",
      "=> EPOCH 27 | Loss: 103.8903\n",
      "=> EPOCH 28 | Loss: 103.7722\n",
      "=> EPOCH 29 | Loss: 103.7146\n",
      "=> EPOCH 30 | Loss: 103.6487\n",
      "=> EPOCH 31 | Loss: 103.5393\n",
      "=> EPOCH 32 | Loss: 103.4941\n",
      "=> EPOCH 33 | Loss: 103.3744\n",
      "=> EPOCH 34 | Loss: 103.3083\n",
      "=> EPOCH 35 | Loss: 103.2738\n",
      "=> EPOCH 36 | Loss: 103.1467\n",
      "=> EPOCH 37 | Loss: 103.1140\n",
      "=> EPOCH 38 | Loss: 103.0779\n",
      "=> EPOCH 39 | Loss: 103.0274\n",
      "=> EPOCH 40 | Loss: 102.9632\n",
      "=> EPOCH 41 | Loss: 102.9443\n",
      "=> EPOCH 42 | Loss: 102.8833\n",
      "=> EPOCH 43 | Loss: 102.8265\n",
      "=> EPOCH 44 | Loss: 102.7826\n",
      "=> EPOCH 45 | Loss: 102.7831\n",
      "=> EPOCH 46 | Loss: 102.6811\n",
      "=> EPOCH 47 | Loss: 102.6455\n",
      "=> EPOCH 48 | Loss: 102.6682\n",
      "=> EPOCH 49 | Loss: 102.5984\n",
      "=> EPOCH 50 | Loss: 102.5914\n",
      "=> EPOCH 51 | Loss: 102.5424\n",
      "=> EPOCH 52 | Loss: 102.5007\n",
      "=> EPOCH 53 | Loss: 102.5242\n",
      "=> EPOCH 54 | Loss: 102.4114\n",
      "=> EPOCH 55 | Loss: 102.4117\n",
      "=> EPOCH 56 | Loss: 102.3713\n",
      "=> EPOCH 57 | Loss: 102.3462\n",
      "=> EPOCH 58 | Loss: 102.3334\n",
      "=> EPOCH 59 | Loss: 102.3013\n",
      "=> EPOCH 60 | Loss: 102.2776\n",
      "=> EPOCH 61 | Loss: 102.2044\n",
      "=> EPOCH 62 | Loss: 102.2202\n",
      "=> EPOCH 63 | Loss: 102.1665\n",
      "=> EPOCH 64 | Loss: 102.1878\n",
      "=> EPOCH 65 | Loss: 102.1732\n",
      "=> EPOCH 66 | Loss: 102.1111\n",
      "=> EPOCH 67 | Loss: 102.1665\n",
      "=> EPOCH 68 | Loss: 102.1138\n",
      "=> EPOCH 69 | Loss: 102.0452\n",
      "=> EPOCH 70 | Loss: 102.0319\n",
      "=> EPOCH 71 | Loss: 102.0395\n",
      "=> EPOCH 72 | Loss: 102.0262\n",
      "=> EPOCH 73 | Loss: 101.9988\n",
      "=> EPOCH 74 | Loss: 101.9577\n",
      "=> EPOCH 75 | Loss: 101.9787\n",
      "=> EPOCH 76 | Loss: 101.9326\n",
      "=> EPOCH 77 | Loss: 101.9041\n",
      "=> EPOCH 78 | Loss: 101.9163\n",
      "=> EPOCH 79 | Loss: 101.9433\n",
      "=> EPOCH 80 | Loss: 101.8609\n",
      "=> EPOCH 81 | Loss: 101.8344\n",
      "=> EPOCH 82 | Loss: 101.8264\n",
      "=> EPOCH 83 | Loss: 101.8008\n",
      "=> EPOCH 84 | Loss: 101.8290\n",
      "=> EPOCH 85 | Loss: 101.7915\n",
      "=> EPOCH 86 | Loss: 101.7874\n",
      "=> EPOCH 87 | Loss: 101.7911\n",
      "=> EPOCH 88 | Loss: 101.7234\n",
      "=> EPOCH 89 | Loss: 101.7318\n",
      "=> EPOCH 90 | Loss: 101.7265\n",
      "=> EPOCH 91 | Loss: 101.6982\n",
      "=> EPOCH 92 | Loss: 101.6926\n",
      "=> EPOCH 93 | Loss: 101.6289\n",
      "=> EPOCH 94 | Loss: 101.6162\n",
      "=> EPOCH 95 | Loss: 101.6166\n",
      "=> EPOCH 96 | Loss: 101.6117\n",
      "=> EPOCH 97 | Loss: 101.5757\n",
      "=> EPOCH 98 | Loss: 101.5911\n",
      "=> EPOCH 99 | Loss: 101.5719\n",
      "=> EPOCH 100 | Loss: 101.5661\n"
     ]
    }
   ],
   "source": [
    "for epoch in range(1, epochs+1):\n",
    "    train(train_loader, solver, epoch)\n",
    "    c = torch.from_numpy(np.random.randint(0, 10, mb_size))\n",
    "    c_onehot = torch.zeros(c.size(0), y_dim).scatter_(1, c.unsqueeze(1), 1)\n",
    "    z = torch.randn(mb_size, Z_dim)\n",
    "    samples = P(Variable(z), Variable(c_onehot)).data.numpy()[:16]\n",
    "    plot(samples, epoch)"
   ]
  },
  {
   "cell_type": "markdown",
   "metadata": {
    "deletable": true,
    "editable": true,
    "heading_collapsed": true
   },
   "source": [
    "## Denoising VAE"
   ]
  },
  {
   "cell_type": "markdown",
   "metadata": {
    "hidden": true
   },
   "source": [
    "Source: https://github.com/wiseodd/generative-models/tree/master/VAE/denoising_vae"
   ]
  },
  {
   "cell_type": "markdown",
   "metadata": {
    "hidden": true
   },
   "source": [
    "### setup"
   ]
  },
  {
   "cell_type": "code",
   "execution_count": 1,
   "metadata": {
    "ExecuteTime": {
     "end_time": "2017-04-10T11:41:58.464952Z",
     "start_time": "2017-04-10T20:41:58.462032+09:00"
    },
    "collapsed": true,
    "deletable": true,
    "editable": true,
    "hidden": true
   },
   "outputs": [],
   "source": [
    "import os"
   ]
  },
  {
   "cell_type": "code",
   "execution_count": 2,
   "metadata": {
    "ExecuteTime": {
     "end_time": "2017-04-10T11:41:58.813788Z",
     "start_time": "2017-04-10T20:41:58.467094+09:00"
    },
    "collapsed": false,
    "deletable": true,
    "editable": true,
    "hidden": true
   },
   "outputs": [],
   "source": [
    "import numpy as np\n",
    "import matplotlib.pyplot as plt\n",
    "import matplotlib.gridspec as gridspec"
   ]
  },
  {
   "cell_type": "code",
   "execution_count": 3,
   "metadata": {
    "ExecuteTime": {
     "end_time": "2017-04-10T11:41:59.115893Z",
     "start_time": "2017-04-10T20:41:58.816198+09:00"
    },
    "collapsed": true,
    "deletable": true,
    "editable": true,
    "hidden": true
   },
   "outputs": [],
   "source": [
    "import torch\n",
    "import torch.nn.functional as F\n",
    "from torch.autograd import Variable\n",
    "import torch.optim as optim\n",
    "import torchvision.transforms as transforms\n",
    "from torch.utils.data import DataLoader\n",
    "from torchnet.meter import AverageValueMeter"
   ]
  },
  {
   "cell_type": "code",
   "execution_count": 4,
   "metadata": {
    "ExecuteTime": {
     "end_time": "2017-04-10T11:41:59.121432Z",
     "start_time": "2017-04-10T20:41:59.118021+09:00"
    },
    "collapsed": true,
    "deletable": true,
    "editable": true,
    "hidden": true
   },
   "outputs": [],
   "source": [
    "import mnist"
   ]
  },
  {
   "cell_type": "code",
   "execution_count": 5,
   "metadata": {
    "ExecuteTime": {
     "end_time": "2017-04-10T11:41:59.167714Z",
     "start_time": "2017-04-10T20:41:59.123301+09:00"
    },
    "collapsed": false,
    "deletable": true,
    "editable": true,
    "hidden": true
   },
   "outputs": [
    {
     "data": {
      "text/plain": [
       "<torch._C.Generator at 0x7fea4e2a4c00>"
      ]
     },
     "execution_count": 5,
     "metadata": {},
     "output_type": "execute_result"
    }
   ],
   "source": [
    "mb_size = 64\n",
    "epochs = 100\n",
    "Z_dim = 100\n",
    "X_dim = 784\n",
    "y_dim = 10\n",
    "h_dim = 128 # number of hidden unit\n",
    "lr = 1e-3\n",
    "noise_factor = .25\n",
    "\n",
    "intermediate_path = '../intermediate/dvae/'\n",
    "if not os.path.exists(intermediate_path):\n",
    "    os.makedirs(intermediate_path)\n",
    "    \n",
    "data_path = '../data/mnist/'\n",
    "\n",
    "torch.manual_seed(7)"
   ]
  },
  {
   "cell_type": "markdown",
   "metadata": {
    "hidden": true
   },
   "source": [
    "### model"
   ]
  },
  {
   "cell_type": "code",
   "execution_count": 6,
   "metadata": {
    "ExecuteTime": {
     "end_time": "2017-04-10T11:41:59.229602Z",
     "start_time": "2017-04-10T20:41:59.169560+09:00"
    },
    "collapsed": true,
    "deletable": true,
    "editable": true,
    "hidden": true
   },
   "outputs": [],
   "source": [
    "def xavier_init(size):\n",
    "    in_dim = size[0]\n",
    "    xavier_stddev = 1. / np.sqrt(in_dim / 2.)\n",
    "    return Variable(torch.randn(*size) * xavier_stddev, requires_grad=True)"
   ]
  },
  {
   "cell_type": "code",
   "execution_count": 7,
   "metadata": {
    "ExecuteTime": {
     "end_time": "2017-04-10T11:41:59.290879Z",
     "start_time": "2017-04-10T20:41:59.231629+09:00"
    },
    "collapsed": false,
    "deletable": true,
    "editable": true,
    "hidden": true
   },
   "outputs": [],
   "source": [
    "Wxh = xavier_init(size=[X_dim, h_dim])\n",
    "bxh = Variable(torch.zeros(h_dim), requires_grad=True)\n",
    "\n",
    "Whz_mu = xavier_init(size=[h_dim, Z_dim])\n",
    "bhz_mu = Variable(torch.zeros(Z_dim), requires_grad=True)\n",
    "\n",
    "Whz_var = xavier_init(size=[h_dim, Z_dim])\n",
    "bhz_var = Variable(torch.zeros(Z_dim), requires_grad=True)"
   ]
  },
  {
   "cell_type": "code",
   "execution_count": 8,
   "metadata": {
    "ExecuteTime": {
     "end_time": "2017-04-10T11:41:59.313580Z",
     "start_time": "2017-04-10T20:41:59.295737+09:00"
    },
    "collapsed": true,
    "deletable": true,
    "editable": true,
    "hidden": true
   },
   "outputs": [],
   "source": [
    "def Q(X):\n",
    "    h = F.relu(X @ Wxh + bxh.repeat(X.size(0), 1))\n",
    "    z_mu = h @ Whz_mu + bhz_mu.repeat(h.size(0), 1)\n",
    "    z_var = h @ Whz_var + bhz_var.repeat(h.size(0), 1)\n",
    "    return z_mu, z_var\n",
    "\n",
    "def sample_z(mu, log_var):\n",
    "    eps = Variable(torch.randn(mu.size(0), Z_dim))\n",
    "    return mu + torch.exp(log_var / 2) * eps"
   ]
  },
  {
   "cell_type": "code",
   "execution_count": 9,
   "metadata": {
    "ExecuteTime": {
     "end_time": "2017-04-10T11:41:59.360697Z",
     "start_time": "2017-04-10T20:41:59.318325+09:00"
    },
    "collapsed": true,
    "deletable": true,
    "editable": true,
    "hidden": true
   },
   "outputs": [],
   "source": [
    "Wzh = xavier_init(size=[Z_dim, h_dim])\n",
    "bzh = Variable(torch.zeros(h_dim), requires_grad=True)\n",
    "\n",
    "Whx = xavier_init(size=[h_dim, X_dim])\n",
    "bhx = Variable(torch.zeros(X_dim), requires_grad=True)"
   ]
  },
  {
   "cell_type": "code",
   "execution_count": 10,
   "metadata": {
    "ExecuteTime": {
     "end_time": "2017-04-10T11:41:59.385341Z",
     "start_time": "2017-04-10T20:41:59.365282+09:00"
    },
    "collapsed": true,
    "deletable": true,
    "editable": true,
    "hidden": true
   },
   "outputs": [],
   "source": [
    "def P(z):\n",
    "    h = F.relu(z @ Wzh + bzh.repeat(z.size(0), 1))\n",
    "    X = F.sigmoid(h @ Whx + bhx.repeat(h.size(0), 1))\n",
    "    return X"
   ]
  },
  {
   "cell_type": "markdown",
   "metadata": {
    "hidden": true
   },
   "source": [
    "### utils"
   ]
  },
  {
   "cell_type": "code",
   "execution_count": 11,
   "metadata": {
    "ExecuteTime": {
     "end_time": "2017-04-10T11:41:59.421783Z",
     "start_time": "2017-04-10T20:41:59.390038+09:00"
    },
    "collapsed": true,
    "deletable": true,
    "editable": true,
    "hidden": true
   },
   "outputs": [],
   "source": [
    "def plot(samples, epoch):\n",
    "    fig = plt.figure(figsize=(4, 4))\n",
    "    gs = gridspec.GridSpec(4, 4)\n",
    "    gs.update(wspace=0.05, hspace=0.05)\n",
    "\n",
    "    for i, sample in enumerate(samples):\n",
    "        ax = plt.subplot(gs[i])\n",
    "        plt.axis(\"off\")\n",
    "        ax.set_xticklabels([])\n",
    "        ax.set_yticklabels([])\n",
    "        ax.set_aspect(\"equal\")\n",
    "        plt.imshow(sample.reshape(28, 28), cmap=\"Greys_r\")\n",
    "\n",
    "    out_filepath = os.path.join(intermediate_path, \n",
    "                                \"{}.png\".format(str(epoch).zfill(3)))\n",
    "    plt.savefig(out_filepath, bbox_inches='tight')\n",
    "    plt.close(fig)"
   ]
  },
  {
   "cell_type": "markdown",
   "metadata": {
    "hidden": true
   },
   "source": [
    "### train"
   ]
  },
  {
   "cell_type": "code",
   "execution_count": 17,
   "metadata": {
    "ExecuteTime": {
     "end_time": "2017-04-10T11:43:49.074180Z",
     "start_time": "2017-04-10T20:43:49.047836+09:00"
    },
    "collapsed": true,
    "deletable": true,
    "editable": true,
    "hidden": true
   },
   "outputs": [],
   "source": [
    "def train(train_loader, solver, epoch):\n",
    "    losses = AverageValueMeter()\n",
    "    \n",
    "    for i, (X, _) in enumerate(train_loader):\n",
    "        X = X.view(-1, 784)\n",
    "        X = Variable(X)\n",
    "        \n",
    "        # Add noise\n",
    "        X_noise = X + noise_factor * Variable(torch.randn(X.size()))\n",
    "        X_noise.data.clamp_(0., 1.)\n",
    "\n",
    "        # Forward\n",
    "        z_mu, z_logvar = Q(X_noise)\n",
    "        z = sample_z(z_mu, z_logvar)\n",
    "        X_sample = P(z)\n",
    "\n",
    "        # Loss\n",
    "        recon_loss = F.binary_cross_entropy(X_sample, X, size_average=False)\n",
    "        kl_loss = 0.5 * torch.sum(torch.exp(z_logvar)\n",
    "                                  + z_mu**2 - 1 - z_logvar)\n",
    "        loss = recon_loss + kl_loss\n",
    "        \n",
    "        # Backward\n",
    "        loss.backward()\n",
    "        solver.step()\n",
    "    \n",
    "        for p in params:\n",
    "            p.grad.data.zero_()\n",
    "        \n",
    "        losses.add(loss.data[0], X.size(0))\n",
    "    \n",
    "    print(\"=> EPOCH {} | Loss: {:.4f}\"\n",
    "          .format(epoch, losses.value()[0]))"
   ]
  },
  {
   "cell_type": "markdown",
   "metadata": {
    "hidden": true
   },
   "source": [
    "### prepare"
   ]
  },
  {
   "cell_type": "code",
   "execution_count": 13,
   "metadata": {
    "ExecuteTime": {
     "end_time": "2017-04-10T11:41:59.511377Z",
     "start_time": "2017-04-10T20:41:59.479640+09:00"
    },
    "collapsed": true,
    "deletable": true,
    "editable": true,
    "hidden": true
   },
   "outputs": [],
   "source": [
    "\"\"\" Training \"\"\"\n",
    "params = [Wxh, bxh, Whz_mu, bhz_mu, Whz_var, bhz_var,\n",
    "          Wzh, bzh, Whx, bhx]\n",
    "\n",
    "solver = optim.Adam(params, lr=lr)"
   ]
  },
  {
   "cell_type": "code",
   "execution_count": 15,
   "metadata": {
    "ExecuteTime": {
     "end_time": "2017-04-10T11:42:20.106937Z",
     "start_time": "2017-04-10T20:42:20.083643+09:00"
    },
    "collapsed": false,
    "deletable": true,
    "editable": true,
    "hidden": true
   },
   "outputs": [],
   "source": [
    "train_loader = DataLoader(\n",
    "    mnist.MNIST(data_path, train=True, download=True,\n",
    "                transform=transforms.ToTensor()),\n",
    "    batch_size=mb_size, shuffle=True)"
   ]
  },
  {
   "cell_type": "markdown",
   "metadata": {
    "hidden": true
   },
   "source": [
    "### run"
   ]
  },
  {
   "cell_type": "code",
   "execution_count": 18,
   "metadata": {
    "ExecuteTime": {
     "end_time": "2017-04-10T13:20:05.414240Z",
     "start_time": "2017-04-10T20:43:56.472687+09:00"
    },
    "collapsed": false,
    "deletable": true,
    "editable": true,
    "hidden": true
   },
   "outputs": [
    {
     "name": "stdout",
     "output_type": "stream",
     "text": [
      "=> EPOCH 1 | Loss: 194.1767\n",
      "=> EPOCH 2 | Loss: 147.8750\n",
      "=> EPOCH 3 | Loss: 135.4952\n",
      "=> EPOCH 4 | Loss: 128.0893\n",
      "=> EPOCH 5 | Loss: 123.8210\n",
      "=> EPOCH 6 | Loss: 121.3719\n",
      "=> EPOCH 7 | Loss: 119.9865\n",
      "=> EPOCH 8 | Loss: 118.9402\n",
      "=> EPOCH 9 | Loss: 118.2988\n",
      "=> EPOCH 10 | Loss: 117.7279\n",
      "=> EPOCH 11 | Loss: 117.2896\n",
      "=> EPOCH 12 | Loss: 116.9489\n",
      "=> EPOCH 13 | Loss: 116.7146\n",
      "=> EPOCH 14 | Loss: 116.4792\n",
      "=> EPOCH 15 | Loss: 116.2661\n",
      "=> EPOCH 16 | Loss: 116.0227\n",
      "=> EPOCH 17 | Loss: 115.8309\n",
      "=> EPOCH 18 | Loss: 115.6137\n",
      "=> EPOCH 19 | Loss: 115.5089\n",
      "=> EPOCH 20 | Loss: 115.3506\n",
      "=> EPOCH 21 | Loss: 115.2817\n",
      "=> EPOCH 22 | Loss: 115.1794\n",
      "=> EPOCH 23 | Loss: 115.1692\n",
      "=> EPOCH 24 | Loss: 115.0326\n",
      "=> EPOCH 25 | Loss: 114.9706\n",
      "=> EPOCH 26 | Loss: 114.9115\n",
      "=> EPOCH 27 | Loss: 114.8957\n",
      "=> EPOCH 28 | Loss: 114.8248\n",
      "=> EPOCH 29 | Loss: 114.7825\n",
      "=> EPOCH 30 | Loss: 114.7367\n",
      "=> EPOCH 31 | Loss: 114.6962\n",
      "=> EPOCH 32 | Loss: 114.6539\n",
      "=> EPOCH 33 | Loss: 114.5837\n",
      "=> EPOCH 34 | Loss: 114.5739\n",
      "=> EPOCH 35 | Loss: 114.5569\n",
      "=> EPOCH 36 | Loss: 114.5258\n",
      "=> EPOCH 37 | Loss: 114.4705\n",
      "=> EPOCH 38 | Loss: 114.4477\n",
      "=> EPOCH 39 | Loss: 114.4396\n",
      "=> EPOCH 40 | Loss: 114.4377\n",
      "=> EPOCH 41 | Loss: 114.3382\n",
      "=> EPOCH 42 | Loss: 114.3301\n",
      "=> EPOCH 43 | Loss: 114.3370\n",
      "=> EPOCH 44 | Loss: 114.2664\n",
      "=> EPOCH 45 | Loss: 114.2651\n",
      "=> EPOCH 46 | Loss: 114.1990\n",
      "=> EPOCH 47 | Loss: 114.1916\n",
      "=> EPOCH 48 | Loss: 114.1766\n",
      "=> EPOCH 49 | Loss: 114.1443\n",
      "=> EPOCH 50 | Loss: 114.1189\n",
      "=> EPOCH 51 | Loss: 114.1030\n",
      "=> EPOCH 52 | Loss: 114.1618\n",
      "=> EPOCH 53 | Loss: 114.1074\n",
      "=> EPOCH 54 | Loss: 114.0632\n",
      "=> EPOCH 55 | Loss: 114.0023\n",
      "=> EPOCH 56 | Loss: 113.9762\n",
      "=> EPOCH 57 | Loss: 113.9958\n",
      "=> EPOCH 58 | Loss: 113.9801\n",
      "=> EPOCH 59 | Loss: 113.9570\n",
      "=> EPOCH 60 | Loss: 113.9673\n",
      "=> EPOCH 61 | Loss: 113.9586\n",
      "=> EPOCH 62 | Loss: 113.9111\n",
      "=> EPOCH 63 | Loss: 113.8756\n",
      "=> EPOCH 64 | Loss: 113.8379\n",
      "=> EPOCH 65 | Loss: 113.9185\n",
      "=> EPOCH 66 | Loss: 113.8947\n",
      "=> EPOCH 67 | Loss: 113.8809\n",
      "=> EPOCH 68 | Loss: 113.8265\n",
      "=> EPOCH 69 | Loss: 113.8354\n",
      "=> EPOCH 70 | Loss: 113.7931\n",
      "=> EPOCH 71 | Loss: 113.7897\n",
      "=> EPOCH 72 | Loss: 113.8356\n",
      "=> EPOCH 73 | Loss: 113.7327\n",
      "=> EPOCH 74 | Loss: 113.7265\n",
      "=> EPOCH 75 | Loss: 113.7319\n",
      "=> EPOCH 76 | Loss: 113.7318\n",
      "=> EPOCH 77 | Loss: 113.6777\n",
      "=> EPOCH 78 | Loss: 113.7350\n",
      "=> EPOCH 79 | Loss: 113.6594\n",
      "=> EPOCH 80 | Loss: 113.6933\n",
      "=> EPOCH 81 | Loss: 113.6886\n",
      "=> EPOCH 82 | Loss: 113.6507\n",
      "=> EPOCH 83 | Loss: 113.6577\n",
      "=> EPOCH 84 | Loss: 113.6347\n",
      "=> EPOCH 85 | Loss: 113.5928\n",
      "=> EPOCH 86 | Loss: 113.6118\n",
      "=> EPOCH 87 | Loss: 113.5803\n",
      "=> EPOCH 88 | Loss: 113.6090\n",
      "=> EPOCH 89 | Loss: 113.6073\n",
      "=> EPOCH 90 | Loss: 113.5435\n",
      "=> EPOCH 91 | Loss: 113.5949\n",
      "=> EPOCH 92 | Loss: 113.5660\n",
      "=> EPOCH 93 | Loss: 113.5496\n",
      "=> EPOCH 94 | Loss: 113.5261\n",
      "=> EPOCH 95 | Loss: 113.5355\n",
      "=> EPOCH 96 | Loss: 113.4854\n",
      "=> EPOCH 97 | Loss: 113.4771\n",
      "=> EPOCH 98 | Loss: 113.4600\n",
      "=> EPOCH 99 | Loss: 113.4164\n",
      "=> EPOCH 100 | Loss: 113.4832\n"
     ]
    }
   ],
   "source": [
    "for epoch in range(1, epochs+1):\n",
    "    train(train_loader, solver, epoch)\n",
    "    z = torch.randn(mb_size, Z_dim)\n",
    "    samples = P(Variable(z)).data.numpy()[:16]\n",
    "    plot(samples, epoch)"
   ]
  }
 ],
 "metadata": {
  "kernelspec": {
   "display_name": "Python [conda env:pydata]",
   "language": "python",
   "name": "conda-env-pydata-py"
  },
  "language_info": {
   "codemirror_mode": {
    "name": "ipython",
    "version": 3
   },
   "file_extension": ".py",
   "mimetype": "text/x-python",
   "name": "python",
   "nbconvert_exporter": "python",
   "pygments_lexer": "ipython3",
   "version": "3.5.2"
  }
 },
 "nbformat": 4,
 "nbformat_minor": 2
}
