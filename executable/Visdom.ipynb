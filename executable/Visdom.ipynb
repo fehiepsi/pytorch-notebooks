{
 "cells": [
  {
   "cell_type": "markdown",
   "metadata": {
    "deletable": true,
    "editable": true
   },
   "source": [
    "Source: https://github.com/facebookresearch/visdom/tree/master/example"
   ]
  },
  {
   "cell_type": "markdown",
   "metadata": {
    "deletable": true,
    "editable": true
   },
   "source": [
    "### setup"
   ]
  },
  {
   "cell_type": "code",
   "execution_count": 1,
   "metadata": {
    "ExecuteTime": {
     "end_time": "2017-04-10T14:03:47.712046Z",
     "start_time": "2017-04-10T23:03:47.708426+09:00"
    },
    "collapsed": true,
    "deletable": true,
    "editable": true
   },
   "outputs": [],
   "source": [
    "import os\n",
    "import math\n",
    "import subprocess\n",
    "import time"
   ]
  },
  {
   "cell_type": "code",
   "execution_count": 2,
   "metadata": {
    "ExecuteTime": {
     "end_time": "2017-04-10T14:03:47.872034Z",
     "start_time": "2017-04-10T23:03:47.714099+09:00"
    },
    "collapsed": true,
    "deletable": true,
    "editable": true
   },
   "outputs": [],
   "source": [
    "import numpy as np\n",
    "from visdom import Visdom"
   ]
  },
  {
   "cell_type": "code",
   "execution_count": 3,
   "metadata": {
    "ExecuteTime": {
     "end_time": "2017-04-10T14:03:48.881662Z",
     "start_time": "2017-04-10T23:03:47.874491+09:00"
    },
    "collapsed": false,
    "deletable": true,
    "editable": true
   },
   "outputs": [],
   "source": [
    "# start the server at port 8097\n",
    "proc = subprocess.Popen([\"python\", \"-m\", \"visdom.server\"])\n",
    "time.sleep(1)"
   ]
  },
  {
   "cell_type": "code",
   "execution_count": 4,
   "metadata": {
    "ExecuteTime": {
     "end_time": "2017-04-10T14:03:49.087051Z",
     "start_time": "2017-04-10T23:03:48.884113+09:00"
    },
    "collapsed": false,
    "deletable": true,
    "editable": true
   },
   "outputs": [],
   "source": [
    "# class to communicate with the server\n",
    "viz = Visdom()"
   ]
  },
  {
   "cell_type": "markdown",
   "metadata": {
    "deletable": true,
    "editable": true,
    "heading_collapsed": true
   },
   "source": [
    "### text"
   ]
  },
  {
   "cell_type": "code",
   "execution_count": 6,
   "metadata": {
    "ExecuteTime": {
     "end_time": "2017-04-10T14:03:49.136730Z",
     "start_time": "2017-04-10T23:03:49.093778+09:00"
    },
    "collapsed": false,
    "deletable": true,
    "editable": true,
    "hidden": true
   },
   "outputs": [],
   "source": [
    "textwindow = viz.text('Hello World!')"
   ]
  },
  {
   "cell_type": "markdown",
   "metadata": {
    "deletable": true,
    "editable": true,
    "heading_collapsed": true
   },
   "source": [
    "### close"
   ]
  },
  {
   "cell_type": "code",
   "execution_count": 7,
   "metadata": {
    "ExecuteTime": {
     "end_time": "2017-04-10T14:03:49.204741Z",
     "start_time": "2017-04-10T23:03:49.139057+09:00"
    },
    "collapsed": false,
    "deletable": true,
    "editable": true,
    "hidden": true
   },
   "outputs": [
    {
     "data": {
      "text/plain": [
       "''"
      ]
     },
     "execution_count": 7,
     "metadata": {},
     "output_type": "execute_result"
    }
   ],
   "source": [
    "# close text window:\n",
    "viz.close(win=textwindow)"
   ]
  },
  {
   "cell_type": "markdown",
   "metadata": {
    "deletable": true,
    "editable": true,
    "heading_collapsed": true
   },
   "source": [
    "### image"
   ]
  },
  {
   "cell_type": "code",
   "execution_count": 8,
   "metadata": {
    "ExecuteTime": {
     "end_time": "2017-04-10T14:03:49.271072Z",
     "start_time": "2017-04-10T23:03:49.206775+09:00"
    },
    "collapsed": false,
    "deletable": true,
    "editable": true,
    "hidden": true
   },
   "outputs": [
    {
     "data": {
      "text/plain": [
       "'pane_35002471bc767c'"
      ]
     },
     "execution_count": 8,
     "metadata": {},
     "output_type": "execute_result"
    }
   ],
   "source": [
    "# image demo\n",
    "viz.image(\n",
    "    np.random.rand(3, 512, 256),\n",
    "    opts=dict(title='Random!', caption='How random.'),\n",
    ")"
   ]
  },
  {
   "cell_type": "markdown",
   "metadata": {
    "deletable": true,
    "editable": true,
    "heading_collapsed": true
   },
   "source": [
    "### svg"
   ]
  },
  {
   "cell_type": "code",
   "execution_count": 9,
   "metadata": {
    "ExecuteTime": {
     "end_time": "2017-04-10T14:03:49.282756Z",
     "start_time": "2017-04-10T23:03:49.273365+09:00"
    },
    "collapsed": false,
    "deletable": true,
    "editable": true,
    "hidden": true
   },
   "outputs": [
    {
     "data": {
      "text/plain": [
       "'pane_35002471be5fe2'"
      ]
     },
     "execution_count": 9,
     "metadata": {},
     "output_type": "execute_result"
    }
   ],
   "source": [
    "# SVG plotting\n",
    "svgstr = \"\"\"\n",
    "<svg height=\"300\" width=\"300\">\n",
    "  <ellipse cx=\"80\" cy=\"80\" rx=\"50\" ry=\"30\"\n",
    "   style=\"fill:red;stroke:purple;stroke-width:2\" />\n",
    "  Sorry, your browser does not support inline SVG.\n",
    "</svg>\n",
    "\"\"\"\n",
    "viz.svg(\n",
    "    svgstr=svgstr,\n",
    "    opts=dict(title='Example of SVG Rendering')\n",
    ")"
   ]
  },
  {
   "cell_type": "markdown",
   "metadata": {
    "deletable": true,
    "editable": true,
    "heading_collapsed": true
   },
   "source": [
    "### video"
   ]
  },
  {
   "cell_type": "code",
   "execution_count": 10,
   "metadata": {
    "ExecuteTime": {
     "end_time": "2017-04-10T14:03:49.315806Z",
     "start_time": "2017-04-10T23:03:49.284796+09:00"
    },
    "collapsed": false,
    "deletable": true,
    "editable": true,
    "hidden": true
   },
   "outputs": [],
   "source": [
    "videofile = '../data/trailer.ogv'\n",
    "if not os.path.isfile(videofile):\n",
    "    URL = \"http://media.w3.org/2010/05/sintel/trailer.ogv\"\n",
    "    !wget URL -O $videofile"
   ]
  },
  {
   "cell_type": "code",
   "execution_count": 11,
   "metadata": {
    "ExecuteTime": {
     "end_time": "2017-04-10T14:03:49.615574Z",
     "start_time": "2017-04-10T23:03:49.318070+09:00"
    },
    "collapsed": false,
    "deletable": true,
    "editable": true,
    "hidden": true
   },
   "outputs": [],
   "source": [
    "# video demo:\n",
    "try:\n",
    "    video = np.empty([256, 250, 250, 3], dtype=np.uint8)\n",
    "    for n in range(256):\n",
    "        video[n, :, :, :].fill(n)\n",
    "    #viz.video(tensor=video)\n",
    "\n",
    "    # video demo: download video from\n",
    "    # http://media.w3.org/2010/05/sintel/trailer.ogv\n",
    "    if os.path.isfile(videofile):\n",
    "        viz.video(videofile=videofile)\n",
    "except ImportError:\n",
    "    print('Skipped video example')"
   ]
  },
  {
   "cell_type": "markdown",
   "metadata": {
    "deletable": true,
    "editable": true,
    "heading_collapsed": true
   },
   "source": [
    "### line"
   ]
  },
  {
   "cell_type": "code",
   "execution_count": 12,
   "metadata": {
    "ExecuteTime": {
     "end_time": "2017-04-10T14:03:49.626665Z",
     "start_time": "2017-04-10T23:03:49.617872+09:00"
    },
    "collapsed": false,
    "deletable": true,
    "editable": true,
    "hidden": true
   },
   "outputs": [
    {
     "data": {
      "text/plain": [
       "'pane_35002471f2db34'"
      ]
     },
     "execution_count": 12,
     "metadata": {},
     "output_type": "execute_result"
    }
   ],
   "source": [
    "# line plots\n",
    "viz.line(Y=np.random.rand(10))"
   ]
  },
  {
   "cell_type": "code",
   "execution_count": 13,
   "metadata": {
    "ExecuteTime": {
     "end_time": "2017-04-10T14:03:49.670923Z",
     "start_time": "2017-04-10T23:03:49.628639+09:00"
    },
    "collapsed": false,
    "deletable": true,
    "editable": true,
    "hidden": true
   },
   "outputs": [
    {
     "data": {
      "text/plain": [
       "'pane_35002471f9812a'"
      ]
     },
     "execution_count": 13,
     "metadata": {},
     "output_type": "execute_result"
    }
   ],
   "source": [
    "Y = np.linspace(-5, 5, 100)\n",
    "viz.line(\n",
    "    Y=np.column_stack((Y * Y, np.sqrt(Y + 5))),\n",
    "    X=np.column_stack((Y, Y)),\n",
    "    opts=dict(markers=False),\n",
    ")"
   ]
  },
  {
   "cell_type": "code",
   "execution_count": 14,
   "metadata": {
    "ExecuteTime": {
     "end_time": "2017-04-10T14:03:49.710009Z",
     "start_time": "2017-04-10T23:03:49.672839+09:00"
    },
    "collapsed": true,
    "deletable": true,
    "editable": true,
    "hidden": true
   },
   "outputs": [],
   "source": [
    "# line updates\n",
    "win = viz.line(\n",
    "    X=np.column_stack((np.arange(0, 10), np.arange(0, 10))),\n",
    "    Y=np.column_stack((np.linspace(5, 10, 10), np.linspace(5, 10, 10) + 5)),\n",
    ")"
   ]
  },
  {
   "cell_type": "code",
   "execution_count": 15,
   "metadata": {
    "ExecuteTime": {
     "end_time": "2017-04-10T14:03:49.753726Z",
     "start_time": "2017-04-10T23:03:49.712009+09:00"
    },
    "collapsed": false,
    "deletable": true,
    "editable": true,
    "hidden": true
   },
   "outputs": [
    {
     "data": {
      "text/plain": [
       "'pane_35002471ffca42'"
      ]
     },
     "execution_count": 15,
     "metadata": {},
     "output_type": "execute_result"
    }
   ],
   "source": [
    "viz.line(\n",
    "    X=np.column_stack((np.arange(10, 20), np.arange(10, 20))),\n",
    "    Y=np.column_stack((np.linspace(5, 10, 10), np.linspace(5, 10, 10) + 5)),\n",
    "    win=win,\n",
    "    update='append'\n",
    ")"
   ]
  },
  {
   "cell_type": "code",
   "execution_count": 16,
   "metadata": {
    "ExecuteTime": {
     "end_time": "2017-04-10T14:03:49.789519Z",
     "start_time": "2017-04-10T23:03:49.755470+09:00"
    },
    "collapsed": false,
    "deletable": true,
    "editable": true,
    "hidden": true
   },
   "outputs": [
    {
     "data": {
      "text/plain": [
       "'pane_35002471ffca42'"
      ]
     },
     "execution_count": 16,
     "metadata": {},
     "output_type": "execute_result"
    }
   ],
   "source": [
    "viz.updateTrace(\n",
    "    X=np.arange(21, 30),\n",
    "    Y=np.arange(1, 10),\n",
    "    win=win,\n",
    "    name='2'\n",
    ")"
   ]
  },
  {
   "cell_type": "code",
   "execution_count": 17,
   "metadata": {
    "ExecuteTime": {
     "end_time": "2017-04-10T14:03:49.832027Z",
     "start_time": "2017-04-10T23:03:49.791339+09:00"
    },
    "collapsed": false,
    "deletable": true,
    "editable": true,
    "hidden": true
   },
   "outputs": [
    {
     "data": {
      "text/plain": [
       "'pane_35002471ffca42'"
      ]
     },
     "execution_count": 17,
     "metadata": {},
     "output_type": "execute_result"
    }
   ],
   "source": [
    "viz.updateTrace(\n",
    "    X=np.arange(1, 10),\n",
    "    Y=np.arange(11, 20),\n",
    "    win=win,\n",
    "    name='4'\n",
    ")"
   ]
  },
  {
   "cell_type": "code",
   "execution_count": 18,
   "metadata": {
    "ExecuteTime": {
     "end_time": "2017-04-10T14:03:49.883459Z",
     "start_time": "2017-04-10T23:03:49.834298+09:00"
    },
    "collapsed": true,
    "deletable": true,
    "editable": true,
    "hidden": true
   },
   "outputs": [],
   "source": [
    "Y = np.linspace(0, 4, 200)\n",
    "win = viz.line(\n",
    "    Y=np.column_stack((np.sqrt(Y), np.sqrt(Y) + 2)),\n",
    "    X=np.column_stack((Y, Y)),\n",
    "    opts=dict(\n",
    "        fillarea=True,\n",
    "        legend=False,\n",
    "        width=400,\n",
    "        height=400,\n",
    "        xlabel='Time',\n",
    "        ylabel='Volume',\n",
    "        ytype='log',\n",
    "        title='Stacked area plot',\n",
    "        marginleft=30,\n",
    "        marginright=30,\n",
    "        marginbottom=80,\n",
    "        margintop=30,\n",
    "    ),\n",
    ")"
   ]
  },
  {
   "cell_type": "markdown",
   "metadata": {
    "deletable": true,
    "editable": true,
    "heading_collapsed": true
   },
   "source": [
    "### pytorch"
   ]
  },
  {
   "cell_type": "code",
   "execution_count": 19,
   "metadata": {
    "ExecuteTime": {
     "end_time": "2017-04-10T14:03:49.926089Z",
     "start_time": "2017-04-10T23:03:49.885699+09:00"
    },
    "collapsed": true,
    "deletable": true,
    "editable": true,
    "hidden": true
   },
   "outputs": [],
   "source": [
    "# PyTorch tensor\n",
    "try:\n",
    "    import torch\n",
    "    viz.line(Y=torch.Tensor([[0., 0.], [1., 1.]]))\n",
    "except ImportError:\n",
    "    print('Skipped PyTorch example')"
   ]
  },
  {
   "cell_type": "markdown",
   "metadata": {
    "deletable": true,
    "editable": true,
    "heading_collapsed": true
   },
   "source": [
    "### bar"
   ]
  },
  {
   "cell_type": "code",
   "execution_count": 20,
   "metadata": {
    "ExecuteTime": {
     "end_time": "2017-04-10T14:03:49.969202Z",
     "start_time": "2017-04-10T23:03:49.927979+09:00"
    },
    "collapsed": false,
    "deletable": true,
    "editable": true,
    "hidden": true
   },
   "outputs": [
    {
     "data": {
      "text/plain": [
       "'pane_3500247227168e'"
      ]
     },
     "execution_count": 20,
     "metadata": {},
     "output_type": "execute_result"
    }
   ],
   "source": [
    "# bar plots\n",
    "viz.bar(X=np.random.rand(20))"
   ]
  },
  {
   "cell_type": "code",
   "execution_count": 21,
   "metadata": {
    "ExecuteTime": {
     "end_time": "2017-04-10T14:03:50.011649Z",
     "start_time": "2017-04-10T23:03:49.971031+09:00"
    },
    "collapsed": false,
    "deletable": true,
    "editable": true,
    "hidden": true
   },
   "outputs": [
    {
     "data": {
      "text/plain": [
       "'pane_350024722d8362'"
      ]
     },
     "execution_count": 21,
     "metadata": {},
     "output_type": "execute_result"
    }
   ],
   "source": [
    "viz.bar(\n",
    "    X=np.abs(np.random.rand(5, 3)),\n",
    "    opts=dict(\n",
    "        stacked=True,\n",
    "        legend=['Facebook', 'Google', 'Twitter'],\n",
    "        rownames=['2012', '2013', '2014', '2015', '2016']\n",
    "    )\n",
    ")"
   ]
  },
  {
   "cell_type": "code",
   "execution_count": 22,
   "metadata": {
    "ExecuteTime": {
     "end_time": "2017-04-10T14:03:50.053507Z",
     "start_time": "2017-04-10T23:03:50.013592+09:00"
    },
    "collapsed": false,
    "deletable": true,
    "editable": true,
    "hidden": true
   },
   "outputs": [
    {
     "data": {
      "text/plain": [
       "'pane_3500247233f13c'"
      ]
     },
     "execution_count": 22,
     "metadata": {},
     "output_type": "execute_result"
    }
   ],
   "source": [
    "viz.bar(\n",
    "    X=np.random.rand(20, 3),\n",
    "    opts=dict(\n",
    "        stacked=False,\n",
    "        legend=['The Netherlands', 'France', 'United States']\n",
    "    )\n",
    ")"
   ]
  },
  {
   "cell_type": "markdown",
   "metadata": {
    "deletable": true,
    "editable": true,
    "heading_collapsed": true
   },
   "source": [
    "### histogram"
   ]
  },
  {
   "cell_type": "code",
   "execution_count": 23,
   "metadata": {
    "ExecuteTime": {
     "end_time": "2017-04-10T14:03:50.108063Z",
     "start_time": "2017-04-10T23:03:50.055352+09:00"
    },
    "collapsed": false,
    "deletable": true,
    "editable": true,
    "hidden": true
   },
   "outputs": [
    {
     "data": {
      "text/plain": [
       "'pane_350024723c496c'"
      ]
     },
     "execution_count": 23,
     "metadata": {},
     "output_type": "execute_result"
    }
   ],
   "source": [
    "# histogram\n",
    "viz.histogram(X=np.random.rand(10000), opts=dict(numbins=20))"
   ]
  },
  {
   "cell_type": "markdown",
   "metadata": {
    "deletable": true,
    "editable": true,
    "heading_collapsed": true
   },
   "source": [
    "### pie"
   ]
  },
  {
   "cell_type": "code",
   "execution_count": 24,
   "metadata": {
    "ExecuteTime": {
     "end_time": "2017-04-10T14:03:50.143116Z",
     "start_time": "2017-04-10T23:03:50.110128+09:00"
    },
    "collapsed": false,
    "deletable": true,
    "editable": true,
    "hidden": true
   },
   "outputs": [
    {
     "data": {
      "text/plain": [
       "'pane_3500247241a3b6'"
      ]
     },
     "execution_count": 24,
     "metadata": {},
     "output_type": "execute_result"
    }
   ],
   "source": [
    "# pie chart\n",
    "X = np.asarray([19, 26, 55])\n",
    "viz.pie(\n",
    "    X=X,\n",
    "    opts=dict(legend=['Residential', 'Non-Residential', 'Utility'])\n",
    ")"
   ]
  },
  {
   "cell_type": "markdown",
   "metadata": {
    "deletable": true,
    "editable": true,
    "heading_collapsed": true
   },
   "source": [
    "### heatmap"
   ]
  },
  {
   "cell_type": "code",
   "execution_count": 25,
   "metadata": {
    "ExecuteTime": {
     "end_time": "2017-04-10T14:03:50.186371Z",
     "start_time": "2017-04-10T23:03:50.144997+09:00"
    },
    "collapsed": false,
    "deletable": true,
    "editable": true,
    "hidden": true
   },
   "outputs": [
    {
     "data": {
      "text/plain": [
       "'pane_35002472482478'"
      ]
     },
     "execution_count": 25,
     "metadata": {},
     "output_type": "execute_result"
    }
   ],
   "source": [
    "# heatmap\n",
    "viz.heatmap(\n",
    "    X=np.outer(np.arange(1, 6), np.arange(1, 11)),\n",
    "    opts=dict(\n",
    "        columnnames=['a', 'b', 'c', 'd', 'e', 'f', 'g', 'h', 'i', 'j'],\n",
    "        rownames=['y1', 'y2', 'y3', 'y4', 'y5'],\n",
    "        colormap='Electric',\n",
    "    )\n",
    ")"
   ]
  },
  {
   "cell_type": "markdown",
   "metadata": {
    "deletable": true,
    "editable": true,
    "heading_collapsed": true
   },
   "source": [
    "### boxplot"
   ]
  },
  {
   "cell_type": "code",
   "execution_count": 26,
   "metadata": {
    "ExecuteTime": {
     "end_time": "2017-04-10T14:03:50.228010Z",
     "start_time": "2017-04-10T23:03:50.188399+09:00"
    },
    "collapsed": false,
    "deletable": true,
    "editable": true,
    "hidden": true
   },
   "outputs": [
    {
     "data": {
      "text/plain": [
       "'pane_350024724e8ba2'"
      ]
     },
     "execution_count": 26,
     "metadata": {},
     "output_type": "execute_result"
    }
   ],
   "source": [
    "# boxplot\n",
    "X = np.random.rand(100, 2)\n",
    "X[:, 1] += 2\n",
    "viz.boxplot(\n",
    "    X=X,\n",
    "    opts=dict(legend=['Men', 'Women'])\n",
    ")"
   ]
  },
  {
   "cell_type": "markdown",
   "metadata": {
    "deletable": true,
    "editable": true,
    "heading_collapsed": true
   },
   "source": [
    "### scatter"
   ]
  },
  {
   "cell_type": "code",
   "execution_count": 27,
   "metadata": {
    "ExecuteTime": {
     "end_time": "2017-04-10T14:03:50.271255Z",
     "start_time": "2017-04-10T23:03:50.230156+09:00"
    },
    "collapsed": false,
    "deletable": true,
    "editable": true,
    "hidden": true
   },
   "outputs": [
    {
     "data": {
      "text/plain": [
       "'pane_350024725506f8'"
      ]
     },
     "execution_count": 27,
     "metadata": {},
     "output_type": "execute_result"
    }
   ],
   "source": [
    "# scatter plots\n",
    "Y = np.random.rand(100)\n",
    "viz.scatter(\n",
    "    X=np.random.rand(100, 2),\n",
    "    Y=(Y[Y > 0] + 1.5).astype(int),\n",
    "    opts=dict(\n",
    "        legend=['Apples', 'Pears'],\n",
    "        xtickmin=-5,\n",
    "        xtickmax=5,\n",
    "        xtickstep=0.5,\n",
    "        ytickmin=-5,\n",
    "        ytickmax=5,\n",
    "        ytickstep=0.5,\n",
    "        markersymbol='cross-thin-open',\n",
    "    ),\n",
    ")"
   ]
  },
  {
   "cell_type": "code",
   "execution_count": 28,
   "metadata": {
    "ExecuteTime": {
     "end_time": "2017-04-10T14:03:50.326191Z",
     "start_time": "2017-04-10T23:03:50.273464+09:00"
    },
    "collapsed": false,
    "deletable": true,
    "editable": true,
    "hidden": true
   },
   "outputs": [
    {
     "data": {
      "text/plain": [
       "'pane_350024725d7d5a'"
      ]
     },
     "execution_count": 28,
     "metadata": {},
     "output_type": "execute_result"
    }
   ],
   "source": [
    "viz.scatter(\n",
    "    X=np.random.rand(100, 3),\n",
    "    Y=(Y + 1.5).astype(int),\n",
    "    opts=dict(\n",
    "        legend=['Men', 'Women'],\n",
    "        markersize=5,\n",
    "    )\n",
    ")"
   ]
  },
  {
   "cell_type": "code",
   "execution_count": 29,
   "metadata": {
    "ExecuteTime": {
     "end_time": "2017-04-10T14:03:50.361786Z",
     "start_time": "2017-04-10T23:03:50.327996+09:00"
    },
    "collapsed": false,
    "deletable": true,
    "editable": true,
    "hidden": true
   },
   "outputs": [
    {
     "data": {
      "text/plain": [
       "'pane_3500247262e892'"
      ]
     },
     "execution_count": 29,
     "metadata": {},
     "output_type": "execute_result"
    }
   ],
   "source": [
    "# 2D scatterplot with custom intensities (red channel)\n",
    "viz.scatter(\n",
    "    X=np.random.rand(255, 2),\n",
    "    Y=(np.random.rand(255) + 1.5).astype(int),\n",
    "    opts=dict(\n",
    "        markersize=10,\n",
    "        markercolor=np.random.randint(0, 255, (2, 3,)),\n",
    "    ),\n",
    ")"
   ]
  },
  {
   "cell_type": "code",
   "execution_count": 30,
   "metadata": {
    "ExecuteTime": {
     "end_time": "2017-04-10T14:03:50.415633Z",
     "start_time": "2017-04-10T23:03:50.363896+09:00"
    },
    "collapsed": false,
    "deletable": true,
    "editable": true,
    "hidden": true
   },
   "outputs": [
    {
     "data": {
      "text/plain": [
       "'pane_350024726b2540'"
      ]
     },
     "execution_count": 30,
     "metadata": {},
     "output_type": "execute_result"
    }
   ],
   "source": [
    "# 2D scatter plot with custom colors per label:\n",
    "viz.scatter(\n",
    "    X=np.random.rand(255, 2),\n",
    "    Y=(np.random.randn(255) > 0) + 1,\n",
    "    opts=dict(\n",
    "        markersize=10,\n",
    "        markercolor=np.floor(np.random.random((2, 3)) * 255),\n",
    "    ),\n",
    ")"
   ]
  },
  {
   "cell_type": "code",
   "execution_count": 31,
   "metadata": {
    "ExecuteTime": {
     "end_time": "2017-04-10T14:03:50.456119Z",
     "start_time": "2017-04-10T23:03:50.417781+09:00"
    },
    "collapsed": true,
    "deletable": true,
    "editable": true,
    "hidden": true
   },
   "outputs": [],
   "source": [
    "win = viz.scatter(\n",
    "    X=np.random.rand(255, 2),\n",
    "    opts=dict(\n",
    "        markersize=10,\n",
    "        markercolor=np.random.randint(0, 255, (255, 3,)),\n",
    "    ),\n",
    ")"
   ]
  },
  {
   "cell_type": "code",
   "execution_count": 32,
   "metadata": {
    "ExecuteTime": {
     "end_time": "2017-04-10T14:03:50.492408Z",
     "start_time": "2017-04-10T23:03:50.458468+09:00"
    },
    "collapsed": false,
    "deletable": true,
    "editable": true,
    "hidden": true
   },
   "outputs": [
    {
     "data": {
      "text/plain": [
       "'pane_35002472719f4e'"
      ]
     },
     "execution_count": 32,
     "metadata": {},
     "output_type": "execute_result"
    }
   ],
   "source": [
    "# add new trace to scatter plot\n",
    "viz.updateTrace(\n",
    "    X=np.random.rand(255),\n",
    "    Y=np.random.rand(255),\n",
    "    win=win,\n",
    "    name='new_trace',\n",
    ")"
   ]
  },
  {
   "cell_type": "markdown",
   "metadata": {
    "deletable": true,
    "editable": true,
    "heading_collapsed": true
   },
   "source": [
    "### contour"
   ]
  },
  {
   "cell_type": "code",
   "execution_count": 33,
   "metadata": {
    "ExecuteTime": {
     "end_time": "2017-04-10T14:03:50.545594Z",
     "start_time": "2017-04-10T23:03:50.494659+09:00"
    },
    "collapsed": true,
    "deletable": true,
    "editable": true,
    "hidden": true
   },
   "outputs": [],
   "source": [
    "# contour\n",
    "x = np.tile(np.arange(1, 101), (100, 1))\n",
    "y = x.transpose()\n",
    "X = np.exp((((x - 50) ** 2) + ((y - 50) ** 2)) / -(20.0 ** 2))\n",
    "viz.contour(X=X, opts=dict(colormap='Viridis'))"
   ]
  },
  {
   "cell_type": "markdown",
   "metadata": {
    "deletable": true,
    "editable": true,
    "heading_collapsed": true
   },
   "source": [
    "### surface"
   ]
  },
  {
   "cell_type": "code",
   "execution_count": 34,
   "metadata": {
    "ExecuteTime": {
     "end_time": "2017-04-10T14:03:50.582330Z",
     "start_time": "2017-04-10T23:03:50.547648+09:00"
    },
    "collapsed": true,
    "deletable": true,
    "editable": true,
    "hidden": true
   },
   "outputs": [],
   "source": [
    "# surface\n",
    "viz.surf(X=X, opts=dict(colormap='Hot'))"
   ]
  },
  {
   "cell_type": "markdown",
   "metadata": {
    "deletable": true,
    "editable": true,
    "heading_collapsed": true
   },
   "source": [
    "### stem"
   ]
  },
  {
   "cell_type": "code",
   "execution_count": 35,
   "metadata": {
    "ExecuteTime": {
     "end_time": "2017-04-10T14:03:50.619670Z",
     "start_time": "2017-04-10T23:03:50.584494+09:00"
    },
    "collapsed": false,
    "deletable": true,
    "editable": true,
    "hidden": true
   },
   "outputs": [
    {
     "data": {
      "text/plain": [
       "'pane_350024728a434c'"
      ]
     },
     "execution_count": 35,
     "metadata": {},
     "output_type": "execute_result"
    }
   ],
   "source": [
    "# stemplot\n",
    "Y = np.linspace(0, 2 * math.pi, 70)\n",
    "X = np.column_stack((np.sin(Y), np.cos(Y)))\n",
    "viz.stem(\n",
    "    X=X,\n",
    "    Y=Y,\n",
    "    opts=dict(legend=['Sine', 'Cosine'])\n",
    ")"
   ]
  },
  {
   "cell_type": "markdown",
   "metadata": {
    "deletable": true,
    "editable": true,
    "heading_collapsed": true
   },
   "source": [
    "### mesh"
   ]
  },
  {
   "cell_type": "code",
   "execution_count": 36,
   "metadata": {
    "ExecuteTime": {
     "end_time": "2017-04-10T14:03:50.667668Z",
     "start_time": "2017-04-10T23:03:50.621836+09:00"
    },
    "collapsed": false,
    "deletable": true,
    "editable": true,
    "hidden": true
   },
   "outputs": [
    {
     "data": {
      "text/plain": [
       "'pane_3500247291723c'"
      ]
     },
     "execution_count": 36,
     "metadata": {},
     "output_type": "execute_result"
    }
   ],
   "source": [
    "# mesh plot\n",
    "x = [0, 0, 1, 1, 0, 0, 1, 1]\n",
    "y = [0, 1, 1, 0, 0, 1, 1, 0]\n",
    "z = [0, 0, 0, 0, 1, 1, 1, 1]\n",
    "X = np.c_[x, y, z]\n",
    "i = [7, 0, 0, 0, 4, 4, 6, 6, 4, 0, 3, 2]\n",
    "j = [3, 4, 1, 2, 5, 6, 5, 2, 0, 1, 6, 3]\n",
    "k = [0, 7, 2, 3, 6, 7, 1, 1, 5, 5, 7, 6]\n",
    "Y = np.c_[i, j, k]\n",
    "viz.mesh(X=X, Y=Y, opts=dict(opacity=0.5))"
   ]
  },
  {
   "cell_type": "markdown",
   "metadata": {},
   "source": [
    "### terminate"
   ]
  },
  {
   "cell_type": "code",
   "execution_count": 37,
   "metadata": {
    "ExecuteTime": {
     "end_time": "2017-04-10T14:06:08.945466Z",
     "start_time": "2017-04-10T23:06:08.942476+09:00"
    },
    "collapsed": true
   },
   "outputs": [],
   "source": [
    "proc.terminate()"
   ]
  }
 ],
 "metadata": {
  "kernelspec": {
   "display_name": "Python [conda env:pydata]",
   "language": "python",
   "name": "conda-env-pydata-py"
  },
  "language_info": {
   "codemirror_mode": {
    "name": "ipython",
    "version": 3
   },
   "file_extension": ".py",
   "mimetype": "text/x-python",
   "name": "python",
   "nbconvert_exporter": "python",
   "pygments_lexer": "ipython3",
   "version": "3.5.2"
  }
 },
 "nbformat": 4,
 "nbformat_minor": 2
}
