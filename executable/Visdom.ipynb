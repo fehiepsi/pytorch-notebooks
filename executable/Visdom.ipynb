{
 "cells": [
  {
   "cell_type": "markdown",
   "metadata": {},
   "source": [
    "Source: https://github.com/facebookresearch/visdom/tree/master/example"
   ]
  },
  {
   "cell_type": "markdown",
   "metadata": {},
   "source": [
    "### setup"
   ]
  },
  {
   "cell_type": "code",
   "execution_count": 1,
   "metadata": {
    "ExecuteTime": {
     "end_time": "2017-04-06T19:51:43.955818Z",
     "start_time": "2017-04-07T04:51:43.950853+09:00"
    },
    "collapsed": true
   },
   "outputs": [],
   "source": [
    "import os\n",
    "import math\n",
    "import subprocess\n",
    "import time"
   ]
  },
  {
   "cell_type": "code",
   "execution_count": 2,
   "metadata": {
    "ExecuteTime": {
     "end_time": "2017-04-06T19:51:44.064618Z",
     "start_time": "2017-04-07T04:51:43.957623+09:00"
    },
    "collapsed": true
   },
   "outputs": [],
   "source": [
    "import numpy as np"
   ]
  },
  {
   "cell_type": "code",
   "execution_count": 3,
   "metadata": {
    "ExecuteTime": {
     "end_time": "2017-04-06T19:51:44.132948Z",
     "start_time": "2017-04-07T04:51:44.066876+09:00"
    },
    "collapsed": true
   },
   "outputs": [],
   "source": [
    "from visdom import Visdom"
   ]
  },
  {
   "cell_type": "code",
   "execution_count": 4,
   "metadata": {
    "ExecuteTime": {
     "end_time": "2017-04-06T19:51:45.142622Z",
     "start_time": "2017-04-07T04:51:44.134954+09:00"
    },
    "collapsed": false
   },
   "outputs": [],
   "source": [
    "# start the server at port 8097\n",
    "proc = subprocess.Popen([\"python\", \"-m\", \"visdom.server\"])\n",
    "time.sleep(1)"
   ]
  },
  {
   "cell_type": "code",
   "execution_count": 5,
   "metadata": {
    "ExecuteTime": {
     "end_time": "2017-04-06T19:51:45.349540Z",
     "start_time": "2017-04-07T04:51:45.144827+09:00"
    },
    "collapsed": false
   },
   "outputs": [],
   "source": [
    "# class to communicate with the server\n",
    "viz = Visdom()"
   ]
  },
  {
   "cell_type": "markdown",
   "metadata": {},
   "source": [
    "### text"
   ]
  },
  {
   "cell_type": "code",
   "execution_count": 6,
   "metadata": {
    "ExecuteTime": {
     "end_time": "2017-04-06T19:51:45.362370Z",
     "start_time": "2017-04-07T04:51:45.351755+09:00"
    },
    "collapsed": false
   },
   "outputs": [],
   "source": [
    "textwindow = viz.text('Hello World!')"
   ]
  },
  {
   "cell_type": "markdown",
   "metadata": {},
   "source": [
    "### close"
   ]
  },
  {
   "cell_type": "code",
   "execution_count": 7,
   "metadata": {
    "ExecuteTime": {
     "end_time": "2017-04-06T19:51:45.429298Z",
     "start_time": "2017-04-07T04:51:45.364410+09:00"
    },
    "collapsed": false
   },
   "outputs": [
    {
     "data": {
      "text/plain": [
       "''"
      ]
     },
     "execution_count": 7,
     "metadata": {},
     "output_type": "execute_result"
    }
   ],
   "source": [
    "# close text window:\n",
    "viz.close(win=textwindow)"
   ]
  },
  {
   "cell_type": "markdown",
   "metadata": {},
   "source": [
    "### image"
   ]
  },
  {
   "cell_type": "code",
   "execution_count": 8,
   "metadata": {
    "ExecuteTime": {
     "end_time": "2017-04-06T19:51:45.493496Z",
     "start_time": "2017-04-07T04:51:45.431429+09:00"
    },
    "collapsed": false
   },
   "outputs": [
    {
     "data": {
      "text/plain": [
       "'pane_34fd30634833f6'"
      ]
     },
     "execution_count": 8,
     "metadata": {},
     "output_type": "execute_result"
    }
   ],
   "source": [
    "# image demo\n",
    "viz.image(\n",
    "    np.random.rand(3, 512, 256),\n",
    "    opts=dict(title='Random!', caption='How random.'),\n",
    ")"
   ]
  },
  {
   "cell_type": "markdown",
   "metadata": {},
   "source": [
    "### svg"
   ]
  },
  {
   "cell_type": "code",
   "execution_count": 9,
   "metadata": {
    "ExecuteTime": {
     "end_time": "2017-04-06T19:51:45.505946Z",
     "start_time": "2017-04-07T04:51:45.495696+09:00"
    },
    "collapsed": false
   },
   "outputs": [
    {
     "data": {
      "text/plain": [
       "'pane_34fd30634a3032'"
      ]
     },
     "execution_count": 9,
     "metadata": {},
     "output_type": "execute_result"
    }
   ],
   "source": [
    "# SVG plotting\n",
    "svgstr = \"\"\"\n",
    "<svg height=\"300\" width=\"300\">\n",
    "  <ellipse cx=\"80\" cy=\"80\" rx=\"50\" ry=\"30\"\n",
    "   style=\"fill:red;stroke:purple;stroke-width:2\" />\n",
    "  Sorry, your browser does not support inline SVG.\n",
    "</svg>\n",
    "\"\"\"\n",
    "viz.svg(\n",
    "    svgstr=svgstr,\n",
    "    opts=dict(title='Example of SVG Rendering')\n",
    ")"
   ]
  },
  {
   "cell_type": "markdown",
   "metadata": {},
   "source": [
    "### video"
   ]
  },
  {
   "cell_type": "code",
   "execution_count": 10,
   "metadata": {
    "ExecuteTime": {
     "end_time": "2017-04-06T19:51:45.538969Z",
     "start_time": "2017-04-07T04:51:45.508161+09:00"
    },
    "collapsed": false
   },
   "outputs": [],
   "source": [
    "videofile = '../data/trailer.ogv'\n",
    "if not os.path.isfile(videofile):\n",
    "    subprocess.run([\"curl\", \"http://media.w3.org/2010/05/sintel/trailer.ogv\",\n",
    "                    \"-o\", videofile])"
   ]
  },
  {
   "cell_type": "code",
   "execution_count": 11,
   "metadata": {
    "ExecuteTime": {
     "end_time": "2017-04-06T19:51:45.583965Z",
     "start_time": "2017-04-07T04:51:45.541336+09:00"
    },
    "collapsed": false
   },
   "outputs": [],
   "source": [
    "# video demo:\n",
    "try:\n",
    "    video = np.empty([256, 250, 250, 3], dtype=np.uint8)\n",
    "    for n in range(256):\n",
    "        video[n, :, :, :].fill(n)\n",
    "    #viz.video(tensor=video)\n",
    "\n",
    "    # video demo: download video from http://media.w3.org/2010/05/sintel/trailer.ogv\n",
    "    if os.path.isfile(videofile):\n",
    "        pass\n",
    "        #viz.video(videofile=videofile)\n",
    "except ImportError:\n",
    "    print('Skipped video example')"
   ]
  },
  {
   "cell_type": "markdown",
   "metadata": {},
   "source": [
    "### line"
   ]
  },
  {
   "cell_type": "code",
   "execution_count": 12,
   "metadata": {
    "ExecuteTime": {
     "end_time": "2017-04-06T19:51:45.620695Z",
     "start_time": "2017-04-07T04:51:45.586065+09:00"
    },
    "collapsed": false
   },
   "outputs": [
    {
     "data": {
      "text/plain": [
       "'pane_34fd30635bb9fa'"
      ]
     },
     "execution_count": 12,
     "metadata": {},
     "output_type": "execute_result"
    }
   ],
   "source": [
    "# line plots\n",
    "viz.line(Y=np.random.rand(10))"
   ]
  },
  {
   "cell_type": "code",
   "execution_count": 13,
   "metadata": {
    "ExecuteTime": {
     "end_time": "2017-04-06T19:51:45.653745Z",
     "start_time": "2017-04-07T04:51:45.622800+09:00"
    },
    "collapsed": false
   },
   "outputs": [
    {
     "data": {
      "text/plain": [
       "'pane_34fd306360afea'"
      ]
     },
     "execution_count": 13,
     "metadata": {},
     "output_type": "execute_result"
    }
   ],
   "source": [
    "Y = np.linspace(-5, 5, 100)\n",
    "viz.line(\n",
    "    Y=np.column_stack((Y * Y, np.sqrt(Y + 5))),\n",
    "    X=np.column_stack((Y, Y)),\n",
    "    opts=dict(markers=False),\n",
    ")"
   ]
  },
  {
   "cell_type": "code",
   "execution_count": 14,
   "metadata": {
    "ExecuteTime": {
     "end_time": "2017-04-06T19:51:45.687516Z",
     "start_time": "2017-04-07T04:51:45.655744+09:00"
    },
    "collapsed": true
   },
   "outputs": [],
   "source": [
    "# line updates\n",
    "win = viz.line(\n",
    "    X=np.column_stack((np.arange(0, 10), np.arange(0, 10))),\n",
    "    Y=np.column_stack((np.linspace(5, 10, 10), np.linspace(5, 10, 10) + 5)),\n",
    ")"
   ]
  },
  {
   "cell_type": "code",
   "execution_count": 15,
   "metadata": {
    "ExecuteTime": {
     "end_time": "2017-04-06T19:51:45.724451Z",
     "start_time": "2017-04-07T04:51:45.691350+09:00"
    },
    "collapsed": false
   },
   "outputs": [
    {
     "data": {
      "text/plain": [
       "'pane_34fd30636626ca'"
      ]
     },
     "execution_count": 15,
     "metadata": {},
     "output_type": "execute_result"
    }
   ],
   "source": [
    "viz.line(\n",
    "    X=np.column_stack((np.arange(10, 20), np.arange(10, 20))),\n",
    "    Y=np.column_stack((np.linspace(5, 10, 10), np.linspace(5, 10, 10) + 5)),\n",
    "    win=win,\n",
    "    update='append'\n",
    ")"
   ]
  },
  {
   "cell_type": "code",
   "execution_count": 16,
   "metadata": {
    "ExecuteTime": {
     "end_time": "2017-04-06T19:51:45.766647Z",
     "start_time": "2017-04-07T04:51:45.726605+09:00"
    },
    "collapsed": false
   },
   "outputs": [
    {
     "data": {
      "text/plain": [
       "'pane_34fd30636626ca'"
      ]
     },
     "execution_count": 16,
     "metadata": {},
     "output_type": "execute_result"
    }
   ],
   "source": [
    "viz.updateTrace(\n",
    "    X=np.arange(21, 30),\n",
    "    Y=np.arange(1, 10),\n",
    "    win=win,\n",
    "    name='2'\n",
    ")"
   ]
  },
  {
   "cell_type": "code",
   "execution_count": 17,
   "metadata": {
    "ExecuteTime": {
     "end_time": "2017-04-06T19:51:45.808973Z",
     "start_time": "2017-04-07T04:51:45.768734+09:00"
    },
    "collapsed": false
   },
   "outputs": [
    {
     "data": {
      "text/plain": [
       "'pane_34fd30636626ca'"
      ]
     },
     "execution_count": 17,
     "metadata": {},
     "output_type": "execute_result"
    }
   ],
   "source": [
    "viz.updateTrace(\n",
    "    X=np.arange(1, 10),\n",
    "    Y=np.arange(11, 20),\n",
    "    win=win,\n",
    "    name='4'\n",
    ")"
   ]
  },
  {
   "cell_type": "code",
   "execution_count": 18,
   "metadata": {
    "ExecuteTime": {
     "end_time": "2017-04-06T19:51:45.851755Z",
     "start_time": "2017-04-07T04:51:45.811199+09:00"
    },
    "collapsed": true
   },
   "outputs": [],
   "source": [
    "Y = np.linspace(0, 4, 200)\n",
    "win = viz.line(\n",
    "    Y=np.column_stack((np.sqrt(Y), np.sqrt(Y) + 2)),\n",
    "    X=np.column_stack((Y, Y)),\n",
    "    opts=dict(\n",
    "        fillarea=True,\n",
    "        legend=False,\n",
    "        width=400,\n",
    "        height=400,\n",
    "        xlabel='Time',\n",
    "        ylabel='Volume',\n",
    "        ytype='log',\n",
    "        title='Stacked area plot',\n",
    "        marginleft=30,\n",
    "        marginright=30,\n",
    "        marginbottom=80,\n",
    "        margintop=30,\n",
    "    ),\n",
    ")"
   ]
  },
  {
   "cell_type": "markdown",
   "metadata": {},
   "source": [
    "### pytorch"
   ]
  },
  {
   "cell_type": "code",
   "execution_count": 19,
   "metadata": {
    "ExecuteTime": {
     "end_time": "2017-04-06T19:51:45.878575Z",
     "start_time": "2017-04-07T04:51:45.853880+09:00"
    },
    "collapsed": true
   },
   "outputs": [],
   "source": [
    "# PyTorch tensor\n",
    "try:\n",
    "    import torch\n",
    "    viz.line(Y=torch.Tensor([[0., 0.], [1., 1.]]))\n",
    "except ImportError:\n",
    "    print('Skipped PyTorch example')"
   ]
  },
  {
   "cell_type": "markdown",
   "metadata": {},
   "source": [
    "### bar"
   ]
  },
  {
   "cell_type": "code",
   "execution_count": 20,
   "metadata": {
    "ExecuteTime": {
     "end_time": "2017-04-06T19:51:45.922508Z",
     "start_time": "2017-04-07T04:51:45.880411+09:00"
    },
    "collapsed": false
   },
   "outputs": [
    {
     "data": {
      "text/plain": [
       "'pane_34fd306389c818'"
      ]
     },
     "execution_count": 20,
     "metadata": {},
     "output_type": "execute_result"
    }
   ],
   "source": [
    "# bar plots\n",
    "viz.bar(X=np.random.rand(20))"
   ]
  },
  {
   "cell_type": "code",
   "execution_count": 21,
   "metadata": {
    "ExecuteTime": {
     "end_time": "2017-04-06T19:51:45.965196Z",
     "start_time": "2017-04-07T04:51:45.924637+09:00"
    },
    "collapsed": false
   },
   "outputs": [
    {
     "data": {
      "text/plain": [
       "'pane_34fd3063903792'"
      ]
     },
     "execution_count": 21,
     "metadata": {},
     "output_type": "execute_result"
    }
   ],
   "source": [
    "viz.bar(\n",
    "    X=np.abs(np.random.rand(5, 3)),\n",
    "    opts=dict(\n",
    "        stacked=True,\n",
    "        legend=['Facebook', 'Google', 'Twitter'],\n",
    "        rownames=['2012', '2013', '2014', '2015', '2016']\n",
    "    )\n",
    ")"
   ]
  },
  {
   "cell_type": "code",
   "execution_count": 22,
   "metadata": {
    "ExecuteTime": {
     "end_time": "2017-04-06T19:51:46.006955Z",
     "start_time": "2017-04-07T04:51:45.967366+09:00"
    },
    "collapsed": false
   },
   "outputs": [
    {
     "data": {
      "text/plain": [
       "'pane_34fd3063969d26'"
      ]
     },
     "execution_count": 22,
     "metadata": {},
     "output_type": "execute_result"
    }
   ],
   "source": [
    "viz.bar(\n",
    "    X=np.random.rand(20, 3),\n",
    "    opts=dict(\n",
    "        stacked=False,\n",
    "        legend=['The Netherlands', 'France', 'United States']\n",
    "    )\n",
    ")"
   ]
  },
  {
   "cell_type": "markdown",
   "metadata": {},
   "source": [
    "### histogram"
   ]
  },
  {
   "cell_type": "code",
   "execution_count": 23,
   "metadata": {
    "ExecuteTime": {
     "end_time": "2017-04-06T19:51:46.062731Z",
     "start_time": "2017-04-07T04:51:46.009032+09:00"
    },
    "collapsed": false
   },
   "outputs": [
    {
     "data": {
      "text/plain": [
       "'pane_34fd30639f2538'"
      ]
     },
     "execution_count": 23,
     "metadata": {},
     "output_type": "execute_result"
    }
   ],
   "source": [
    "# histogram\n",
    "viz.histogram(X=np.random.rand(10000), opts=dict(numbins=20))"
   ]
  },
  {
   "cell_type": "markdown",
   "metadata": {},
   "source": [
    "### pie"
   ]
  },
  {
   "cell_type": "code",
   "execution_count": 24,
   "metadata": {
    "ExecuteTime": {
     "end_time": "2017-04-06T19:51:46.102735Z",
     "start_time": "2017-04-07T04:51:46.064823+09:00"
    },
    "collapsed": false
   },
   "outputs": [
    {
     "data": {
      "text/plain": [
       "'pane_34fd3063a53ede'"
      ]
     },
     "execution_count": 24,
     "metadata": {},
     "output_type": "execute_result"
    }
   ],
   "source": [
    "# pie chart\n",
    "X = np.asarray([19, 26, 55])\n",
    "viz.pie(\n",
    "    X=X,\n",
    "    opts=dict(legend=['Residential', 'Non-Residential', 'Utility'])\n",
    ")"
   ]
  },
  {
   "cell_type": "markdown",
   "metadata": {},
   "source": [
    "### heatmap"
   ]
  },
  {
   "cell_type": "code",
   "execution_count": 25,
   "metadata": {
    "ExecuteTime": {
     "end_time": "2017-04-06T19:51:46.139142Z",
     "start_time": "2017-04-07T04:51:46.104481+09:00"
    },
    "collapsed": false
   },
   "outputs": [
    {
     "data": {
      "text/plain": [
       "'pane_34fd3063aac23a'"
      ]
     },
     "execution_count": 25,
     "metadata": {},
     "output_type": "execute_result"
    }
   ],
   "source": [
    "# heatmap\n",
    "viz.heatmap(\n",
    "    X=np.outer(np.arange(1, 6), np.arange(1, 11)),\n",
    "    opts=dict(\n",
    "        columnnames=['a', 'b', 'c', 'd', 'e', 'f', 'g', 'h', 'i', 'j'],\n",
    "        rownames=['y1', 'y2', 'y3', 'y4', 'y5'],\n",
    "        colormap='Electric',\n",
    "    )\n",
    ")"
   ]
  },
  {
   "cell_type": "markdown",
   "metadata": {},
   "source": [
    "### boxplot"
   ]
  },
  {
   "cell_type": "code",
   "execution_count": 26,
   "metadata": {
    "ExecuteTime": {
     "end_time": "2017-04-06T19:51:46.175254Z",
     "start_time": "2017-04-07T04:51:46.141193+09:00"
    },
    "collapsed": false
   },
   "outputs": [
    {
     "data": {
      "text/plain": [
       "'pane_34fd3063b04d5a'"
      ]
     },
     "execution_count": 26,
     "metadata": {},
     "output_type": "execute_result"
    }
   ],
   "source": [
    "# boxplot\n",
    "X = np.random.rand(100, 2)\n",
    "X[:, 1] += 2\n",
    "viz.boxplot(\n",
    "    X=X,\n",
    "    opts=dict(legend=['Men', 'Women'])\n",
    ")"
   ]
  },
  {
   "cell_type": "markdown",
   "metadata": {},
   "source": [
    "### scatter"
   ]
  },
  {
   "cell_type": "code",
   "execution_count": 27,
   "metadata": {
    "ExecuteTime": {
     "end_time": "2017-04-06T19:51:46.212533Z",
     "start_time": "2017-04-07T04:51:46.177091+09:00"
    },
    "collapsed": false
   },
   "outputs": [
    {
     "data": {
      "text/plain": [
       "'pane_34fd3063b5e83a'"
      ]
     },
     "execution_count": 27,
     "metadata": {},
     "output_type": "execute_result"
    }
   ],
   "source": [
    "# scatter plots\n",
    "Y = np.random.rand(100)\n",
    "viz.scatter(\n",
    "    X=np.random.rand(100, 2),\n",
    "    Y=(Y[Y > 0] + 1.5).astype(int),\n",
    "    opts=dict(\n",
    "        legend=['Apples', 'Pears'],\n",
    "        xtickmin=-5,\n",
    "        xtickmax=5,\n",
    "        xtickstep=0.5,\n",
    "        ytickmin=-5,\n",
    "        ytickmax=5,\n",
    "        ytickstep=0.5,\n",
    "        markersymbol='cross-thin-open',\n",
    "    ),\n",
    ")"
   ]
  },
  {
   "cell_type": "code",
   "execution_count": 28,
   "metadata": {
    "ExecuteTime": {
     "end_time": "2017-04-06T19:51:46.254019Z",
     "start_time": "2017-04-07T04:51:46.214466+09:00"
    },
    "collapsed": false
   },
   "outputs": [
    {
     "data": {
      "text/plain": [
       "'pane_34fd3063bc4d36'"
      ]
     },
     "execution_count": 28,
     "metadata": {},
     "output_type": "execute_result"
    }
   ],
   "source": [
    "viz.scatter(\n",
    "    X=np.random.rand(100, 3),\n",
    "    Y=(Y + 1.5).astype(int),\n",
    "    opts=dict(\n",
    "        legend=['Men', 'Women'],\n",
    "        markersize=5,\n",
    "    )\n",
    ")"
   ]
  },
  {
   "cell_type": "code",
   "execution_count": 29,
   "metadata": {
    "ExecuteTime": {
     "end_time": "2017-04-06T19:51:46.297521Z",
     "start_time": "2017-04-07T04:51:46.255961+09:00"
    },
    "collapsed": false
   },
   "outputs": [
    {
     "data": {
      "text/plain": [
       "'pane_34fd3063c2e760'"
      ]
     },
     "execution_count": 29,
     "metadata": {},
     "output_type": "execute_result"
    }
   ],
   "source": [
    "# 2D scatterplot with custom intensities (red channel)\n",
    "viz.scatter(\n",
    "    X=np.random.rand(255, 2),\n",
    "    Y=(np.random.rand(255) + 1.5).astype(int),\n",
    "    opts=dict(\n",
    "        markersize=10,\n",
    "        markercolor=np.random.randint(0, 255, (2, 3,)),\n",
    "    ),\n",
    ")"
   ]
  },
  {
   "cell_type": "code",
   "execution_count": 30,
   "metadata": {
    "ExecuteTime": {
     "end_time": "2017-04-06T19:51:46.351428Z",
     "start_time": "2017-04-07T04:51:46.299499+09:00"
    },
    "collapsed": false
   },
   "outputs": [
    {
     "data": {
      "text/plain": [
       "'pane_34fd3063cb265e'"
      ]
     },
     "execution_count": 30,
     "metadata": {},
     "output_type": "execute_result"
    }
   ],
   "source": [
    "# 2D scatter plot with custom colors per label:\n",
    "viz.scatter(\n",
    "    X=np.random.rand(255, 2),\n",
    "    Y=(np.random.randn(255) > 0) + 1,\n",
    "    opts=dict(\n",
    "        markersize=10,\n",
    "        markercolor=np.floor(np.random.random((2, 3)) * 255),\n",
    "    ),\n",
    ")"
   ]
  },
  {
   "cell_type": "code",
   "execution_count": 31,
   "metadata": {
    "ExecuteTime": {
     "end_time": "2017-04-06T19:51:46.391222Z",
     "start_time": "2017-04-07T04:51:46.353575+09:00"
    },
    "collapsed": true
   },
   "outputs": [],
   "source": [
    "win = viz.scatter(\n",
    "    X=np.random.rand(255, 2),\n",
    "    opts=dict(\n",
    "        markersize=10,\n",
    "        markercolor=np.random.randint(0, 255, (255, 3,)),\n",
    "    ),\n",
    ")"
   ]
  },
  {
   "cell_type": "code",
   "execution_count": 32,
   "metadata": {
    "ExecuteTime": {
     "end_time": "2017-04-06T19:51:46.427707Z",
     "start_time": "2017-04-07T04:51:46.393489+09:00"
    },
    "collapsed": false
   },
   "outputs": [
    {
     "data": {
      "text/plain": [
       "'pane_34fd3063d18aa4'"
      ]
     },
     "execution_count": 32,
     "metadata": {},
     "output_type": "execute_result"
    }
   ],
   "source": [
    "# add new trace to scatter plot\n",
    "viz.updateTrace(\n",
    "    X=np.random.rand(255),\n",
    "    Y=np.random.rand(255),\n",
    "    win=win,\n",
    "    name='new_trace',\n",
    ")"
   ]
  },
  {
   "cell_type": "markdown",
   "metadata": {},
   "source": [
    "### contour"
   ]
  },
  {
   "cell_type": "code",
   "execution_count": 33,
   "metadata": {
    "ExecuteTime": {
     "end_time": "2017-04-06T19:51:46.498758Z",
     "start_time": "2017-04-07T04:51:46.429874+09:00"
    },
    "collapsed": true
   },
   "outputs": [],
   "source": [
    "# contour\n",
    "x = np.tile(np.arange(1, 101), (100, 1))\n",
    "y = x.transpose()\n",
    "X = np.exp((((x - 50) ** 2) + ((y - 50) ** 2)) / -(20.0 ** 2))\n",
    "viz.contour(X=X, opts=dict(colormap='Viridis'))"
   ]
  },
  {
   "cell_type": "markdown",
   "metadata": {},
   "source": [
    "### surface"
   ]
  },
  {
   "cell_type": "code",
   "execution_count": 34,
   "metadata": {
    "ExecuteTime": {
     "end_time": "2017-04-06T19:51:46.540324Z",
     "start_time": "2017-04-07T04:51:46.500900+09:00"
    },
    "collapsed": true
   },
   "outputs": [],
   "source": [
    "# surface\n",
    "viz.surf(X=X, opts=dict(colormap='Hot'))"
   ]
  },
  {
   "cell_type": "markdown",
   "metadata": {},
   "source": [
    "### stem"
   ]
  },
  {
   "cell_type": "code",
   "execution_count": 35,
   "metadata": {
    "ExecuteTime": {
     "end_time": "2017-04-06T19:51:46.579430Z",
     "start_time": "2017-04-07T04:51:46.542590+09:00"
    },
    "collapsed": false
   },
   "outputs": [
    {
     "data": {
      "text/plain": [
       "'pane_34fd3063edf494'"
      ]
     },
     "execution_count": 35,
     "metadata": {},
     "output_type": "execute_result"
    }
   ],
   "source": [
    "# stemplot\n",
    "Y = np.linspace(0, 2 * math.pi, 70)\n",
    "X = np.column_stack((np.sin(Y), np.cos(Y)))\n",
    "viz.stem(\n",
    "    X=X,\n",
    "    Y=Y,\n",
    "    opts=dict(legend=['Sine', 'Cosine'])\n",
    ")"
   ]
  },
  {
   "cell_type": "markdown",
   "metadata": {},
   "source": [
    "### mesh"
   ]
  },
  {
   "cell_type": "code",
   "execution_count": 38,
   "metadata": {
    "ExecuteTime": {
     "end_time": "2017-04-06T19:53:24.010843Z",
     "start_time": "2017-04-07T04:53:23.880616+09:00"
    },
    "collapsed": false
   },
   "outputs": [
    {
     "ename": "AttributeError",
     "evalue": "'Visdom' object has no attribute 'mesh'",
     "output_type": "error",
     "traceback": [
      "\u001b[0;31m-------------------------------------------------------------------\u001b[0m",
      "\u001b[0;31mAttributeError\u001b[0m                    Traceback (most recent call last)",
      "\u001b[0;32m<ipython-input-38-acc300a9cb59>\u001b[0m in \u001b[0;36m<module>\u001b[0;34m()\u001b[0m\n\u001b[1;32m      8\u001b[0m \u001b[0mk\u001b[0m \u001b[0;34m=\u001b[0m \u001b[0;34m[\u001b[0m\u001b[0;36m0\u001b[0m\u001b[0;34m,\u001b[0m \u001b[0;36m7\u001b[0m\u001b[0;34m,\u001b[0m \u001b[0;36m2\u001b[0m\u001b[0;34m,\u001b[0m \u001b[0;36m3\u001b[0m\u001b[0;34m,\u001b[0m \u001b[0;36m6\u001b[0m\u001b[0;34m,\u001b[0m \u001b[0;36m7\u001b[0m\u001b[0;34m,\u001b[0m \u001b[0;36m1\u001b[0m\u001b[0;34m,\u001b[0m \u001b[0;36m1\u001b[0m\u001b[0;34m,\u001b[0m \u001b[0;36m5\u001b[0m\u001b[0;34m,\u001b[0m \u001b[0;36m5\u001b[0m\u001b[0;34m,\u001b[0m \u001b[0;36m7\u001b[0m\u001b[0;34m,\u001b[0m \u001b[0;36m6\u001b[0m\u001b[0;34m]\u001b[0m\u001b[0;34m\u001b[0m\u001b[0m\n\u001b[1;32m      9\u001b[0m \u001b[0mY\u001b[0m \u001b[0;34m=\u001b[0m \u001b[0mnp\u001b[0m\u001b[0;34m.\u001b[0m\u001b[0mc_\u001b[0m\u001b[0;34m[\u001b[0m\u001b[0mi\u001b[0m\u001b[0;34m,\u001b[0m \u001b[0mj\u001b[0m\u001b[0;34m,\u001b[0m \u001b[0mk\u001b[0m\u001b[0;34m]\u001b[0m\u001b[0;34m\u001b[0m\u001b[0m\n\u001b[0;32m---> 10\u001b[0;31m \u001b[0mviz\u001b[0m\u001b[0;34m.\u001b[0m\u001b[0mmesh\u001b[0m\u001b[0;34m(\u001b[0m\u001b[0mX\u001b[0m\u001b[0;34m=\u001b[0m\u001b[0mX\u001b[0m\u001b[0;34m,\u001b[0m \u001b[0mY\u001b[0m\u001b[0;34m=\u001b[0m\u001b[0mY\u001b[0m\u001b[0;34m,\u001b[0m \u001b[0mopts\u001b[0m\u001b[0;34m=\u001b[0m\u001b[0mdict\u001b[0m\u001b[0;34m(\u001b[0m\u001b[0mopacity\u001b[0m\u001b[0;34m=\u001b[0m\u001b[0;36m0.5\u001b[0m\u001b[0;34m)\u001b[0m\u001b[0;34m)\u001b[0m\u001b[0;34m\u001b[0m\u001b[0m\n\u001b[0m",
      "\u001b[0;31mAttributeError\u001b[0m: 'Visdom' object has no attribute 'mesh'"
     ]
    }
   ],
   "source": [
    "# mesh plot\n",
    "x = [0, 0, 1, 1, 0, 0, 1, 1]\n",
    "y = [0, 1, 1, 0, 0, 1, 1, 0]\n",
    "z = [0, 0, 0, 0, 1, 1, 1, 1]\n",
    "X = np.c_[x, y, z]\n",
    "i = [7, 0, 0, 0, 4, 4, 6, 6, 4, 0, 3, 2]\n",
    "j = [3, 4, 1, 2, 5, 6, 5, 2, 0, 1, 6, 3]\n",
    "k = [0, 7, 2, 3, 6, 7, 1, 1, 5, 5, 7, 6]\n",
    "Y = np.c_[i, j, k]\n",
    "#viz.mesh(X=X, Y=Y, opts=dict(opacity=0.5))"
   ]
  },
  {
   "cell_type": "markdown",
   "metadata": {},
   "source": [
    "### terminate"
   ]
  },
  {
   "cell_type": "code",
   "execution_count": 37,
   "metadata": {
    "ExecuteTime": {
     "end_time": "2017-04-06T19:51:46.654747Z",
     "start_time": "2017-04-07T04:51:46.621628+09:00"
    },
    "collapsed": true
   },
   "outputs": [],
   "source": [
    "#proc.terminate()"
   ]
  }
 ],
 "metadata": {
  "kernelspec": {
   "display_name": "Python [conda env:pydata]",
   "language": "python",
   "name": "conda-env-pydata-py"
  },
  "language_info": {
   "codemirror_mode": {
    "name": "ipython",
    "version": 3
   },
   "file_extension": ".py",
   "mimetype": "text/x-python",
   "name": "python",
   "nbconvert_exporter": "python",
   "pygments_lexer": "ipython3",
   "version": "3.5.2"
  }
 },
 "nbformat": 4,
 "nbformat_minor": 2
}
